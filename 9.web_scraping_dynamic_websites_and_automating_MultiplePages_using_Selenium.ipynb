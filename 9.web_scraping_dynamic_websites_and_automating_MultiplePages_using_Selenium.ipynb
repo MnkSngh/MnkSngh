{
 "cells": [
  {
   "cell_type": "markdown",
   "id": "b9a7b840",
   "metadata": {},
   "source": [
    "## Author - Mayank Singh\n",
    "Data Analyst|MySQL|Python|Web Crawling and Scraping |EDA|Visualization|CBAP|Agile Cert"
   ]
  },
  {
   "cell_type": "code",
   "execution_count": 1,
   "id": "d7f96ca6",
   "metadata": {},
   "outputs": [],
   "source": [
    "import requests\n",
    "from bs4 import BeautifulSoup\n",
    "from selenium import webdriver\n",
    "from webdriver_manager.chrome import ChromeDriverManager\n",
    "driver = webdriver.Chrome(ChromeDriverManager().install())\n",
    "import time"
   ]
  },
  {
   "cell_type": "code",
   "execution_count": 2,
   "id": "bae249cc",
   "metadata": {},
   "outputs": [],
   "source": [
    "url = 'https://www.scrapethissite.com/pages/ajax-javascript/'"
   ]
  },
  {
   "cell_type": "code",
   "execution_count": 3,
   "id": "3334c9bd",
   "metadata": {},
   "outputs": [],
   "source": [
    "driver.get(url)"
   ]
  },
  {
   "cell_type": "code",
   "execution_count": 4,
   "id": "38859d11",
   "metadata": {},
   "outputs": [],
   "source": [
    "time.sleep(5) \n",
    "  \n",
    "html = driver.page_source"
   ]
  },
  {
   "cell_type": "code",
   "execution_count": 5,
   "id": "81a88185",
   "metadata": {},
   "outputs": [],
   "source": [
    "soup = BeautifulSoup(html, \"html.parser\")"
   ]
  },
  {
   "cell_type": "code",
   "execution_count": 6,
   "id": "577227ac",
   "metadata": {},
   "outputs": [],
   "source": [
    "# soup"
   ]
  },
  {
   "cell_type": "code",
   "execution_count": 7,
   "id": "37008c52",
   "metadata": {},
   "outputs": [
    {
     "name": "stdout",
     "output_type": "stream",
     "text": [
      "Year is  2015\n",
      "Spotlight   6 2\n",
      "Mad Max: Fury Road  10 6\n",
      "The Revenant    12 3\n",
      "Bridge of Spies 6 1\n",
      "The Big Short   5 1\n",
      "The Danish Girl 4 1\n",
      "Room    4 1\n",
      "Ex Machina  2 1\n",
      "The Hateful Eight   2 1\n",
      "Inside Out  2 1\n",
      "Amy 1 1\n",
      "Bear Story  1 1\n",
      "A Girl in the River: The Price of Forgiveness   1 1\n",
      "Son of Saul 1 1\n",
      "Spectre 1 1\n",
      "Stutterer   1 1\n",
      "Year is  2014\n",
      "Birdman 9 4\n",
      "The Grand Budapest Hotel 9 4\n",
      "Whiplash 5 3\n",
      "The Imitation Game 8 1\n",
      "American Sniper 6 1\n",
      "Boyhood 6 1\n",
      "Interstellar 5 1\n",
      "The Theory of Everything 5 1\n",
      "Ida 2 1\n",
      "Selma 2 1\n",
      "Citizenfour 1 1\n",
      "Big Hero 6 1 1\n",
      "Crisis Hotline: Veterans Press 1 1 1\n",
      "The Phone Call 1 1\n",
      "Still Alice 1 1\n",
      "Feast 1 1\n",
      "Year is  2013\n",
      "12 Years a Slave 9 3\n",
      "Gravity 10 7\n",
      "Dallas Buyers Club 6 3\n",
      "Frozen 2 2\n",
      "The Great Gatsby 2 2\n",
      "Her 5 1\n",
      "Blue Jasmine 3 1\n",
      "Mr Hublot 1 1\n",
      "The Lady in Number 6: Music Saved My Life 1 1\n",
      "Helium 1 1\n",
      "The Great Beauty 1 1\n",
      "20 Feet from Stardom 1 1\n",
      "Year is  2012\n",
      "Argo 7 3\n",
      "Life of Pi 11 4\n",
      "Les Misérables 8 3\n",
      "Lincoln 12 2\n",
      "Django Unchained 5 2\n",
      "Skyfall 5 2\n",
      "Silver Linings Playbook 8 1\n",
      "Zero Dark Thirty 5 1\n",
      "Amour 5 1\n",
      "Anna Karenina 4 1\n",
      "Paperman 1 1\n",
      "Brave 1 1\n",
      "Searching for Sugar Man 1 1\n",
      "Inocente 1 1\n",
      "Curfew 1 1\n",
      "Year is  2011\n",
      "The Artist 10 5\n",
      "Hugo 11 5\n",
      "The Iron Lady 2 2\n",
      "The Descendants 5 1\n",
      "The Girl with the Dragon Tattoo 5 1\n",
      "Midnight in Paris 4 1\n",
      "The Help 4 1\n",
      "A Separation 2 1\n",
      "The Fantastic Flying Books of Mr. Morris Lessmore 1 1\n",
      "The Shore 1 1\n",
      "Undefeated 1 1\n",
      "The Muppets 1 1\n",
      "Saving Face 1 1\n",
      "Beginners 1 1\n",
      "Rango 1 1\n",
      "Year is  2010\n",
      "The King's Speech 12 4\n",
      "Inception 8 4\n",
      "The Social Network 8 3\n",
      "The Fighter 7 2\n",
      "Toy Story 3 5 2\n",
      "Alice in Wonderland 3 2\n",
      "Black Swan 5 1\n",
      "In a Better World 1 1\n",
      "The Lost Thing 1 1\n",
      "God of Love 1 1\n",
      "The Wolfman 1 1\n",
      "Strangers No More 1 1\n",
      "Inside Job 1 1\n"
     ]
    }
   ],
   "source": [
    "years = soup.find_all('a', class_='year-link')\n",
    "for year in years:\n",
    "    f = year.text\n",
    "    print(\"Year is \", f)\n",
    "    url = f'https://www.scrapethissite.com/pages/ajax-javascript/#{f}'\n",
    "    driver = webdriver.Chrome(ChromeDriverManager().install())\n",
    "    driver.get(url)\n",
    "    time.sleep(5) \n",
    "    html = driver.page_source\n",
    "    soup = BeautifulSoup(html, \"html.parser\")\n",
    "    films = soup.find_all('tr', class_='film')\n",
    "    for i in films:\n",
    "        name = i.find('td', class_ = 'film-title').text\n",
    "        nom = i.find('td', class_ = 'film-nominations').text\n",
    "        awd = i.find('td', class_ = 'film-awards').text\n",
    "        print(name, nom, awd)"
   ]
  }
 ],
 "metadata": {
  "kernelspec": {
   "display_name": "Python 3 (ipykernel)",
   "language": "python",
   "name": "python3"
  },
  "language_info": {
   "codemirror_mode": {
    "name": "ipython",
    "version": 3
   },
   "file_extension": ".py",
   "mimetype": "text/x-python",
   "name": "python",
   "nbconvert_exporter": "python",
   "pygments_lexer": "ipython3",
   "version": "3.10.4"
  }
 },
 "nbformat": 4,
 "nbformat_minor": 5
}
