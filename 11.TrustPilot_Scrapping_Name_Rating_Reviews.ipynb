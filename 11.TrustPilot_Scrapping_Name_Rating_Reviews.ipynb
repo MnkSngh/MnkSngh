{
 "cells": [
  {
   "cell_type": "code",
   "execution_count": 1,
   "id": "67b13c00",
   "metadata": {},
   "outputs": [],
   "source": [
    "import requests\n",
    "from bs4 import BeautifulSoup\n",
    "import time"
   ]
  },
  {
   "cell_type": "code",
   "execution_count": 2,
   "id": "d07e6504",
   "metadata": {},
   "outputs": [],
   "source": [
    "url = 'https://www.trustpilot.com/categories/clothing_store'"
   ]
  },
  {
   "cell_type": "code",
   "execution_count": 3,
   "id": "1e7c07c0",
   "metadata": {},
   "outputs": [],
   "source": [
    "html = requests.get(url)"
   ]
  },
  {
   "cell_type": "code",
   "execution_count": 4,
   "id": "07b41611",
   "metadata": {},
   "outputs": [],
   "source": [
    "data = html.text"
   ]
  },
  {
   "cell_type": "code",
   "execution_count": 5,
   "id": "a61892b3",
   "metadata": {},
   "outputs": [],
   "source": [
    "soup = BeautifulSoup(data,'html.parser')"
   ]
  },
  {
   "cell_type": "code",
   "execution_count": 73,
   "id": "74652ed6",
   "metadata": {},
   "outputs": [],
   "source": [
    "main_class = soup.find_all('p', class_='typography_heading-xs__D8ZZo typography_appearance-default__3vWd5 styles_displayName__1LIcI')"
   ]
  },
  {
   "cell_type": "code",
   "execution_count": 74,
   "id": "c014fa06",
   "metadata": {},
   "outputs": [
    {
     "data": {
      "text/plain": [
       "[<p class=\"typography_heading-xs__D8ZZo typography_appearance-default__3vWd5 styles_displayName__1LIcI\">DavidSW</p>,\n",
       " <p class=\"typography_heading-xs__D8ZZo typography_appearance-default__3vWd5 styles_displayName__1LIcI\">Queensboro</p>,\n",
       " <p class=\"typography_heading-xs__D8ZZo typography_appearance-default__3vWd5 styles_displayName__1LIcI\">Fragrancebuy Canada</p>,\n",
       " <p class=\"typography_heading-xs__D8ZZo typography_appearance-default__3vWd5 styles_displayName__1LIcI\">Tiny Little Monster</p>,\n",
       " <p class=\"typography_heading-xs__D8ZZo typography_appearance-default__3vWd5 styles_displayName__1LIcI\">Brian Gavin Diamonds</p>,\n",
       " <p class=\"typography_heading-xs__D8ZZo typography_appearance-default__3vWd5 styles_displayName__1LIcI\">Custom Patch Hats, LLC</p>,\n",
       " <p class=\"typography_heading-xs__D8ZZo typography_appearance-default__3vWd5 styles_displayName__1LIcI\">CreateMyTee</p>,\n",
       " <p class=\"typography_heading-xs__D8ZZo typography_appearance-default__3vWd5 styles_displayName__1LIcI\">Zdigitizing</p>,\n",
       " <p class=\"typography_heading-xs__D8ZZo typography_appearance-default__3vWd5 styles_displayName__1LIcI\">Elastic by the Yard</p>,\n",
       " <p class=\"typography_heading-xs__D8ZZo typography_appearance-default__3vWd5 styles_displayName__1LIcI\">nonamenerd.com</p>,\n",
       " <p class=\"typography_heading-xs__D8ZZo typography_appearance-default__3vWd5 styles_displayName__1LIcI\">A.K. RIKK's</p>,\n",
       " <p class=\"typography_heading-xs__D8ZZo typography_appearance-default__3vWd5 styles_displayName__1LIcI\">Mothersfamilyrings</p>,\n",
       " <p class=\"typography_heading-xs__D8ZZo typography_appearance-default__3vWd5 styles_displayName__1LIcI\">Oglmove</p>,\n",
       " <p class=\"typography_heading-xs__D8ZZo typography_appearance-default__3vWd5 styles_displayName__1LIcI\">Rincon Trading</p>,\n",
       " <p class=\"typography_heading-xs__D8ZZo typography_appearance-default__3vWd5 styles_displayName__1LIcI\">Runvalli</p>,\n",
       " <p class=\"typography_heading-xs__D8ZZo typography_appearance-default__3vWd5 styles_displayName__1LIcI\">B-Wear Sportswear</p>,\n",
       " <p class=\"typography_heading-xs__D8ZZo typography_appearance-default__3vWd5 styles_displayName__1LIcI\">Chrono24</p>,\n",
       " <p class=\"typography_heading-xs__D8ZZo typography_appearance-default__3vWd5 styles_displayName__1LIcI\">CHO</p>,\n",
       " <p class=\"typography_heading-xs__D8ZZo typography_appearance-default__3vWd5 styles_displayName__1LIcI\">The Pearl Source</p>,\n",
       " <p class=\"typography_heading-xs__D8ZZo typography_appearance-default__3vWd5 styles_displayName__1LIcI\">Holabird Sports</p>]"
      ]
     },
     "execution_count": 74,
     "metadata": {},
     "output_type": "execute_result"
    }
   ],
   "source": [
    "main_class"
   ]
  },
  {
   "cell_type": "code",
   "execution_count": 83,
   "id": "42ebec7a",
   "metadata": {},
   "outputs": [
    {
     "name": "stdout",
     "output_type": "stream",
     "text": [
      "{'Name': 'DavidSW'}\n",
      "{'Name': 'Queensboro'}\n",
      "{'Name': 'Fragrancebuy Canada'}\n",
      "{'Name': 'Tiny Little Monster'}\n",
      "{'Name': 'Brian Gavin Diamonds'}\n",
      "{'Name': 'Custom Patch Hats, LLC'}\n",
      "{'Name': 'CreateMyTee'}\n",
      "{'Name': 'Zdigitizing'}\n",
      "{'Name': 'Elastic by the Yard'}\n",
      "{'Name': 'nonamenerd.com'}\n",
      "{'Name': \"A.K. RIKK's\"}\n",
      "{'Name': 'Mothersfamilyrings'}\n",
      "{'Name': 'Oglmove'}\n",
      "{'Name': 'Rincon Trading'}\n",
      "{'Name': 'Runvalli'}\n",
      "{'Name': 'B-Wear Sportswear'}\n",
      "{'Name': 'Chrono24'}\n",
      "{'Name': 'CHO'}\n",
      "{'Name': 'The Pearl Source'}\n",
      "{'Name': 'Holabird Sports'}\n"
     ]
    }
   ],
   "source": [
    "Name = {}\n",
    "for i in main_class:\n",
    "    names = i.text\n",
    "#     print(names)\n",
    "    Name = {'Name':names}\n",
    "    print(Name)"
   ]
  },
  {
   "cell_type": "code",
   "execution_count": 28,
   "id": "9362dccc",
   "metadata": {},
   "outputs": [],
   "source": [
    "Sec_class = soup.find_all('p', class_='typography_body-m__3GWSM typography_appearance-subtle__2GxHy styles_ratingText__nheL7')"
   ]
  },
  {
   "cell_type": "code",
   "execution_count": 44,
   "id": "90495eec",
   "metadata": {},
   "outputs": [
    {
     "name": "stdout",
     "output_type": "stream",
     "text": [
      "{'Rating': '5.0'}\n",
      "{'Rating': '4.9'}\n",
      "{'Rating': '4.9'}\n",
      "{'Rating': '4.9'}\n",
      "{'Rating': '4.9'}\n",
      "{'Rating': '4.9'}\n",
      "{'Rating': '4.9'}\n",
      "{'Rating': '4.9'}\n",
      "{'Rating': '4.9'}\n",
      "{'Rating': '4.9'}\n",
      "{'Rating': '4.9'}\n",
      "{'Rating': '4.9'}\n",
      "{'Rating': '4.9'}\n",
      "{'Rating': '4.9'}\n",
      "{'Rating': '4.9'}\n",
      "{'Rating': '4.8'}\n",
      "{'Rating': '4.8'}\n",
      "{'Rating': '4.8'}\n",
      "{'Rating': '4.8'}\n",
      "{'Rating': '4.8'}\n"
     ]
    }
   ],
   "source": [
    "Rating = {}\n",
    "for j in Sec_class:\n",
    "    rat = j.find('span', class_='typography_body-m__3GWSM typography_appearance-subtle__2GxHy styles_trustScore__nLHX2')\n",
    "    rating = rat.text[11:]\n",
    "    Rating = {'Rating':rating}\n",
    "    print(Rating)"
   ]
  },
  {
   "cell_type": "code",
   "execution_count": 46,
   "id": "43d76435",
   "metadata": {},
   "outputs": [],
   "source": [
    "Thd_class = soup.find_all('p', class_='typography_body-m__3GWSM typography_appearance-subtle__2GxHy styles_ratingText__nheL7')"
   ]
  },
  {
   "cell_type": "code",
   "execution_count": 90,
   "id": "0711f179",
   "metadata": {},
   "outputs": [
    {
     "name": "stdout",
     "output_type": "stream",
     "text": [
      "5.0 2,752 \n",
      "4.9 20,271\n",
      "4.9 12,973\n",
      "4.9 1,594 \n",
      "4.9 1,478 \n",
      "4.9 1,124 \n",
      "4.9 1,052 \n",
      "4.9 701 re\n",
      "4.9 381 re\n",
      "4.9 319 re\n",
      "4.9 283 re\n",
      "4.9 271 re\n",
      "4.9 181 re\n",
      "4.9 155 re\n",
      "4.9 141 re\n",
      "4.8 44,857\n",
      "4.8 26,626\n",
      "4.8 19,768\n",
      "4.8 12,379\n",
      "4.8 8,496 \n"
     ]
    }
   ],
   "source": [
    "for k in Thd_class:\n",
    "    rat_rev = k.text[11:21].replace('|',\" \")\n",
    "    print(rat_rev)"
   ]
  },
  {
   "cell_type": "code",
   "execution_count": null,
   "id": "3e11ff3b",
   "metadata": {},
   "outputs": [],
   "source": []
  }
 ],
 "metadata": {
  "kernelspec": {
   "display_name": "Python 3 (ipykernel)",
   "language": "python",
   "name": "python3"
  },
  "language_info": {
   "codemirror_mode": {
    "name": "ipython",
    "version": 3
   },
   "file_extension": ".py",
   "mimetype": "text/x-python",
   "name": "python",
   "nbconvert_exporter": "python",
   "pygments_lexer": "ipython3",
   "version": "3.10.4"
  }
 },
 "nbformat": 4,
 "nbformat_minor": 5
}
