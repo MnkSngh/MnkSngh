{
 "cells": [
  {
   "cell_type": "markdown",
   "id": "b97a62bd",
   "metadata": {},
   "source": [
    "## Author - Mayank Singh\n",
    "Data Analyst|MySQL|Python|Web Crawling and Scraping |EDA|Visualization|CBAP|Agile Cert"
   ]
  },
  {
   "cell_type": "markdown",
   "id": "f44f1387",
   "metadata": {},
   "source": [
    "# Importing Libraries"
   ]
  },
  {
   "cell_type": "code",
   "execution_count": 1,
   "id": "640ce825",
   "metadata": {},
   "outputs": [],
   "source": [
    "from bs4 import BeautifulSoup\n",
    "import requests\n",
    "import re\n",
    "import openpyxl as pl"
   ]
  },
  {
   "cell_type": "markdown",
   "id": "b9c790be",
   "metadata": {},
   "source": [
    "# Creating excel workbbok to write scraped data to the sheet"
   ]
  },
  {
   "cell_type": "code",
   "execution_count": 2,
   "id": "71b172f2",
   "metadata": {},
   "outputs": [],
   "source": [
    "excel = pl.Workbook()"
   ]
  },
  {
   "cell_type": "code",
   "execution_count": 3,
   "id": "84dd7d50",
   "metadata": {},
   "outputs": [],
   "source": [
    "sheet = excel.active"
   ]
  },
  {
   "cell_type": "code",
   "execution_count": 4,
   "id": "a401623b",
   "metadata": {},
   "outputs": [],
   "source": [
    "sheet.title = \"Hockey Team Data\""
   ]
  },
  {
   "cell_type": "code",
   "execution_count": 5,
   "id": "1f7aa16b",
   "metadata": {},
   "outputs": [],
   "source": [
    "sheet.append(['Name of the Team','Year of the Team', \n",
    "                'No. of matches won', 'No. of losed', \n",
    "                'Goals For the Team','Goals against Team'])"
   ]
  },
  {
   "cell_type": "markdown",
   "id": "5ca00749",
   "metadata": {},
   "source": [
    "# To loop through all the pages of the website, where required Data is stored,while loop is used by declaring no. of pages explicitly"
   ]
  },
  {
   "cell_type": "code",
   "execution_count": 6,
   "id": "b2bc56d7",
   "metadata": {
    "scrolled": true
   },
   "outputs": [
    {
     "name": "stderr",
     "output_type": "stream",
     "text": [
      "C:\\Users\\mayank.singh27\\AppData\\Roaming\\Python\\Python310\\site-packages\\urllib3\\connectionpool.py:1045: InsecureRequestWarning: Unverified HTTPS request is being made to host 'www.scrapethissite.com'. Adding certificate verification is strongly advised. See: https://urllib3.readthedocs.io/en/1.26.x/advanced-usage.html#ssl-warnings\n",
      "  warnings.warn(\n"
     ]
    },
    {
     "name": "stdout",
     "output_type": "stream",
     "text": [
      "Boston Bruins 1990 44 24 299\n",
      "Buffalo Sabres 1990 31 30 292\n",
      "Calgary Flames 1990 46 26 344\n",
      "Chicago Blackhawks 1990 49 23 284\n",
      "Detroit Red Wings 1990 34 38 273\n",
      "Edmonton Oilers 1990 37 37 272\n",
      "Hartford Whalers 1990 31 38 238\n",
      "Los Angeles Kings 1990 46 24 340\n",
      "Minnesota North Stars 1990 27 39 256\n",
      "Montreal Canadiens 1990 39 30 273\n",
      "New Jersey Devils 1990 32 33 272\n",
      "New York Islanders 1990 25 45 223\n",
      "New York Rangers 1990 36 31 297\n",
      "Philadelphia Flyers 1990 33 37 252\n",
      "Pittsburgh Penguins 1990 41 33 342\n",
      "Quebec Nordiques 1990 16 50 236\n",
      "St. Louis Blues 1990 47 22 310\n",
      "Toronto Maple Leafs 1990 23 46 241\n",
      "Vancouver Canucks 1990 28 43 243\n",
      "Washington Capitals 1990 37 36 258\n",
      "Winnipeg Jets 1990 26 43 260\n",
      "Boston Bruins 1991 36 32 270\n",
      "Buffalo Sabres 1991 31 37 289\n",
      "Calgary Flames 1991 31 37 296\n",
      "Chicago Blackhawks 1991 36 29 257\n"
     ]
    },
    {
     "name": "stderr",
     "output_type": "stream",
     "text": [
      "C:\\Users\\mayank.singh27\\AppData\\Roaming\\Python\\Python310\\site-packages\\urllib3\\connectionpool.py:1045: InsecureRequestWarning: Unverified HTTPS request is being made to host 'www.scrapethissite.com'. Adding certificate verification is strongly advised. See: https://urllib3.readthedocs.io/en/1.26.x/advanced-usage.html#ssl-warnings\n",
      "  warnings.warn(\n"
     ]
    },
    {
     "name": "stdout",
     "output_type": "stream",
     "text": [
      "Detroit Red Wings 1991 43 25 320\n",
      "Edmonton Oilers 1991 36 34 295\n",
      "Hartford Whalers 1991 26 41 247\n",
      "Los Angeles Kings 1991 35 31 287\n",
      "Minnesota North Stars 1991 32 42 246\n",
      "Montreal Canadiens 1991 41 28 267\n",
      "New Jersey Devils 1991 38 31 289\n",
      "New York Islanders 1991 34 35 291\n",
      "New York Rangers 1991 50 25 321\n",
      "Philadelphia Flyers 1991 32 37 252\n",
      "Pittsburgh Penguins 1991 39 32 343\n",
      "Quebec Nordiques 1991 20 48 255\n",
      "San Jose Sharks 1991 17 58 219\n",
      "St. Louis Blues 1991 36 33 279\n",
      "Toronto Maple Leafs 1991 30 43 234\n",
      "Vancouver Canucks 1991 42 26 285\n",
      "Washington Capitals 1991 45 27 330\n",
      "Winnipeg Jets 1991 33 32 251\n",
      "Boston Bruins 1992 51 26 332\n",
      "Buffalo Sabres 1992 38 36 335\n",
      "Calgary Flames 1992 43 30 322\n",
      "Chicago Blackhawks 1992 47 25 279\n",
      "Detroit Red Wings 1992 47 28 369\n",
      "Edmonton Oilers 1992 26 50 242\n",
      "Hartford Whalers 1992 26 52 284\n"
     ]
    },
    {
     "name": "stderr",
     "output_type": "stream",
     "text": [
      "C:\\Users\\mayank.singh27\\AppData\\Roaming\\Python\\Python310\\site-packages\\urllib3\\connectionpool.py:1045: InsecureRequestWarning: Unverified HTTPS request is being made to host 'www.scrapethissite.com'. Adding certificate verification is strongly advised. See: https://urllib3.readthedocs.io/en/1.26.x/advanced-usage.html#ssl-warnings\n",
      "  warnings.warn(\n"
     ]
    },
    {
     "name": "stdout",
     "output_type": "stream",
     "text": [
      "Los Angeles Kings 1992 39 35 338\n",
      "Minnesota North Stars 1992 36 38 272\n",
      "Montreal Canadiens 1992 48 30 326\n",
      "New Jersey Devils 1992 40 37 308\n",
      "New York Islanders 1992 40 37 335\n",
      "New York Rangers 1992 34 39 304\n",
      "Ottawa Senators 1992 10 70 202\n",
      "Philadelphia Flyers 1992 36 37 319\n",
      "Pittsburgh Penguins 1992 56 21 367\n",
      "Quebec Nordiques 1992 47 27 351\n",
      "San Jose Sharks 1992 11 71 218\n",
      "St. Louis Blues 1992 37 36 282\n",
      "Tampa Bay Lightning 1992 23 54 245\n",
      "Toronto Maple Leafs 1992 44 29 288\n",
      "Vancouver Canucks 1992 46 29 346\n",
      "Washington Capitals 1992 43 34 325\n",
      "Winnipeg Jets 1992 40 37 322\n",
      "Mighty Ducks of Anaheim 1993 33 46 229\n",
      "Boston Bruins 1993 42 29 289\n",
      "Buffalo Sabres 1993 43 32 282\n",
      "Calgary Flames 1993 42 29 302\n",
      "Chicago Blackhawks 1993 39 36 254\n",
      "Dallas Stars 1993 42 29 286\n",
      "Detroit Red Wings 1993 46 30 356\n",
      "Edmonton Oilers 1993 25 45 261\n"
     ]
    },
    {
     "name": "stderr",
     "output_type": "stream",
     "text": [
      "C:\\Users\\mayank.singh27\\AppData\\Roaming\\Python\\Python310\\site-packages\\urllib3\\connectionpool.py:1045: InsecureRequestWarning: Unverified HTTPS request is being made to host 'www.scrapethissite.com'. Adding certificate verification is strongly advised. See: https://urllib3.readthedocs.io/en/1.26.x/advanced-usage.html#ssl-warnings\n",
      "  warnings.warn(\n"
     ]
    },
    {
     "name": "stdout",
     "output_type": "stream",
     "text": [
      "Florida Panthers 1993 33 34 233\n",
      "Hartford Whalers 1993 27 48 227\n",
      "Los Angeles Kings 1993 27 45 294\n",
      "Montreal Canadiens 1993 41 29 283\n",
      "New Jersey Devils 1993 47 25 306\n",
      "New York Islanders 1993 36 36 282\n",
      "New York Rangers 1993 52 24 299\n",
      "Ottawa Senators 1993 14 61 201\n",
      "Philadelphia Flyers 1993 35 39 294\n",
      "Pittsburgh Penguins 1993 44 27 299\n",
      "Quebec Nordiques 1993 34 42 277\n",
      "San Jose Sharks 1993 33 35 252\n",
      "St. Louis Blues 1993 40 33 270\n",
      "Tampa Bay Lightning 1993 30 43 224\n",
      "Toronto Maple Leafs 1993 43 29 280\n",
      "Vancouver Canucks 1993 41 40 279\n",
      "Washington Capitals 1993 39 35 277\n",
      "Winnipeg Jets 1993 24 51 245\n",
      "Mighty Ducks of Anaheim 1994 16 27 125\n",
      "Boston Bruins 1994 27 18 150\n",
      "Buffalo Sabres 1994 22 19 130\n",
      "Calgary Flames 1994 24 17 163\n",
      "Chicago Blackhawks 1994 24 19 156\n",
      "Dallas Stars 1994 17 23 136\n",
      "Detroit Red Wings 1994 33 11 180\n"
     ]
    },
    {
     "name": "stderr",
     "output_type": "stream",
     "text": [
      "C:\\Users\\mayank.singh27\\AppData\\Roaming\\Python\\Python310\\site-packages\\urllib3\\connectionpool.py:1045: InsecureRequestWarning: Unverified HTTPS request is being made to host 'www.scrapethissite.com'. Adding certificate verification is strongly advised. See: https://urllib3.readthedocs.io/en/1.26.x/advanced-usage.html#ssl-warnings\n",
      "  warnings.warn(\n"
     ]
    },
    {
     "name": "stdout",
     "output_type": "stream",
     "text": [
      "Edmonton Oilers 1994 17 27 136\n",
      "Florida Panthers 1994 20 22 115\n",
      "Hartford Whalers 1994 19 24 127\n",
      "Los Angeles Kings 1994 16 23 142\n",
      "Montreal Canadiens 1994 18 23 125\n",
      "New Jersey Devils 1994 22 18 136\n",
      "New York Islanders 1994 15 28 126\n",
      "New York Rangers 1994 22 23 139\n",
      "Ottawa Senators 1994 9 34 117\n",
      "Philadelphia Flyers 1994 28 16 150\n",
      "Pittsburgh Penguins 1994 29 16 181\n",
      "Quebec Nordiques 1994 30 13 185\n",
      "San Jose Sharks 1994 19 25 129\n",
      "St. Louis Blues 1994 28 15 178\n",
      "Tampa Bay Lightning 1994 17 28 120\n",
      "Toronto Maple Leafs 1994 21 19 135\n",
      "Vancouver Canucks 1994 18 18 153\n",
      "Washington Capitals 1994 22 18 136\n",
      "Winnipeg Jets 1994 16 25 157\n",
      "Mighty Ducks of Anaheim 1995 35 39 234\n",
      "Boston Bruins 1995 40 31 282\n",
      "Buffalo Sabres 1995 33 42 247\n",
      "Calgary Flames 1995 34 37 241\n",
      "Chicago Blackhawks 1995 40 28 273\n",
      "Colorado Avalanche 1995 47 25 326\n"
     ]
    },
    {
     "name": "stderr",
     "output_type": "stream",
     "text": [
      "C:\\Users\\mayank.singh27\\AppData\\Roaming\\Python\\Python310\\site-packages\\urllib3\\connectionpool.py:1045: InsecureRequestWarning: Unverified HTTPS request is being made to host 'www.scrapethissite.com'. Adding certificate verification is strongly advised. See: https://urllib3.readthedocs.io/en/1.26.x/advanced-usage.html#ssl-warnings\n",
      "  warnings.warn(\n"
     ]
    },
    {
     "name": "stdout",
     "output_type": "stream",
     "text": [
      "Dallas Stars 1995 26 42 227\n",
      "Detroit Red Wings 1995 62 13 325\n",
      "Edmonton Oilers 1995 30 44 240\n",
      "Florida Panthers 1995 41 31 254\n",
      "Hartford Whalers 1995 34 39 237\n",
      "Los Angeles Kings 1995 24 40 256\n",
      "Montreal Canadiens 1995 40 32 265\n",
      "New Jersey Devils 1995 37 33 215\n",
      "New York Islanders 1995 22 50 229\n",
      "New York Rangers 1995 41 27 272\n",
      "Ottawa Senators 1995 18 59 191\n",
      "Philadelphia Flyers 1995 45 24 282\n",
      "Pittsburgh Penguins 1995 49 29 362\n",
      "San Jose Sharks 1995 20 55 252\n",
      "St. Louis Blues 1995 32 34 219\n",
      "Tampa Bay Lightning 1995 38 32 238\n",
      "Toronto Maple Leafs 1995 34 36 247\n",
      "Vancouver Canucks 1995 32 35 278\n",
      "Washington Capitals 1995 39 32 234\n",
      "Winnipeg Jets 1995 36 40 275\n",
      "Mighty Ducks of Anaheim 1996 36 33 245\n",
      "Boston Bruins 1996 26 47 234\n",
      "Buffalo Sabres 1996 40 30 237\n",
      "Calgary Flames 1996 32 41 214\n",
      "Chicago Blackhawks 1996 34 35 223\n"
     ]
    },
    {
     "name": "stderr",
     "output_type": "stream",
     "text": [
      "C:\\Users\\mayank.singh27\\AppData\\Roaming\\Python\\Python310\\site-packages\\urllib3\\connectionpool.py:1045: InsecureRequestWarning: Unverified HTTPS request is being made to host 'www.scrapethissite.com'. Adding certificate verification is strongly advised. See: https://urllib3.readthedocs.io/en/1.26.x/advanced-usage.html#ssl-warnings\n",
      "  warnings.warn(\n"
     ]
    },
    {
     "name": "stdout",
     "output_type": "stream",
     "text": [
      "Colorado Avalanche 1996 49 24 277\n",
      "Dallas Stars 1996 48 26 252\n",
      "Detroit Red Wings 1996 38 26 253\n",
      "Edmonton Oilers 1996 36 37 252\n",
      "Florida Panthers 1996 35 28 221\n",
      "Hartford Whalers 1996 32 39 226\n",
      "Los Angeles Kings 1996 28 43 214\n",
      "Montreal Canadiens 1996 31 36 249\n",
      "New Jersey Devils 1996 45 23 231\n",
      "New York Islanders 1996 29 41 240\n",
      "New York Rangers 1996 38 34 258\n",
      "Ottawa Senators 1996 31 36 226\n",
      "Philadelphia Flyers 1996 45 24 274\n",
      "Phoenix Coyotes 1996 38 37 240\n",
      "Pittsburgh Penguins 1996 38 36 285\n",
      "San Jose Sharks 1996 27 47 211\n",
      "St. Louis Blues 1996 36 35 236\n",
      "Tampa Bay Lightning 1996 32 40 217\n",
      "Toronto Maple Leafs 1996 30 44 230\n",
      "Vancouver Canucks 1996 35 40 257\n",
      "Washington Capitals 1996 33 40 214\n",
      "Mighty Ducks of Anaheim 1997 26 43 205\n",
      "Boston Bruins 1997 39 30 221\n",
      "Buffalo Sabres 1997 36 29 211\n",
      "Calgary Flames 1997 26 41 217\n"
     ]
    },
    {
     "name": "stderr",
     "output_type": "stream",
     "text": [
      "C:\\Users\\mayank.singh27\\AppData\\Roaming\\Python\\Python310\\site-packages\\urllib3\\connectionpool.py:1045: InsecureRequestWarning: Unverified HTTPS request is being made to host 'www.scrapethissite.com'. Adding certificate verification is strongly advised. See: https://urllib3.readthedocs.io/en/1.26.x/advanced-usage.html#ssl-warnings\n",
      "  warnings.warn(\n"
     ]
    },
    {
     "name": "stdout",
     "output_type": "stream",
     "text": [
      "Carolina Hurricanes 1997 33 41 200\n",
      "Chicago Blackhawks 1997 30 39 192\n",
      "Colorado Avalanche 1997 39 26 231\n",
      "Dallas Stars 1997 49 22 242\n",
      "Detroit Red Wings 1997 44 23 250\n",
      "Edmonton Oilers 1997 35 37 215\n",
      "Florida Panthers 1997 24 43 203\n",
      "Los Angeles Kings 1997 38 33 227\n",
      "Montreal Canadiens 1997 37 32 235\n",
      "New Jersey Devils 1997 48 23 225\n",
      "New York Islanders 1997 30 41 212\n",
      "New York Rangers 1997 25 39 197\n",
      "Ottawa Senators 1997 34 33 193\n",
      "Philadelphia Flyers 1997 42 29 242\n",
      "Phoenix Coyotes 1997 35 35 224\n",
      "Pittsburgh Penguins 1997 40 24 228\n",
      "San Jose Sharks 1997 34 38 210\n",
      "St. Louis Blues 1997 45 29 256\n",
      "Tampa Bay Lightning 1997 17 55 151\n",
      "Toronto Maple Leafs 1997 30 43 194\n",
      "Vancouver Canucks 1997 25 43 224\n",
      "Washington Capitals 1997 40 30 219\n",
      "Mighty Ducks of Anaheim 1998 35 34 215\n",
      "Boston Bruins 1998 39 30 214\n",
      "Buffalo Sabres 1998 37 28 207\n"
     ]
    },
    {
     "name": "stderr",
     "output_type": "stream",
     "text": [
      "C:\\Users\\mayank.singh27\\AppData\\Roaming\\Python\\Python310\\site-packages\\urllib3\\connectionpool.py:1045: InsecureRequestWarning: Unverified HTTPS request is being made to host 'www.scrapethissite.com'. Adding certificate verification is strongly advised. See: https://urllib3.readthedocs.io/en/1.26.x/advanced-usage.html#ssl-warnings\n",
      "  warnings.warn(\n"
     ]
    },
    {
     "name": "stdout",
     "output_type": "stream",
     "text": [
      "Calgary Flames 1998 30 40 211\n",
      "Carolina Hurricanes 1998 34 30 210\n",
      "Chicago Blackhawks 1998 29 41 202\n",
      "Colorado Avalanche 1998 44 28 239\n",
      "Dallas Stars 1998 51 19 236\n",
      "Detroit Red Wings 1998 43 32 245\n",
      "Edmonton Oilers 1998 33 37 230\n",
      "Florida Panthers 1998 30 34 210\n",
      "Los Angeles Kings 1998 32 45 189\n",
      "Montreal Canadiens 1998 32 39 184\n",
      "Nashville Predators 1998 28 47 190\n",
      "New Jersey Devils 1998 47 24 248\n",
      "New York Islanders 1998 24 48 194\n",
      "New York Rangers 1998 33 38 217\n",
      "Ottawa Senators 1998 44 23 239\n",
      "Philadelphia Flyers 1998 37 26 231\n",
      "Phoenix Coyotes 1998 39 31 205\n",
      "Pittsburgh Penguins 1998 38 30 242\n",
      "San Jose Sharks 1998 31 33 196\n",
      "St. Louis Blues 1998 37 32 237\n",
      "Tampa Bay Lightning 1998 19 54 179\n",
      "Toronto Maple Leafs 1998 45 30 268\n",
      "Vancouver Canucks 1998 23 47 192\n",
      "Washington Capitals 1998 31 45 200\n",
      "Mighty Ducks of Anaheim 1999 34 33 217\n"
     ]
    },
    {
     "name": "stderr",
     "output_type": "stream",
     "text": [
      "C:\\Users\\mayank.singh27\\AppData\\Roaming\\Python\\Python310\\site-packages\\urllib3\\connectionpool.py:1045: InsecureRequestWarning: Unverified HTTPS request is being made to host 'www.scrapethissite.com'. Adding certificate verification is strongly advised. See: https://urllib3.readthedocs.io/en/1.26.x/advanced-usage.html#ssl-warnings\n",
      "  warnings.warn(\n"
     ]
    },
    {
     "name": "stdout",
     "output_type": "stream",
     "text": [
      "Atlanta Thrashers 1999 14 57 170\n",
      "Boston Bruins 1999 24 33 210\n",
      "Buffalo Sabres 1999 35 32 213\n",
      "Calgary Flames 1999 31 36 211\n",
      "Carolina Hurricanes 1999 37 35 217\n",
      "Chicago Blackhawks 1999 33 37 242\n",
      "Colorado Avalanche 1999 42 28 233\n",
      "Dallas Stars 1999 43 23 211\n",
      "Detroit Red Wings 1999 48 22 278\n",
      "Edmonton Oilers 1999 32 26 226\n",
      "Florida Panthers 1999 43 27 244\n",
      "Los Angeles Kings 1999 39 27 245\n",
      "Montreal Canadiens 1999 35 34 196\n",
      "Nashville Predators 1999 28 40 199\n",
      "New Jersey Devils 1999 45 24 251\n",
      "New York Islanders 1999 24 48 194\n",
      "New York Rangers 1999 29 38 218\n",
      "Ottawa Senators 1999 41 28 244\n",
      "Philadelphia Flyers 1999 45 22 237\n",
      "Phoenix Coyotes 1999 39 31 232\n",
      "Pittsburgh Penguins 1999 37 31 241\n",
      "San Jose Sharks 1999 35 30 225\n",
      "St. Louis Blues 1999 51 19 248\n",
      "Tampa Bay Lightning 1999 19 47 204\n",
      "Toronto Maple Leafs 1999 45 27 246\n"
     ]
    }
   ],
   "source": [
    "page = 1\n",
    "total_pages = 10\n",
    "\n",
    "while page <= total_pages:\n",
    "    url = f\"https://www.scrapethissite.com/pages/forms/?page_num={page}\"\n",
    "\n",
    "    source = requests.get(url, verify = False)\n",
    "\n",
    "    html_text = BeautifulSoup(source.text, 'html.parser')\n",
    "\n",
    "    table = html_text.find_all('tr', class_ = \"team\")\n",
    "\n",
    "    for values in table:\n",
    "        name =values.find('td', class_='name').text.strip()\n",
    "        year =int(values.find('td', class_ = 'year').text.strip())\n",
    "        wins =int(values.find('td', class_ = 'wins').text.strip())\n",
    "        losses = int(values.find('td', class_ = 'losses').text.strip())\n",
    "        gf =int(values.find('td', class_ = 'gf').text.strip())\n",
    "        print(name, year, wins, losses, gf)\n",
    "        sheet.append([name, year, wins, losses, gf]) # writing scraped Data to eccel sheet\n",
    "    page+=1\n",
    "\n",
    "excel.save('4.Hockey_team_web_scrapping_Multiple_pages.xlsx')#saving the Data into excel file"
   ]
  },
  {
   "cell_type": "code",
   "execution_count": null,
   "id": "e1ef8ec7",
   "metadata": {},
   "outputs": [],
   "source": []
  }
 ],
 "metadata": {
  "kernelspec": {
   "display_name": "Python 3 (ipykernel)",
   "language": "python",
   "name": "python3"
  },
  "language_info": {
   "codemirror_mode": {
    "name": "ipython",
    "version": 3
   },
   "file_extension": ".py",
   "mimetype": "text/x-python",
   "name": "python",
   "nbconvert_exporter": "python",
   "pygments_lexer": "ipython3",
   "version": "3.10.4"
  }
 },
 "nbformat": 4,
 "nbformat_minor": 5
}
