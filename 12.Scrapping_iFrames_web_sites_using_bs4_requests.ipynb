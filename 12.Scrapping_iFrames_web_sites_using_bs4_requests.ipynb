{
 "cells": [
  {
   "cell_type": "markdown",
   "id": "4187918f",
   "metadata": {},
   "source": [
    "## We can scrape Iframe/s data via seeing frame source and not inspect"
   ]
  },
  {
   "cell_type": "code",
   "execution_count": 1,
   "id": "f80f346c",
   "metadata": {},
   "outputs": [],
   "source": [
    "import requests as re\n",
    "from bs4 import BeautifulSoup"
   ]
  },
  {
   "cell_type": "code",
   "execution_count": 2,
   "id": "fce2d8b4",
   "metadata": {},
   "outputs": [
    {
     "name": "stderr",
     "output_type": "stream",
     "text": [
      "C:\\Users\\mayank.singh27\\AppData\\Roaming\\Python\\Python310\\site-packages\\urllib3\\connectionpool.py:1045: InsecureRequestWarning: Unverified HTTPS request is being made to host 'www.scrapethissite.com'. Adding certificate verification is strongly advised. See: https://urllib3.readthedocs.io/en/1.26.x/advanced-usage.html#ssl-warnings\n",
      "  warnings.warn(\n"
     ]
    }
   ],
   "source": [
    "url = 'https://www.scrapethissite.com/pages/frames/?frame=i'\n",
    "Base_url = re.get(url, verify = False)\n",
    "html = Base_url.text\n",
    "soup = BeautifulSoup(html, 'html.parser')"
   ]
  },
  {
   "cell_type": "code",
   "execution_count": 3,
   "id": "d8e0a699",
   "metadata": {},
   "outputs": [],
   "source": [
    "# soup"
   ]
  },
  {
   "cell_type": "code",
   "execution_count": 4,
   "id": "c95b0b45",
   "metadata": {},
   "outputs": [],
   "source": [
    "source = soup.find_all('div', class_ = 'col-md-4 turtle-family-card')"
   ]
  },
  {
   "cell_type": "code",
   "execution_count": 5,
   "id": "48700914",
   "metadata": {},
   "outputs": [],
   "source": [
    "# source"
   ]
  },
  {
   "cell_type": "code",
   "execution_count": 12,
   "id": "da997776",
   "metadata": {},
   "outputs": [
    {
     "name": "stdout",
     "output_type": "stream",
     "text": [
      "<class 'list'>\n"
     ]
    }
   ],
   "source": [
    "d = []\n",
    "print(type(d))"
   ]
  },
  {
   "cell_type": "code",
   "execution_count": 46,
   "id": "981f5fd7",
   "metadata": {},
   "outputs": [
    {
     "name": "stdout",
     "output_type": "stream",
     "text": [
      "['https://www.scrapethissite.com//pages/frames/?frame=i&family=Carettochelyidae', 'https://www.scrapethissite.com//pages/frames/?frame=i&family=Cheloniidae', 'https://www.scrapethissite.com//pages/frames/?frame=i&family=Chelydridae', 'https://www.scrapethissite.com//pages/frames/?frame=i&family=Dermatemydidae', 'https://www.scrapethissite.com//pages/frames/?frame=i&family=Dermochelyidae', 'https://www.scrapethissite.com//pages/frames/?frame=i&family=Emydidae', 'https://www.scrapethissite.com//pages/frames/?frame=i&family=Geoemydidae', 'https://www.scrapethissite.com//pages/frames/?frame=i&family=Kinosternidae', 'https://www.scrapethissite.com//pages/frames/?frame=i&family=Platysternidae', 'https://www.scrapethissite.com//pages/frames/?frame=i&family=Testudinidae', 'https://www.scrapethissite.com//pages/frames/?frame=i&family=Trionychidae', 'https://www.scrapethissite.com//pages/frames/?frame=i&family=Chelidae', 'https://www.scrapethissite.com//pages/frames/?frame=i&family=Pelomedusidae', 'https://www.scrapethissite.com//pages/frames/?frame=i&family=Podocnemididae']\n"
     ]
    }
   ],
   "source": [
    "for a in source:\n",
    "    x = a.find('a', class_= 'btn btn-default btn-xs')\n",
    "    v = 'https://www.scrapethissite.com/'+x['href']\n",
    "#     print(v)\n",
    "    d.append(v)\n",
    "print(d[0:14])"
   ]
  },
  {
   "cell_type": "code",
   "execution_count": 52,
   "id": "d8a52f2b",
   "metadata": {},
   "outputs": [
    {
     "name": "stderr",
     "output_type": "stream",
     "text": [
      "C:\\Users\\mayank.singh27\\AppData\\Roaming\\Python\\Python310\\site-packages\\urllib3\\connectionpool.py:1045: InsecureRequestWarning: Unverified HTTPS request is being made to host 'www.scrapethissite.com'. Adding certificate verification is strongly advised. See: https://urllib3.readthedocs.io/en/1.26.x/advanced-usage.html#ssl-warnings\n",
      "  warnings.warn(\n"
     ]
    },
    {
     "name": "stdout",
     "output_type": "stream",
     "text": [
      "Carettochelyidae\n",
      "The Carettochelyidae family of turtles — more commonly known as \"Pig-nosed turtle\" — were first discovered in 1887 by Boulenger.\n"
     ]
    },
    {
     "name": "stderr",
     "output_type": "stream",
     "text": [
      "C:\\Users\\mayank.singh27\\AppData\\Roaming\\Python\\Python310\\site-packages\\urllib3\\connectionpool.py:1045: InsecureRequestWarning: Unverified HTTPS request is being made to host 'www.scrapethissite.com'. Adding certificate verification is strongly advised. See: https://urllib3.readthedocs.io/en/1.26.x/advanced-usage.html#ssl-warnings\n",
      "  warnings.warn(\n"
     ]
    },
    {
     "name": "stdout",
     "output_type": "stream",
     "text": [
      "Cheloniidae\n",
      "The Cheloniidae family of turtles — more commonly known as \"Sea turtles\" — were first discovered in 1811 by Oppel.\n"
     ]
    },
    {
     "name": "stderr",
     "output_type": "stream",
     "text": [
      "C:\\Users\\mayank.singh27\\AppData\\Roaming\\Python\\Python310\\site-packages\\urllib3\\connectionpool.py:1045: InsecureRequestWarning: Unverified HTTPS request is being made to host 'www.scrapethissite.com'. Adding certificate verification is strongly advised. See: https://urllib3.readthedocs.io/en/1.26.x/advanced-usage.html#ssl-warnings\n",
      "  warnings.warn(\n"
     ]
    },
    {
     "name": "stdout",
     "output_type": "stream",
     "text": [
      "Chelydridae\n",
      "The Chelydridae family of turtles — more commonly known as \"Snapping turtles\" — were first discovered in 1831 by Gray.\n"
     ]
    },
    {
     "name": "stderr",
     "output_type": "stream",
     "text": [
      "C:\\Users\\mayank.singh27\\AppData\\Roaming\\Python\\Python310\\site-packages\\urllib3\\connectionpool.py:1045: InsecureRequestWarning: Unverified HTTPS request is being made to host 'www.scrapethissite.com'. Adding certificate verification is strongly advised. See: https://urllib3.readthedocs.io/en/1.26.x/advanced-usage.html#ssl-warnings\n",
      "  warnings.warn(\n"
     ]
    },
    {
     "name": "stdout",
     "output_type": "stream",
     "text": [
      "Dermatemydidae\n",
      "The Dermatemydidae family of turtles — more commonly known as \"Central American river turtle\" — were first discovered in 1870 by Gray.\n"
     ]
    },
    {
     "name": "stderr",
     "output_type": "stream",
     "text": [
      "C:\\Users\\mayank.singh27\\AppData\\Roaming\\Python\\Python310\\site-packages\\urllib3\\connectionpool.py:1045: InsecureRequestWarning: Unverified HTTPS request is being made to host 'www.scrapethissite.com'. Adding certificate verification is strongly advised. See: https://urllib3.readthedocs.io/en/1.26.x/advanced-usage.html#ssl-warnings\n",
      "  warnings.warn(\n"
     ]
    },
    {
     "name": "stdout",
     "output_type": "stream",
     "text": [
      "Dermochelyidae\n",
      "The Dermochelyidae family of turtles — more commonly known as \"Leatherback sea turtle\" — were first discovered in 1843 by Fitzinger.\n"
     ]
    },
    {
     "name": "stderr",
     "output_type": "stream",
     "text": [
      "C:\\Users\\mayank.singh27\\AppData\\Roaming\\Python\\Python310\\site-packages\\urllib3\\connectionpool.py:1045: InsecureRequestWarning: Unverified HTTPS request is being made to host 'www.scrapethissite.com'. Adding certificate verification is strongly advised. See: https://urllib3.readthedocs.io/en/1.26.x/advanced-usage.html#ssl-warnings\n",
      "  warnings.warn(\n"
     ]
    },
    {
     "name": "stdout",
     "output_type": "stream",
     "text": [
      "Emydidae\n",
      "The Emydidae family of turtles — more commonly known as \"Pond or water turtles\" — were first discovered in 1815 by Rafinesque.\n"
     ]
    },
    {
     "name": "stderr",
     "output_type": "stream",
     "text": [
      "C:\\Users\\mayank.singh27\\AppData\\Roaming\\Python\\Python310\\site-packages\\urllib3\\connectionpool.py:1045: InsecureRequestWarning: Unverified HTTPS request is being made to host 'www.scrapethissite.com'. Adding certificate verification is strongly advised. See: https://urllib3.readthedocs.io/en/1.26.x/advanced-usage.html#ssl-warnings\n",
      "  warnings.warn(\n"
     ]
    },
    {
     "name": "stdout",
     "output_type": "stream",
     "text": [
      "Geoemydidae\n",
      "The Geoemydidae family of turtles — more commonly known as \"Asian river, leaf, roofed or Asian box turtles\" — were first discovered in 1868 by Theobald.\n"
     ]
    },
    {
     "name": "stderr",
     "output_type": "stream",
     "text": [
      "C:\\Users\\mayank.singh27\\AppData\\Roaming\\Python\\Python310\\site-packages\\urllib3\\connectionpool.py:1045: InsecureRequestWarning: Unverified HTTPS request is being made to host 'www.scrapethissite.com'. Adding certificate verification is strongly advised. See: https://urllib3.readthedocs.io/en/1.26.x/advanced-usage.html#ssl-warnings\n",
      "  warnings.warn(\n"
     ]
    },
    {
     "name": "stdout",
     "output_type": "stream",
     "text": [
      "Kinosternidae\n",
      "The Kinosternidae family of turtles — more commonly known as \"Mud or musk turtles\" — were first discovered in 1857 by Agassiz.\n"
     ]
    },
    {
     "name": "stderr",
     "output_type": "stream",
     "text": [
      "C:\\Users\\mayank.singh27\\AppData\\Roaming\\Python\\Python310\\site-packages\\urllib3\\connectionpool.py:1045: InsecureRequestWarning: Unverified HTTPS request is being made to host 'www.scrapethissite.com'. Adding certificate verification is strongly advised. See: https://urllib3.readthedocs.io/en/1.26.x/advanced-usage.html#ssl-warnings\n",
      "  warnings.warn(\n"
     ]
    },
    {
     "name": "stdout",
     "output_type": "stream",
     "text": [
      "Platysternidae\n",
      "The Platysternidae family of turtles — more commonly known as \"Big-headed turtle\" — were first discovered in 1869 by Gray.\n"
     ]
    },
    {
     "name": "stderr",
     "output_type": "stream",
     "text": [
      "C:\\Users\\mayank.singh27\\AppData\\Roaming\\Python\\Python310\\site-packages\\urllib3\\connectionpool.py:1045: InsecureRequestWarning: Unverified HTTPS request is being made to host 'www.scrapethissite.com'. Adding certificate verification is strongly advised. See: https://urllib3.readthedocs.io/en/1.26.x/advanced-usage.html#ssl-warnings\n",
      "  warnings.warn(\n"
     ]
    },
    {
     "name": "stdout",
     "output_type": "stream",
     "text": [
      "Testudinidae\n",
      "The Testudinidae family of turtles — more commonly known as \"Tortoises\" — were first discovered in 1788 by Batsch.\n"
     ]
    },
    {
     "name": "stderr",
     "output_type": "stream",
     "text": [
      "C:\\Users\\mayank.singh27\\AppData\\Roaming\\Python\\Python310\\site-packages\\urllib3\\connectionpool.py:1045: InsecureRequestWarning: Unverified HTTPS request is being made to host 'www.scrapethissite.com'. Adding certificate verification is strongly advised. See: https://urllib3.readthedocs.io/en/1.26.x/advanced-usage.html#ssl-warnings\n",
      "  warnings.warn(\n"
     ]
    },
    {
     "name": "stdout",
     "output_type": "stream",
     "text": [
      "Trionychidae\n",
      "The Trionychidae family of turtles — more commonly known as \"Softshell turtles\" — were first discovered in 1826 by Fitzinger.\n"
     ]
    },
    {
     "name": "stderr",
     "output_type": "stream",
     "text": [
      "C:\\Users\\mayank.singh27\\AppData\\Roaming\\Python\\Python310\\site-packages\\urllib3\\connectionpool.py:1045: InsecureRequestWarning: Unverified HTTPS request is being made to host 'www.scrapethissite.com'. Adding certificate verification is strongly advised. See: https://urllib3.readthedocs.io/en/1.26.x/advanced-usage.html#ssl-warnings\n",
      "  warnings.warn(\n"
     ]
    },
    {
     "name": "stdout",
     "output_type": "stream",
     "text": [
      "Chelidae\n",
      "The Chelidae family of turtles — more commonly known as \"Austro-American sideneck turtles\" — were first discovered in 1831 by Gray.\n"
     ]
    },
    {
     "name": "stderr",
     "output_type": "stream",
     "text": [
      "C:\\Users\\mayank.singh27\\AppData\\Roaming\\Python\\Python310\\site-packages\\urllib3\\connectionpool.py:1045: InsecureRequestWarning: Unverified HTTPS request is being made to host 'www.scrapethissite.com'. Adding certificate verification is strongly advised. See: https://urllib3.readthedocs.io/en/1.26.x/advanced-usage.html#ssl-warnings\n",
      "  warnings.warn(\n"
     ]
    },
    {
     "name": "stdout",
     "output_type": "stream",
     "text": [
      "Pelomedusidae\n",
      "The Pelomedusidae family of turtles — more commonly known as \"Afro-American sideneck turtles\" — were first discovered in 1868 by Cope.\n"
     ]
    },
    {
     "name": "stderr",
     "output_type": "stream",
     "text": [
      "C:\\Users\\mayank.singh27\\AppData\\Roaming\\Python\\Python310\\site-packages\\urllib3\\connectionpool.py:1045: InsecureRequestWarning: Unverified HTTPS request is being made to host 'www.scrapethissite.com'. Adding certificate verification is strongly advised. See: https://urllib3.readthedocs.io/en/1.26.x/advanced-usage.html#ssl-warnings\n",
      "  warnings.warn(\n"
     ]
    },
    {
     "name": "stdout",
     "output_type": "stream",
     "text": [
      "Podocnemididae\n",
      "The Podocnemididae family of turtles — more commonly known as \"Madagascar big-headed, Big-headed Amazon River turtle and South American sideneck river turtles\" — were first discovered in 1869 by Gray.\n"
     ]
    }
   ],
   "source": [
    "for u in d[0:14]:\n",
    "    html1 = re.get(u, verify= False)\n",
    "    soup1 = BeautifulSoup(html1.text, 'html.parser')\n",
    "    t = soup1.find('span')\n",
    "    print(t.text)\n",
    "    text = soup1.find('p', class_='lead')\n",
    "    print(text.text.strip())"
   ]
  },
  {
   "cell_type": "code",
   "execution_count": null,
   "id": "1654ba19",
   "metadata": {},
   "outputs": [],
   "source": []
  }
 ],
 "metadata": {
  "kernelspec": {
   "display_name": "Python 3 (ipykernel)",
   "language": "python",
   "name": "python3"
  },
  "language_info": {
   "codemirror_mode": {
    "name": "ipython",
    "version": 3
   },
   "file_extension": ".py",
   "mimetype": "text/x-python",
   "name": "python",
   "nbconvert_exporter": "python",
   "pygments_lexer": "ipython3",
   "version": "3.10.4"
  }
 },
 "nbformat": 4,
 "nbformat_minor": 5
}
