{
 "cells": [
  {
   "cell_type": "markdown",
   "id": "43c95980",
   "metadata": {},
   "source": [
    "# Author - Mayank Singh\n",
    "Data Analyst|MySQL|Python|Web Crawling and Scraping\n",
    "|EDA|Visualization|CBAP|Agile Cert\n",
    "\n",
    "Creation Date - 09-10-2022\n"
   ]
  },
  {
   "cell_type": "markdown",
   "id": "31dcbefb",
   "metadata": {},
   "source": [
    "# Importing Liabrary"
   ]
  },
  {
   "cell_type": "code",
   "execution_count": 1,
   "id": "a9e92a95",
   "metadata": {},
   "outputs": [],
   "source": [
    "import pandas as pd"
   ]
  },
  {
   "cell_type": "markdown",
   "id": "17654c0f",
   "metadata": {},
   "source": [
    "# Reading File"
   ]
  },
  {
   "cell_type": "code",
   "execution_count": 2,
   "id": "eca7f00f",
   "metadata": {},
   "outputs": [],
   "source": [
    "file = pd.read_csv(\"C:\\\\Users\\\\mayank.singh27\\\\PycharmProjects\\\\pythonProject\\\\TestCode\\\\AAP_Donation_Data_fy20-21.csv\", encoding_errors= 'replace')"
   ]
  },
  {
   "cell_type": "code",
   "execution_count": 3,
   "id": "76d31e5c",
   "metadata": {},
   "outputs": [
    {
     "data": {
      "text/html": [
       "<div>\n",
       "<style scoped>\n",
       "    .dataframe tbody tr th:only-of-type {\n",
       "        vertical-align: middle;\n",
       "    }\n",
       "\n",
       "    .dataframe tbody tr th {\n",
       "        vertical-align: top;\n",
       "    }\n",
       "\n",
       "    .dataframe thead th {\n",
       "        text-align: right;\n",
       "    }\n",
       "</style>\n",
       "<table border=\"1\" class=\"dataframe\">\n",
       "  <thead>\n",
       "    <tr style=\"text-align: right;\">\n",
       "      <th></th>\n",
       "      <th>Name</th>\n",
       "      <th>Address</th>\n",
       "      <th>Pan</th>\n",
       "      <th>Amount ?</th>\n",
       "      <th>Contribution Mode</th>\n",
       "      <th>Financial</th>\n",
       "    </tr>\n",
       "  </thead>\n",
       "  <tbody>\n",
       "    <tr>\n",
       "      <th>0</th>\n",
       "      <td>1.? Bharatha Swamukti Samsthe</td>\n",
       "      <td>108 Sarang of Unitech Parkway Apts 1st Main Ro...</td>\n",
       "      <td>Y</td>\n",
       "      <td>Rs. 1,20,00,000.00 �1�Cror+</td>\n",
       "      <td>Cheque State Bank of India Mahalakshmi Layout ...</td>\n",
       "      <td>2020-21</td>\n",
       "    </tr>\n",
       "    <tr>\n",
       "      <th>1</th>\n",
       "      <td>NaN</td>\n",
       "      <td>NaN</td>\n",
       "      <td>NaN</td>\n",
       "      <td>NaN</td>\n",
       "      <td>NaN</td>\n",
       "      <td>NaN</td>\n",
       "    </tr>\n",
       "    <tr>\n",
       "      <th>2</th>\n",
       "      <td>2.? Prudent Electoral Trust</td>\n",
       "      <td>G-15 Hans Bhawan 1 Bahadur Shah Zafar Marg New...</td>\n",
       "      <td>Y</td>\n",
       "      <td>Rs. 1,00,00,000.00 �1�Cror+</td>\n",
       "      <td>Cheque HDFC Bank Kailash Building K.G. Marg Ne...</td>\n",
       "      <td>2020-21</td>\n",
       "    </tr>\n",
       "    <tr>\n",
       "      <th>3</th>\n",
       "      <td>NaN</td>\n",
       "      <td>NaN</td>\n",
       "      <td>NaN</td>\n",
       "      <td>NaN</td>\n",
       "      <td>NaN</td>\n",
       "      <td>NaN</td>\n",
       "    </tr>\n",
       "    <tr>\n",
       "      <th>4</th>\n",
       "      <td>3.? Bharatha Swamukti Samsthe</td>\n",
       "      <td>108 Sarang of Unitech Parkway Apts 1st Main Ro...</td>\n",
       "      <td>Y</td>\n",
       "      <td>Rs. 99,00,000.00 �99�Lacs+</td>\n",
       "      <td>Cheque State Bank of India Mahalakshmi Layout ...</td>\n",
       "      <td>2020-21</td>\n",
       "    </tr>\n",
       "  </tbody>\n",
       "</table>\n",
       "</div>"
      ],
      "text/plain": [
       "                            Name  \\\n",
       "0  1.? Bharatha Swamukti Samsthe   \n",
       "1                            NaN   \n",
       "2    2.? Prudent Electoral Trust   \n",
       "3                            NaN   \n",
       "4  3.? Bharatha Swamukti Samsthe   \n",
       "\n",
       "                                             Address  Pan  \\\n",
       "0  108 Sarang of Unitech Parkway Apts 1st Main Ro...    Y   \n",
       "1                                                NaN  NaN   \n",
       "2  G-15 Hans Bhawan 1 Bahadur Shah Zafar Marg New...    Y   \n",
       "3                                                NaN  NaN   \n",
       "4  108 Sarang of Unitech Parkway Apts 1st Main Ro...    Y   \n",
       "\n",
       "                      Amount ?  \\\n",
       "0  Rs. 1,20,00,000.00 �1�Cror+   \n",
       "1                          NaN   \n",
       "2  Rs. 1,00,00,000.00 �1�Cror+   \n",
       "3                          NaN   \n",
       "4   Rs. 99,00,000.00 �99�Lacs+   \n",
       "\n",
       "                                   Contribution Mode Financial  \n",
       "0  Cheque State Bank of India Mahalakshmi Layout ...   2020-21  \n",
       "1                                                NaN       NaN  \n",
       "2  Cheque HDFC Bank Kailash Building K.G. Marg Ne...   2020-21  \n",
       "3                                                NaN       NaN  \n",
       "4  Cheque State Bank of India Mahalakshmi Layout ...   2020-21  "
      ]
     },
     "execution_count": 3,
     "metadata": {},
     "output_type": "execute_result"
    }
   ],
   "source": [
    "file.head()"
   ]
  },
  {
   "cell_type": "markdown",
   "id": "6196cce7",
   "metadata": {},
   "source": [
    "# Cleaning Data"
   ]
  },
  {
   "cell_type": "code",
   "execution_count": 4,
   "id": "636ae6d1",
   "metadata": {},
   "outputs": [
    {
     "name": "stderr",
     "output_type": "stream",
     "text": [
      "C:\\Users\\mayank.singh27\\AppData\\Local\\Temp\\ipykernel_29944\\2697003470.py:2: FutureWarning: The default value of regex will change from True to False in a future version.\n",
      "  file['Name'] = file['Name'].str.replace('\\d+','') # replacing digits form Name Column\n",
      "C:\\Users\\mayank.singh27\\AppData\\Local\\Temp\\ipykernel_29944\\2697003470.py:3: FutureWarning: The default value of regex will change from True to False in a future version. In addition, single character regular expressions will *not* be treated as literal strings when regex=True.\n",
      "  file['Name'] = file['Name'].str.replace('.','') # replacing . from Name column\n",
      "C:\\Users\\mayank.singh27\\AppData\\Local\\Temp\\ipykernel_29944\\2697003470.py:4: FutureWarning: The default value of regex will change from True to False in a future version. In addition, single character regular expressions will *not* be treated as literal strings when regex=True.\n",
      "  file['Name'] = file['Name'].str.replace('?','') # replacing special char ? from Name Column\n"
     ]
    }
   ],
   "source": [
    "file.dropna(inplace = True) # droping blank/Null value columns\n",
    "file['Name'] = file['Name'].str.replace('\\d+','') # replacing digits form Name Column\n",
    "file['Name'] = file['Name'].str.replace('.','') # replacing . from Name column\n",
    "file['Name'] = file['Name'].str.replace('?','') # replacing special char ? from Name Column\n",
    "file['Amount ?'] = file['Amount ?'].str.replace('�','') # replacing special char � from Name Column\n",
    "file['Amount ?'] = file['Amount ?'].str.replace('Rs','')  # replacing Rs from Amount column\n",
    "file['Amount ?'] = file['Amount ?'].str.replace(',','')\n",
    "file['Amount ?'] = file['Amount ?'].str.lstrip('.') # replacing . from Amount column\n",
    "file['Amount ?'] = file['Amount ?'].str.rstrip('+') # replacing + from Amount column\n",
    "file['Amount ?'] = file['Amount ?'].str.rstrip('cror') # replacing cror from Amount column\n",
    "file['Amount ?'] = file['Amount ?'].str.rstrip('C') # replacing C from Amount column\n",
    "file['Amount ?'] = file['Amount ?'].str.rstrip('Lacs') # replacing Lacs from Amount column\n",
    "file['Amount ?'] = file['Amount ?'].str.split().str[0] # replacing unwanted digits after space from Amount column"
   ]
  },
  {
   "cell_type": "markdown",
   "id": "1ab93a85",
   "metadata": {},
   "source": [
    "# Cleaned data Set"
   ]
  },
  {
   "cell_type": "code",
   "execution_count": 5,
   "id": "49ee2645",
   "metadata": {},
   "outputs": [
    {
     "data": {
      "text/html": [
       "<div>\n",
       "<style scoped>\n",
       "    .dataframe tbody tr th:only-of-type {\n",
       "        vertical-align: middle;\n",
       "    }\n",
       "\n",
       "    .dataframe tbody tr th {\n",
       "        vertical-align: top;\n",
       "    }\n",
       "\n",
       "    .dataframe thead th {\n",
       "        text-align: right;\n",
       "    }\n",
       "</style>\n",
       "<table border=\"1\" class=\"dataframe\">\n",
       "  <thead>\n",
       "    <tr style=\"text-align: right;\">\n",
       "      <th></th>\n",
       "      <th>Name</th>\n",
       "      <th>Address</th>\n",
       "      <th>Pan</th>\n",
       "      <th>Amount ?</th>\n",
       "      <th>Contribution Mode</th>\n",
       "      <th>Financial</th>\n",
       "    </tr>\n",
       "  </thead>\n",
       "  <tbody>\n",
       "    <tr>\n",
       "      <th>0</th>\n",
       "      <td>Bharatha Swamukti Samsthe</td>\n",
       "      <td>108 Sarang of Unitech Parkway Apts 1st Main Ro...</td>\n",
       "      <td>Y</td>\n",
       "      <td>12000000.00</td>\n",
       "      <td>Cheque State Bank of India Mahalakshmi Layout ...</td>\n",
       "      <td>2020-21</td>\n",
       "    </tr>\n",
       "    <tr>\n",
       "      <th>2</th>\n",
       "      <td>Prudent Electoral Trust</td>\n",
       "      <td>G-15 Hans Bhawan 1 Bahadur Shah Zafar Marg New...</td>\n",
       "      <td>Y</td>\n",
       "      <td>10000000.00</td>\n",
       "      <td>Cheque HDFC Bank Kailash Building K.G. Marg Ne...</td>\n",
       "      <td>2020-21</td>\n",
       "    </tr>\n",
       "    <tr>\n",
       "      <th>4</th>\n",
       "      <td>Bharatha Swamukti Samsthe</td>\n",
       "      <td>108 Sarang of Unitech Parkway Apts 1st Main Ro...</td>\n",
       "      <td>Y</td>\n",
       "      <td>9900000.00</td>\n",
       "      <td>Cheque State Bank of India Mahalakshmi Layout ...</td>\n",
       "      <td>2020-21</td>\n",
       "    </tr>\n",
       "    <tr>\n",
       "      <th>6</th>\n",
       "      <td>Bharatha Swamukti Samsthe</td>\n",
       "      <td>108 Sarang of Unitech Parkway Apts 1st Main Ro...</td>\n",
       "      <td>Y</td>\n",
       "      <td>9500000.00</td>\n",
       "      <td>Cheque State Bank of India Mahalakshmi Layout ...</td>\n",
       "      <td>2020-21</td>\n",
       "    </tr>\n",
       "    <tr>\n",
       "      <th>8</th>\n",
       "      <td>Bharatha Swamukti Samsthe</td>\n",
       "      <td>108 Sarang of Unitech Parkway Apts 1st Main Ro...</td>\n",
       "      <td>Y</td>\n",
       "      <td>9100000.00</td>\n",
       "      <td>Cheque State Bank of India Mahalakshmi Layout ...</td>\n",
       "      <td>2020-21</td>\n",
       "    </tr>\n",
       "  </tbody>\n",
       "</table>\n",
       "</div>"
      ],
      "text/plain": [
       "                         Name  \\\n",
       "0   Bharatha Swamukti Samsthe   \n",
       "2     Prudent Electoral Trust   \n",
       "4   Bharatha Swamukti Samsthe   \n",
       "6   Bharatha Swamukti Samsthe   \n",
       "8   Bharatha Swamukti Samsthe   \n",
       "\n",
       "                                             Address Pan     Amount ?  \\\n",
       "0  108 Sarang of Unitech Parkway Apts 1st Main Ro...   Y  12000000.00   \n",
       "2  G-15 Hans Bhawan 1 Bahadur Shah Zafar Marg New...   Y  10000000.00   \n",
       "4  108 Sarang of Unitech Parkway Apts 1st Main Ro...   Y   9900000.00   \n",
       "6  108 Sarang of Unitech Parkway Apts 1st Main Ro...   Y   9500000.00   \n",
       "8  108 Sarang of Unitech Parkway Apts 1st Main Ro...   Y   9100000.00   \n",
       "\n",
       "                                   Contribution Mode Financial  \n",
       "0  Cheque State Bank of India Mahalakshmi Layout ...   2020-21  \n",
       "2  Cheque HDFC Bank Kailash Building K.G. Marg Ne...   2020-21  \n",
       "4  Cheque State Bank of India Mahalakshmi Layout ...   2020-21  \n",
       "6  Cheque State Bank of India Mahalakshmi Layout ...   2020-21  \n",
       "8  Cheque State Bank of India Mahalakshmi Layout ...   2020-21  "
      ]
     },
     "execution_count": 5,
     "metadata": {},
     "output_type": "execute_result"
    }
   ],
   "source": [
    "file.head()"
   ]
  },
  {
   "cell_type": "markdown",
   "id": "c72411b2",
   "metadata": {},
   "source": [
    "# Cleaning Headers - 'Amount ?'"
   ]
  },
  {
   "cell_type": "code",
   "execution_count": 6,
   "id": "cee232d8",
   "metadata": {},
   "outputs": [
    {
     "name": "stderr",
     "output_type": "stream",
     "text": [
      "C:\\Users\\mayank.singh27\\AppData\\Local\\Temp\\ipykernel_29944\\434693188.py:1: FutureWarning: The default value of regex will change from True to False in a future version. In addition, single character regular expressions will *not* be treated as literal strings when regex=True.\n",
      "  file.columns = file.columns.str.replace ('?', '')\n"
     ]
    }
   ],
   "source": [
    "file.columns = file.columns.str.replace ('?', '')"
   ]
  },
  {
   "cell_type": "markdown",
   "id": "a6744560",
   "metadata": {},
   "source": [
    "# Removing extra spaces before and after the columns' Data"
   ]
  },
  {
   "cell_type": "code",
   "execution_count": 7,
   "id": "de60f876",
   "metadata": {},
   "outputs": [],
   "source": [
    "file['Name'] = file['Name'].str.strip()\n",
    "file['Address'] = file['Address'].str.strip()\n",
    "file['Pan'] = file['Pan'].str.strip()\n",
    "file['Amount '] = file['Amount '].str.strip()\n",
    "file['Contribution Mode'] = file['Contribution Mode'].str.strip()\n",
    "file['Financial'] = file['Financial'].str.strip()\n",
    "file.columns = file.columns.str.strip()"
   ]
  },
  {
   "cell_type": "markdown",
   "id": "a0c18bef",
   "metadata": {},
   "source": [
    "# Final Cleaned Data Set"
   ]
  },
  {
   "cell_type": "code",
   "execution_count": 8,
   "id": "d4e254ab",
   "metadata": {},
   "outputs": [
    {
     "data": {
      "text/html": [
       "<div>\n",
       "<style scoped>\n",
       "    .dataframe tbody tr th:only-of-type {\n",
       "        vertical-align: middle;\n",
       "    }\n",
       "\n",
       "    .dataframe tbody tr th {\n",
       "        vertical-align: top;\n",
       "    }\n",
       "\n",
       "    .dataframe thead th {\n",
       "        text-align: right;\n",
       "    }\n",
       "</style>\n",
       "<table border=\"1\" class=\"dataframe\">\n",
       "  <thead>\n",
       "    <tr style=\"text-align: right;\">\n",
       "      <th></th>\n",
       "      <th>Name</th>\n",
       "      <th>Address</th>\n",
       "      <th>Pan</th>\n",
       "      <th>Amount</th>\n",
       "      <th>Contribution Mode</th>\n",
       "      <th>Financial</th>\n",
       "    </tr>\n",
       "  </thead>\n",
       "  <tbody>\n",
       "    <tr>\n",
       "      <th>0</th>\n",
       "      <td>Bharatha Swamukti Samsthe</td>\n",
       "      <td>108 Sarang of Unitech Parkway Apts 1st Main Ro...</td>\n",
       "      <td>Y</td>\n",
       "      <td>12000000.00</td>\n",
       "      <td>Cheque State Bank of India Mahalakshmi Layout ...</td>\n",
       "      <td>2020-21</td>\n",
       "    </tr>\n",
       "    <tr>\n",
       "      <th>2</th>\n",
       "      <td>Prudent Electoral Trust</td>\n",
       "      <td>G-15 Hans Bhawan 1 Bahadur Shah Zafar Marg New...</td>\n",
       "      <td>Y</td>\n",
       "      <td>10000000.00</td>\n",
       "      <td>Cheque HDFC Bank Kailash Building K.G. Marg Ne...</td>\n",
       "      <td>2020-21</td>\n",
       "    </tr>\n",
       "    <tr>\n",
       "      <th>4</th>\n",
       "      <td>Bharatha Swamukti Samsthe</td>\n",
       "      <td>108 Sarang of Unitech Parkway Apts 1st Main Ro...</td>\n",
       "      <td>Y</td>\n",
       "      <td>9900000.00</td>\n",
       "      <td>Cheque State Bank of India Mahalakshmi Layout ...</td>\n",
       "      <td>2020-21</td>\n",
       "    </tr>\n",
       "    <tr>\n",
       "      <th>6</th>\n",
       "      <td>Bharatha Swamukti Samsthe</td>\n",
       "      <td>108 Sarang of Unitech Parkway Apts 1st Main Ro...</td>\n",
       "      <td>Y</td>\n",
       "      <td>9500000.00</td>\n",
       "      <td>Cheque State Bank of India Mahalakshmi Layout ...</td>\n",
       "      <td>2020-21</td>\n",
       "    </tr>\n",
       "    <tr>\n",
       "      <th>8</th>\n",
       "      <td>Bharatha Swamukti Samsthe</td>\n",
       "      <td>108 Sarang of Unitech Parkway Apts 1st Main Ro...</td>\n",
       "      <td>Y</td>\n",
       "      <td>9100000.00</td>\n",
       "      <td>Cheque State Bank of India Mahalakshmi Layout ...</td>\n",
       "      <td>2020-21</td>\n",
       "    </tr>\n",
       "    <tr>\n",
       "      <th>...</th>\n",
       "      <td>...</td>\n",
       "      <td>...</td>\n",
       "      <td>...</td>\n",
       "      <td>...</td>\n",
       "      <td>...</td>\n",
       "      <td>...</td>\n",
       "    </tr>\n",
       "    <tr>\n",
       "      <th>3438</th>\n",
       "      <td>Ramesh Bellamkonda</td>\n",
       "      <td>108 Sarang of Unitech Parkway Apts 1st Main Ro...</td>\n",
       "      <td>Y</td>\n",
       "      <td>10.00</td>\n",
       "      <td>Cash</td>\n",
       "      <td>2020-21</td>\n",
       "    </tr>\n",
       "    <tr>\n",
       "      <th>3440</th>\n",
       "      <td>Ramesh Bellamkonda</td>\n",
       "      <td>108 Sarang of Unitech Parkway Apts 1st Main Ro...</td>\n",
       "      <td>Y</td>\n",
       "      <td>10.00</td>\n",
       "      <td>Cash</td>\n",
       "      <td>2020-21</td>\n",
       "    </tr>\n",
       "    <tr>\n",
       "      <th>3442</th>\n",
       "      <td>Ramesh Bellamkonda</td>\n",
       "      <td>108 Sarang of Unitech Parkway Apts 1st Main Ro...</td>\n",
       "      <td>Y</td>\n",
       "      <td>10.00</td>\n",
       "      <td>Cash</td>\n",
       "      <td>2020-21</td>\n",
       "    </tr>\n",
       "    <tr>\n",
       "      <th>3444</th>\n",
       "      <td>Ramesh Bellamkonda</td>\n",
       "      <td>108 Sarang of Unitech Parkway Apts 1st Main Ro...</td>\n",
       "      <td>Y</td>\n",
       "      <td>10.00</td>\n",
       "      <td>Cash</td>\n",
       "      <td>2020-21</td>\n",
       "    </tr>\n",
       "    <tr>\n",
       "      <th>3446</th>\n",
       "      <td>Ramesh Bellamkonda</td>\n",
       "      <td>108 Sarang of Unitech Parkway Apts 1st Main Ro...</td>\n",
       "      <td>Y</td>\n",
       "      <td>10.00</td>\n",
       "      <td>Cash</td>\n",
       "      <td>2020-21</td>\n",
       "    </tr>\n",
       "  </tbody>\n",
       "</table>\n",
       "<p>1724 rows × 6 columns</p>\n",
       "</div>"
      ],
      "text/plain": [
       "                           Name  \\\n",
       "0     Bharatha Swamukti Samsthe   \n",
       "2       Prudent Electoral Trust   \n",
       "4     Bharatha Swamukti Samsthe   \n",
       "6     Bharatha Swamukti Samsthe   \n",
       "8     Bharatha Swamukti Samsthe   \n",
       "...                         ...   \n",
       "3438         Ramesh Bellamkonda   \n",
       "3440         Ramesh Bellamkonda   \n",
       "3442         Ramesh Bellamkonda   \n",
       "3444         Ramesh Bellamkonda   \n",
       "3446         Ramesh Bellamkonda   \n",
       "\n",
       "                                                Address Pan       Amount  \\\n",
       "0     108 Sarang of Unitech Parkway Apts 1st Main Ro...   Y  12000000.00   \n",
       "2     G-15 Hans Bhawan 1 Bahadur Shah Zafar Marg New...   Y  10000000.00   \n",
       "4     108 Sarang of Unitech Parkway Apts 1st Main Ro...   Y   9900000.00   \n",
       "6     108 Sarang of Unitech Parkway Apts 1st Main Ro...   Y   9500000.00   \n",
       "8     108 Sarang of Unitech Parkway Apts 1st Main Ro...   Y   9100000.00   \n",
       "...                                                 ...  ..          ...   \n",
       "3438  108 Sarang of Unitech Parkway Apts 1st Main Ro...   Y        10.00   \n",
       "3440  108 Sarang of Unitech Parkway Apts 1st Main Ro...   Y        10.00   \n",
       "3442  108 Sarang of Unitech Parkway Apts 1st Main Ro...   Y        10.00   \n",
       "3444  108 Sarang of Unitech Parkway Apts 1st Main Ro...   Y        10.00   \n",
       "3446  108 Sarang of Unitech Parkway Apts 1st Main Ro...   Y        10.00   \n",
       "\n",
       "                                      Contribution Mode Financial  \n",
       "0     Cheque State Bank of India Mahalakshmi Layout ...   2020-21  \n",
       "2     Cheque HDFC Bank Kailash Building K.G. Marg Ne...   2020-21  \n",
       "4     Cheque State Bank of India Mahalakshmi Layout ...   2020-21  \n",
       "6     Cheque State Bank of India Mahalakshmi Layout ...   2020-21  \n",
       "8     Cheque State Bank of India Mahalakshmi Layout ...   2020-21  \n",
       "...                                                 ...       ...  \n",
       "3438                                               Cash   2020-21  \n",
       "3440                                               Cash   2020-21  \n",
       "3442                                               Cash   2020-21  \n",
       "3444                                               Cash   2020-21  \n",
       "3446                                               Cash   2020-21  \n",
       "\n",
       "[1724 rows x 6 columns]"
      ]
     },
     "execution_count": 8,
     "metadata": {},
     "output_type": "execute_result"
    }
   ],
   "source": [
    "file"
   ]
  },
  {
   "cell_type": "markdown",
   "id": "3252460e",
   "metadata": {},
   "source": [
    "# Saving to New file And Reading New Data Set"
   ]
  },
  {
   "cell_type": "code",
   "execution_count": 9,
   "id": "8a71c36f",
   "metadata": {},
   "outputs": [],
   "source": [
    "# file.to_csv(\"C:\\\\Users\\\\mayank.singh27\\\\PycharmProjects\\\\pythonProject\\\\TestCode\\\\AAP_Donation_Data_fy20-21_Cleaned_New.csv\")"
   ]
  },
  {
   "cell_type": "code",
   "execution_count": 10,
   "id": "ee9a70a5",
   "metadata": {},
   "outputs": [],
   "source": [
    "df = pd.read_csv(\"C:\\\\Users\\\\mayank.singh27\\\\PycharmProjects\\\\pythonProject\\\\TestCode\\\\AAP_Donation_Data_fy20-21_Cleaned_New.csv\")"
   ]
  },
  {
   "cell_type": "code",
   "execution_count": 11,
   "id": "58fb657a",
   "metadata": {},
   "outputs": [
    {
     "data": {
      "text/html": [
       "<div>\n",
       "<style scoped>\n",
       "    .dataframe tbody tr th:only-of-type {\n",
       "        vertical-align: middle;\n",
       "    }\n",
       "\n",
       "    .dataframe tbody tr th {\n",
       "        vertical-align: top;\n",
       "    }\n",
       "\n",
       "    .dataframe thead th {\n",
       "        text-align: right;\n",
       "    }\n",
       "</style>\n",
       "<table border=\"1\" class=\"dataframe\">\n",
       "  <thead>\n",
       "    <tr style=\"text-align: right;\">\n",
       "      <th></th>\n",
       "      <th>Unnamed: 0</th>\n",
       "      <th>Name</th>\n",
       "      <th>Address</th>\n",
       "      <th>Pan</th>\n",
       "      <th>Amount</th>\n",
       "      <th>Contribution Mode</th>\n",
       "      <th>Financial</th>\n",
       "    </tr>\n",
       "  </thead>\n",
       "  <tbody>\n",
       "    <tr>\n",
       "      <th>0</th>\n",
       "      <td>0</td>\n",
       "      <td>Bharatha Swamukti Samsthe</td>\n",
       "      <td>108 Sarang of Unitech Parkway Apts 1st Main Ro...</td>\n",
       "      <td>Y</td>\n",
       "      <td>12000000.0</td>\n",
       "      <td>Cheque State Bank of India Mahalakshmi Layout ...</td>\n",
       "      <td>2020-21</td>\n",
       "    </tr>\n",
       "    <tr>\n",
       "      <th>1</th>\n",
       "      <td>2</td>\n",
       "      <td>Prudent Electoral Trust</td>\n",
       "      <td>G-15 Hans Bhawan 1 Bahadur Shah Zafar Marg New...</td>\n",
       "      <td>Y</td>\n",
       "      <td>10000000.0</td>\n",
       "      <td>Cheque HDFC Bank Kailash Building K.G. Marg Ne...</td>\n",
       "      <td>2020-21</td>\n",
       "    </tr>\n",
       "    <tr>\n",
       "      <th>2</th>\n",
       "      <td>4</td>\n",
       "      <td>Bharatha Swamukti Samsthe</td>\n",
       "      <td>108 Sarang of Unitech Parkway Apts 1st Main Ro...</td>\n",
       "      <td>Y</td>\n",
       "      <td>9900000.0</td>\n",
       "      <td>Cheque State Bank of India Mahalakshmi Layout ...</td>\n",
       "      <td>2020-21</td>\n",
       "    </tr>\n",
       "    <tr>\n",
       "      <th>3</th>\n",
       "      <td>6</td>\n",
       "      <td>Bharatha Swamukti Samsthe</td>\n",
       "      <td>108 Sarang of Unitech Parkway Apts 1st Main Ro...</td>\n",
       "      <td>Y</td>\n",
       "      <td>9500000.0</td>\n",
       "      <td>Cheque State Bank of India Mahalakshmi Layout ...</td>\n",
       "      <td>2020-21</td>\n",
       "    </tr>\n",
       "    <tr>\n",
       "      <th>4</th>\n",
       "      <td>8</td>\n",
       "      <td>Bharatha Swamukti Samsthe</td>\n",
       "      <td>108 Sarang of Unitech Parkway Apts 1st Main Ro...</td>\n",
       "      <td>Y</td>\n",
       "      <td>9100000.0</td>\n",
       "      <td>Cheque State Bank of India Mahalakshmi Layout ...</td>\n",
       "      <td>2020-21</td>\n",
       "    </tr>\n",
       "  </tbody>\n",
       "</table>\n",
       "</div>"
      ],
      "text/plain": [
       "   Unnamed: 0                       Name  \\\n",
       "0           0  Bharatha Swamukti Samsthe   \n",
       "1           2    Prudent Electoral Trust   \n",
       "2           4  Bharatha Swamukti Samsthe   \n",
       "3           6  Bharatha Swamukti Samsthe   \n",
       "4           8  Bharatha Swamukti Samsthe   \n",
       "\n",
       "                                             Address Pan      Amount  \\\n",
       "0  108 Sarang of Unitech Parkway Apts 1st Main Ro...   Y  12000000.0   \n",
       "1  G-15 Hans Bhawan 1 Bahadur Shah Zafar Marg New...   Y  10000000.0   \n",
       "2  108 Sarang of Unitech Parkway Apts 1st Main Ro...   Y   9900000.0   \n",
       "3  108 Sarang of Unitech Parkway Apts 1st Main Ro...   Y   9500000.0   \n",
       "4  108 Sarang of Unitech Parkway Apts 1st Main Ro...   Y   9100000.0   \n",
       "\n",
       "                                   Contribution Mode Financial  \n",
       "0  Cheque State Bank of India Mahalakshmi Layout ...   2020-21  \n",
       "1  Cheque HDFC Bank Kailash Building K.G. Marg Ne...   2020-21  \n",
       "2  Cheque State Bank of India Mahalakshmi Layout ...   2020-21  \n",
       "3  Cheque State Bank of India Mahalakshmi Layout ...   2020-21  \n",
       "4  Cheque State Bank of India Mahalakshmi Layout ...   2020-21  "
      ]
     },
     "execution_count": 11,
     "metadata": {},
     "output_type": "execute_result"
    }
   ],
   "source": [
    "df.head()"
   ]
  },
  {
   "cell_type": "markdown",
   "id": "f94b39bf",
   "metadata": {},
   "source": [
    "# Getting Started with EDA"
   ]
  },
  {
   "cell_type": "code",
   "execution_count": 12,
   "id": "6b1739fa",
   "metadata": {},
   "outputs": [
    {
     "name": "stdout",
     "output_type": "stream",
     "text": [
      "<class 'pandas.core.frame.DataFrame'>\n",
      "RangeIndex: 1724 entries, 0 to 1723\n",
      "Data columns (total 7 columns):\n",
      " #   Column             Non-Null Count  Dtype  \n",
      "---  ------             --------------  -----  \n",
      " 0   Unnamed: 0         1724 non-null   int64  \n",
      " 1   Name               1724 non-null   object \n",
      " 2   Address            1724 non-null   object \n",
      " 3   Pan                1724 non-null   object \n",
      " 4   Amount             1724 non-null   float64\n",
      " 5   Contribution Mode  1724 non-null   object \n",
      " 6   Financial          1724 non-null   object \n",
      "dtypes: float64(1), int64(1), object(5)\n",
      "memory usage: 94.4+ KB\n"
     ]
    }
   ],
   "source": [
    "# 1. Basic Info about Data\n",
    "df.info()"
   ]
  },
  {
   "cell_type": "markdown",
   "id": "9c02689b",
   "metadata": {},
   "source": [
    "info() provides us basic overview of the data:\n",
    "1. Total columns = 7\n",
    "2. There is no - null values i.e. we have values available in every column\n",
    "3. Data type of each coulmn, one (Amount) is in float, one is in int (Unnamed 0) and all others are object/string\n",
    "4. Total entries = 1724"
   ]
  },
  {
   "cell_type": "code",
   "execution_count": 13,
   "id": "57371f6b",
   "metadata": {},
   "outputs": [],
   "source": [
    "## with .info() and .head(), we can see that there is a non useful column --Unnamed 0--"
   ]
  },
  {
   "cell_type": "code",
   "execution_count": 14,
   "id": "fb0aa001",
   "metadata": {},
   "outputs": [],
   "source": [
    "df = df.drop('Unnamed: 0', axis = 1) # droping the non useful column completely"
   ]
  },
  {
   "cell_type": "code",
   "execution_count": 15,
   "id": "99595c60",
   "metadata": {},
   "outputs": [
    {
     "data": {
      "text/html": [
       "<div>\n",
       "<style scoped>\n",
       "    .dataframe tbody tr th:only-of-type {\n",
       "        vertical-align: middle;\n",
       "    }\n",
       "\n",
       "    .dataframe tbody tr th {\n",
       "        vertical-align: top;\n",
       "    }\n",
       "\n",
       "    .dataframe thead th {\n",
       "        text-align: right;\n",
       "    }\n",
       "</style>\n",
       "<table border=\"1\" class=\"dataframe\">\n",
       "  <thead>\n",
       "    <tr style=\"text-align: right;\">\n",
       "      <th></th>\n",
       "      <th>Name</th>\n",
       "      <th>Address</th>\n",
       "      <th>Pan</th>\n",
       "      <th>Amount</th>\n",
       "      <th>Contribution Mode</th>\n",
       "      <th>Financial</th>\n",
       "    </tr>\n",
       "  </thead>\n",
       "  <tbody>\n",
       "    <tr>\n",
       "      <th>0</th>\n",
       "      <td>Bharatha Swamukti Samsthe</td>\n",
       "      <td>108 Sarang of Unitech Parkway Apts 1st Main Ro...</td>\n",
       "      <td>Y</td>\n",
       "      <td>12000000.0</td>\n",
       "      <td>Cheque State Bank of India Mahalakshmi Layout ...</td>\n",
       "      <td>2020-21</td>\n",
       "    </tr>\n",
       "    <tr>\n",
       "      <th>1</th>\n",
       "      <td>Prudent Electoral Trust</td>\n",
       "      <td>G-15 Hans Bhawan 1 Bahadur Shah Zafar Marg New...</td>\n",
       "      <td>Y</td>\n",
       "      <td>10000000.0</td>\n",
       "      <td>Cheque HDFC Bank Kailash Building K.G. Marg Ne...</td>\n",
       "      <td>2020-21</td>\n",
       "    </tr>\n",
       "    <tr>\n",
       "      <th>2</th>\n",
       "      <td>Bharatha Swamukti Samsthe</td>\n",
       "      <td>108 Sarang of Unitech Parkway Apts 1st Main Ro...</td>\n",
       "      <td>Y</td>\n",
       "      <td>9900000.0</td>\n",
       "      <td>Cheque State Bank of India Mahalakshmi Layout ...</td>\n",
       "      <td>2020-21</td>\n",
       "    </tr>\n",
       "    <tr>\n",
       "      <th>3</th>\n",
       "      <td>Bharatha Swamukti Samsthe</td>\n",
       "      <td>108 Sarang of Unitech Parkway Apts 1st Main Ro...</td>\n",
       "      <td>Y</td>\n",
       "      <td>9500000.0</td>\n",
       "      <td>Cheque State Bank of India Mahalakshmi Layout ...</td>\n",
       "      <td>2020-21</td>\n",
       "    </tr>\n",
       "    <tr>\n",
       "      <th>4</th>\n",
       "      <td>Bharatha Swamukti Samsthe</td>\n",
       "      <td>108 Sarang of Unitech Parkway Apts 1st Main Ro...</td>\n",
       "      <td>Y</td>\n",
       "      <td>9100000.0</td>\n",
       "      <td>Cheque State Bank of India Mahalakshmi Layout ...</td>\n",
       "      <td>2020-21</td>\n",
       "    </tr>\n",
       "  </tbody>\n",
       "</table>\n",
       "</div>"
      ],
      "text/plain": [
       "                        Name  \\\n",
       "0  Bharatha Swamukti Samsthe   \n",
       "1    Prudent Electoral Trust   \n",
       "2  Bharatha Swamukti Samsthe   \n",
       "3  Bharatha Swamukti Samsthe   \n",
       "4  Bharatha Swamukti Samsthe   \n",
       "\n",
       "                                             Address Pan      Amount  \\\n",
       "0  108 Sarang of Unitech Parkway Apts 1st Main Ro...   Y  12000000.0   \n",
       "1  G-15 Hans Bhawan 1 Bahadur Shah Zafar Marg New...   Y  10000000.0   \n",
       "2  108 Sarang of Unitech Parkway Apts 1st Main Ro...   Y   9900000.0   \n",
       "3  108 Sarang of Unitech Parkway Apts 1st Main Ro...   Y   9500000.0   \n",
       "4  108 Sarang of Unitech Parkway Apts 1st Main Ro...   Y   9100000.0   \n",
       "\n",
       "                                   Contribution Mode Financial  \n",
       "0  Cheque State Bank of India Mahalakshmi Layout ...   2020-21  \n",
       "1  Cheque HDFC Bank Kailash Building K.G. Marg Ne...   2020-21  \n",
       "2  Cheque State Bank of India Mahalakshmi Layout ...   2020-21  \n",
       "3  Cheque State Bank of India Mahalakshmi Layout ...   2020-21  \n",
       "4  Cheque State Bank of India Mahalakshmi Layout ...   2020-21  "
      ]
     },
     "execution_count": 15,
     "metadata": {},
     "output_type": "execute_result"
    }
   ],
   "source": [
    "df.head()"
   ]
  },
  {
   "cell_type": "code",
   "execution_count": 16,
   "id": "d11d1a49",
   "metadata": {},
   "outputs": [],
   "source": [
    "Toatl_Donation_Amount = df['Amount'].sum()"
   ]
  },
  {
   "cell_type": "code",
   "execution_count": 17,
   "id": "fd5cd43d",
   "metadata": {},
   "outputs": [
    {
     "data": {
      "text/plain": [
       "113287398.0"
      ]
     },
     "execution_count": 17,
     "metadata": {},
     "output_type": "execute_result"
    }
   ],
   "source": [
    "Toatl_Donation_Amount"
   ]
  },
  {
   "cell_type": "markdown",
   "id": "41a4df31",
   "metadata": {},
   "source": [
    "AAP received a total of 11 cror 32 lacs 87 thousand 398 INR Donation in FY - 20-21"
   ]
  },
  {
   "cell_type": "markdown",
   "id": "51fe4448",
   "metadata": {},
   "source": [
    "# Converting different contribution_mode to uniform Payment_mode using keywords 'Bank, Cheque, Online, Cash'"
   ]
  },
  {
   "cell_type": "code",
   "execution_count": 18,
   "id": "5677d5bd",
   "metadata": {},
   "outputs": [],
   "source": [
    "df['Payment_mode'] = df['Contribution Mode'].str.split().str[0] #step 1 spliting the sentence into individual \n",
    "                                                                #word seperated by space and extrcating word at index [0]\n",
    "                                                                #step 2 Replacing non uniform words with uniform keywords \n",
    "                                                                #from sentence     \n",
    "df['Payment_mode'] = df['Payment_mode'].str.replace('Cheaue', 'Cheque')\n",
    "df['Payment_mode'] = df['Payment_mode'].str.replace('Cheuqe', 'Cheque')\n",
    "df['Payment_mode'] = df['Payment_mode'].str.replace('HDFC', 'Bank')\n",
    "df['Payment_mode'] = df['Payment_mode'].str.replace('J', 'Bank')\n",
    "df['Payment_mode'] = df['Payment_mode'].str.replace('SVC', 'Bank')\n",
    "df['Payment_mode'] = df['Payment_mode'].str.replace('State', 'Bank')"
   ]
  },
  {
   "cell_type": "code",
   "execution_count": 19,
   "id": "6ced9e6e",
   "metadata": {},
   "outputs": [],
   "source": [
    "Amt_by_diff_modes = df.groupby('Payment_mode').sum()"
   ]
  },
  {
   "cell_type": "code",
   "execution_count": 20,
   "id": "71b6c3f0",
   "metadata": {},
   "outputs": [
    {
     "data": {
      "text/html": [
       "<div>\n",
       "<style scoped>\n",
       "    .dataframe tbody tr th:only-of-type {\n",
       "        vertical-align: middle;\n",
       "    }\n",
       "\n",
       "    .dataframe tbody tr th {\n",
       "        vertical-align: top;\n",
       "    }\n",
       "\n",
       "    .dataframe thead th {\n",
       "        text-align: right;\n",
       "    }\n",
       "</style>\n",
       "<table border=\"1\" class=\"dataframe\">\n",
       "  <thead>\n",
       "    <tr style=\"text-align: right;\">\n",
       "      <th></th>\n",
       "      <th>Amount</th>\n",
       "    </tr>\n",
       "    <tr>\n",
       "      <th>Payment_mode</th>\n",
       "      <th></th>\n",
       "    </tr>\n",
       "  </thead>\n",
       "  <tbody>\n",
       "    <tr>\n",
       "      <th>Bank</th>\n",
       "      <td>2135000.0</td>\n",
       "    </tr>\n",
       "    <tr>\n",
       "      <th>Cash</th>\n",
       "      <td>110.0</td>\n",
       "    </tr>\n",
       "    <tr>\n",
       "      <th>Cheque</th>\n",
       "      <td>94853272.0</td>\n",
       "    </tr>\n",
       "    <tr>\n",
       "      <th>Online</th>\n",
       "      <td>16299016.0</td>\n",
       "    </tr>\n",
       "  </tbody>\n",
       "</table>\n",
       "</div>"
      ],
      "text/plain": [
       "                  Amount\n",
       "Payment_mode            \n",
       "Bank           2135000.0\n",
       "Cash               110.0\n",
       "Cheque        94853272.0\n",
       "Online        16299016.0"
      ]
     },
     "execution_count": 20,
     "metadata": {},
     "output_type": "execute_result"
    }
   ],
   "source": [
    "Amt_by_diff_modes"
   ]
  },
  {
   "cell_type": "markdown",
   "id": "4fe630ef",
   "metadata": {},
   "source": [
    "Total amount transferred/contributed by different payment modes. Highest donation was given via ##Cheque i.e. approx = 9.5 crores "
   ]
  },
  {
   "cell_type": "code",
   "execution_count": 21,
   "id": "e27ecfcc",
   "metadata": {},
   "outputs": [],
   "source": [
    "PAN_NoPAN_contri = df.groupby('Pan').sum()"
   ]
  },
  {
   "cell_type": "code",
   "execution_count": 22,
   "id": "ccdacc9a",
   "metadata": {},
   "outputs": [
    {
     "data": {
      "text/html": [
       "<div>\n",
       "<style scoped>\n",
       "    .dataframe tbody tr th:only-of-type {\n",
       "        vertical-align: middle;\n",
       "    }\n",
       "\n",
       "    .dataframe tbody tr th {\n",
       "        vertical-align: top;\n",
       "    }\n",
       "\n",
       "    .dataframe thead th {\n",
       "        text-align: right;\n",
       "    }\n",
       "</style>\n",
       "<table border=\"1\" class=\"dataframe\">\n",
       "  <thead>\n",
       "    <tr style=\"text-align: right;\">\n",
       "      <th></th>\n",
       "      <th>Amount</th>\n",
       "    </tr>\n",
       "    <tr>\n",
       "      <th>Pan</th>\n",
       "      <th></th>\n",
       "    </tr>\n",
       "  </thead>\n",
       "  <tbody>\n",
       "    <tr>\n",
       "      <th>N</th>\n",
       "      <td>305500.0</td>\n",
       "    </tr>\n",
       "    <tr>\n",
       "      <th>Y</th>\n",
       "      <td>112981898.0</td>\n",
       "    </tr>\n",
       "  </tbody>\n",
       "</table>\n",
       "</div>"
      ],
      "text/plain": [
       "          Amount\n",
       "Pan             \n",
       "N       305500.0\n",
       "Y    112981898.0"
      ]
     },
     "execution_count": 22,
     "metadata": {},
     "output_type": "execute_result"
    }
   ],
   "source": [
    "PAN_NoPAN_contri"
   ]
  },
  {
   "cell_type": "markdown",
   "id": "69d2ea27",
   "metadata": {},
   "source": [
    "Out of Total donation of appro 11.35 crores donation of INR 3,05,500.00 was given without declaring PAN number. "
   ]
  },
  {
   "cell_type": "code",
   "execution_count": 23,
   "id": "7bfb3a83",
   "metadata": {},
   "outputs": [],
   "source": [
    "Persons = df.groupby('Name').sum()"
   ]
  },
  {
   "cell_type": "code",
   "execution_count": 24,
   "id": "f97ba1dd",
   "metadata": {},
   "outputs": [
    {
     "data": {
      "text/html": [
       "<div>\n",
       "<style scoped>\n",
       "    .dataframe tbody tr th:only-of-type {\n",
       "        vertical-align: middle;\n",
       "    }\n",
       "\n",
       "    .dataframe tbody tr th {\n",
       "        vertical-align: top;\n",
       "    }\n",
       "\n",
       "    .dataframe thead th {\n",
       "        text-align: right;\n",
       "    }\n",
       "</style>\n",
       "<table border=\"1\" class=\"dataframe\">\n",
       "  <thead>\n",
       "    <tr style=\"text-align: right;\">\n",
       "      <th></th>\n",
       "      <th>Amount</th>\n",
       "    </tr>\n",
       "    <tr>\n",
       "      <th>Name</th>\n",
       "      <th></th>\n",
       "    </tr>\n",
       "  </thead>\n",
       "  <tbody>\n",
       "    <tr>\n",
       "      <th>Bharatha Swamukti Samsthe</th>\n",
       "      <td>51700000.0</td>\n",
       "    </tr>\n",
       "    <tr>\n",
       "      <th>Prudent Electoral Trust</th>\n",
       "      <td>17000000.0</td>\n",
       "    </tr>\n",
       "    <tr>\n",
       "      <th>Ramesh Bellamkonda</th>\n",
       "      <td>6400100.0</td>\n",
       "    </tr>\n",
       "    <tr>\n",
       "      <th>Nohar Chand &amp; Sons Steels (P) Ltd</th>\n",
       "      <td>5100000.0</td>\n",
       "    </tr>\n",
       "    <tr>\n",
       "      <th>Kama Realty (Delhi) Limited</th>\n",
       "      <td>5000000.0</td>\n",
       "    </tr>\n",
       "    <tr>\n",
       "      <th>...</th>\n",
       "      <td>...</td>\n",
       "    </tr>\n",
       "    <tr>\n",
       "      <th>Dr Ashok Kumar K Lodha</th>\n",
       "      <td>7000.0</td>\n",
       "    </tr>\n",
       "    <tr>\n",
       "      <th>Prabhat Kumar Sharma</th>\n",
       "      <td>6000.0</td>\n",
       "    </tr>\n",
       "    <tr>\n",
       "      <th>Ramanujam Krishnakumar</th>\n",
       "      <td>5000.0</td>\n",
       "    </tr>\n",
       "    <tr>\n",
       "      <th>M Shihabudheen</th>\n",
       "      <td>1500.0</td>\n",
       "    </tr>\n",
       "    <tr>\n",
       "      <th>Shantala</th>\n",
       "      <td>10.0</td>\n",
       "    </tr>\n",
       "  </tbody>\n",
       "</table>\n",
       "<p>291 rows × 1 columns</p>\n",
       "</div>"
      ],
      "text/plain": [
       "                                       Amount\n",
       "Name                                         \n",
       "Bharatha Swamukti Samsthe          51700000.0\n",
       "Prudent Electoral Trust            17000000.0\n",
       "Ramesh Bellamkonda                  6400100.0\n",
       "Nohar Chand & Sons Steels (P) Ltd   5100000.0\n",
       "Kama Realty (Delhi) Limited         5000000.0\n",
       "...                                       ...\n",
       "Dr Ashok Kumar K Lodha                 7000.0\n",
       "Prabhat Kumar Sharma                   6000.0\n",
       "Ramanujam Krishnakumar                 5000.0\n",
       "M Shihabudheen                         1500.0\n",
       "Shantala                                 10.0\n",
       "\n",
       "[291 rows x 1 columns]"
      ]
     },
     "execution_count": 24,
     "metadata": {},
     "output_type": "execute_result"
    }
   ],
   "source": [
    "Persons.sort_values(by = 'Amount',ascending=False )"
   ]
  },
  {
   "cell_type": "markdown",
   "id": "9d4c3a69",
   "metadata": {},
   "source": [
    "Highest Donation was given by \"Bharatha Swamukti Samsthe\" - which is INR - 5,17,00,000, i.e. more than 5 crores\n",
    "similarly we can see top 3 donators after Bharatha Swamukti Samsthe are:\n",
    "1. Prudent Electoral Trust\n",
    "2. Ramesh Bellamkonda\n",
    "3. Nohar Chand & Sons Steels (P) Ltd\t"
   ]
  },
  {
   "cell_type": "code",
   "execution_count": 25,
   "id": "86262458",
   "metadata": {},
   "outputs": [],
   "source": [
    "Person_mode = df.groupby(['Name', 'Payment_mode']).sum()"
   ]
  },
  {
   "cell_type": "code",
   "execution_count": 26,
   "id": "af4b8130",
   "metadata": {},
   "outputs": [
    {
     "data": {
      "text/html": [
       "<div>\n",
       "<style scoped>\n",
       "    .dataframe tbody tr th:only-of-type {\n",
       "        vertical-align: middle;\n",
       "    }\n",
       "\n",
       "    .dataframe tbody tr th {\n",
       "        vertical-align: top;\n",
       "    }\n",
       "\n",
       "    .dataframe thead th {\n",
       "        text-align: right;\n",
       "    }\n",
       "</style>\n",
       "<table border=\"1\" class=\"dataframe\">\n",
       "  <thead>\n",
       "    <tr style=\"text-align: right;\">\n",
       "      <th></th>\n",
       "      <th></th>\n",
       "      <th>Amount</th>\n",
       "    </tr>\n",
       "    <tr>\n",
       "      <th>Name</th>\n",
       "      <th>Payment_mode</th>\n",
       "      <th></th>\n",
       "    </tr>\n",
       "  </thead>\n",
       "  <tbody>\n",
       "    <tr>\n",
       "      <th>Bharatha Swamukti Samsthe</th>\n",
       "      <th>Cheque</th>\n",
       "      <td>51700000.0</td>\n",
       "    </tr>\n",
       "    <tr>\n",
       "      <th>Prudent Electoral Trust</th>\n",
       "      <th>Cheque</th>\n",
       "      <td>15000000.0</td>\n",
       "    </tr>\n",
       "    <tr>\n",
       "      <th>Ramesh Bellamkonda</th>\n",
       "      <th>Cheque</th>\n",
       "      <td>6400000.0</td>\n",
       "    </tr>\n",
       "    <tr>\n",
       "      <th>Nohar Chand &amp; Sons Steels (P) Ltd</th>\n",
       "      <th>Cheque</th>\n",
       "      <td>5100000.0</td>\n",
       "    </tr>\n",
       "    <tr>\n",
       "      <th>Kama Realty (Delhi) Limited</th>\n",
       "      <th>Cheque</th>\n",
       "      <td>5000000.0</td>\n",
       "    </tr>\n",
       "    <tr>\n",
       "      <th>...</th>\n",
       "      <th>...</th>\n",
       "      <td>...</td>\n",
       "    </tr>\n",
       "    <tr>\n",
       "      <th>Prithvi Reddy</th>\n",
       "      <th>Online</th>\n",
       "      <td>2021.0</td>\n",
       "    </tr>\n",
       "    <tr>\n",
       "      <th>M Shihabudheen</th>\n",
       "      <th>Online</th>\n",
       "      <td>1500.0</td>\n",
       "    </tr>\n",
       "    <tr>\n",
       "      <th>Ramesh Bellamkonda</th>\n",
       "      <th>Cash</th>\n",
       "      <td>100.0</td>\n",
       "    </tr>\n",
       "    <tr>\n",
       "      <th>Prithvi Reddy</th>\n",
       "      <th>Cash</th>\n",
       "      <td>10.0</td>\n",
       "    </tr>\n",
       "    <tr>\n",
       "      <th>Shantala</th>\n",
       "      <th>Online</th>\n",
       "      <td>10.0</td>\n",
       "    </tr>\n",
       "  </tbody>\n",
       "</table>\n",
       "<p>311 rows × 1 columns</p>\n",
       "</div>"
      ],
      "text/plain": [
       "                                                    Amount\n",
       "Name                              Payment_mode            \n",
       "Bharatha Swamukti Samsthe         Cheque        51700000.0\n",
       "Prudent Electoral Trust           Cheque        15000000.0\n",
       "Ramesh Bellamkonda                Cheque         6400000.0\n",
       "Nohar Chand & Sons Steels (P) Ltd Cheque         5100000.0\n",
       "Kama Realty (Delhi) Limited       Cheque         5000000.0\n",
       "...                                                    ...\n",
       "Prithvi Reddy                     Online            2021.0\n",
       "M Shihabudheen                    Online            1500.0\n",
       "Ramesh Bellamkonda                Cash               100.0\n",
       "Prithvi Reddy                     Cash                10.0\n",
       "Shantala                          Online              10.0\n",
       "\n",
       "[311 rows x 1 columns]"
      ]
     },
     "execution_count": 26,
     "metadata": {},
     "output_type": "execute_result"
    }
   ],
   "source": [
    "Person_mode.sort_values(by = 'Amount',ascending=False )"
   ]
  },
  {
   "cell_type": "markdown",
   "id": "0322205a",
   "metadata": {},
   "source": [
    "All the Top Donators had contributed via Cheque"
   ]
  },
  {
   "cell_type": "code",
   "execution_count": 27,
   "id": "1c7ba401",
   "metadata": {},
   "outputs": [
    {
     "data": {
      "text/html": [
       "<div>\n",
       "<style scoped>\n",
       "    .dataframe tbody tr th:only-of-type {\n",
       "        vertical-align: middle;\n",
       "    }\n",
       "\n",
       "    .dataframe tbody tr th {\n",
       "        vertical-align: top;\n",
       "    }\n",
       "\n",
       "    .dataframe thead th {\n",
       "        text-align: right;\n",
       "    }\n",
       "</style>\n",
       "<table border=\"1\" class=\"dataframe\">\n",
       "  <thead>\n",
       "    <tr style=\"text-align: right;\">\n",
       "      <th></th>\n",
       "      <th></th>\n",
       "      <th>Amount</th>\n",
       "    </tr>\n",
       "    <tr>\n",
       "      <th>Name</th>\n",
       "      <th>Payment_mode</th>\n",
       "      <th></th>\n",
       "    </tr>\n",
       "  </thead>\n",
       "  <tbody>\n",
       "    <tr>\n",
       "      <th>Aakash Jain</th>\n",
       "      <th>Online</th>\n",
       "      <td>44800.0</td>\n",
       "    </tr>\n",
       "    <tr>\n",
       "      <th rowspan=\"2\" valign=\"top\">Aakash Sharma</th>\n",
       "      <th>Cheque</th>\n",
       "      <td>15000.0</td>\n",
       "    </tr>\n",
       "    <tr>\n",
       "      <th>Online</th>\n",
       "      <td>5800.0</td>\n",
       "    </tr>\n",
       "    <tr>\n",
       "      <th>Aareen Healthcare Private Limited</th>\n",
       "      <th>Cheque</th>\n",
       "      <td>200000.0</td>\n",
       "    </tr>\n",
       "    <tr>\n",
       "      <th>Abbas Kaiyum Sutarwala</th>\n",
       "      <th>Online</th>\n",
       "      <td>23580.0</td>\n",
       "    </tr>\n",
       "    <tr>\n",
       "      <th>...</th>\n",
       "      <th>...</th>\n",
       "      <td>...</td>\n",
       "    </tr>\n",
       "    <tr>\n",
       "      <th>Vikram Fernandes</th>\n",
       "      <th>Online</th>\n",
       "      <td>35000.0</td>\n",
       "    </tr>\n",
       "    <tr>\n",
       "      <th>Vinodkumar A Pillai</th>\n",
       "      <th>Online</th>\n",
       "      <td>86000.0</td>\n",
       "    </tr>\n",
       "    <tr>\n",
       "      <th rowspan=\"2\" valign=\"top\">Yogeshbhai Valjibhai Makwana</th>\n",
       "      <th>Cheque</th>\n",
       "      <td>21000.0</td>\n",
       "    </tr>\n",
       "    <tr>\n",
       "      <th>Online</th>\n",
       "      <td>6900.0</td>\n",
       "    </tr>\n",
       "    <tr>\n",
       "      <th>Zaheer Khan</th>\n",
       "      <th>Online</th>\n",
       "      <td>26942.0</td>\n",
       "    </tr>\n",
       "  </tbody>\n",
       "</table>\n",
       "<p>311 rows × 1 columns</p>\n",
       "</div>"
      ],
      "text/plain": [
       "                                                  Amount\n",
       "Name                              Payment_mode          \n",
       "Aakash Jain                       Online         44800.0\n",
       "Aakash Sharma                     Cheque         15000.0\n",
       "                                  Online          5800.0\n",
       "Aareen Healthcare Private Limited Cheque        200000.0\n",
       "Abbas Kaiyum Sutarwala            Online         23580.0\n",
       "...                                                  ...\n",
       "Vikram Fernandes                  Online         35000.0\n",
       "Vinodkumar A Pillai               Online         86000.0\n",
       "Yogeshbhai Valjibhai Makwana      Cheque         21000.0\n",
       "                                  Online          6900.0\n",
       "Zaheer Khan                       Online         26942.0\n",
       "\n",
       "[311 rows x 1 columns]"
      ]
     },
     "execution_count": 27,
     "metadata": {},
     "output_type": "execute_result"
    }
   ],
   "source": [
    "Person_mode"
   ]
  },
  {
   "cell_type": "markdown",
   "id": "36b0c03f",
   "metadata": {},
   "source": [
    "There are people who have donated via more than one mode."
   ]
  },
  {
   "cell_type": "code",
   "execution_count": null,
   "id": "4028716a",
   "metadata": {},
   "outputs": [],
   "source": []
  }
 ],
 "metadata": {
  "kernelspec": {
   "display_name": "Python 3 (ipykernel)",
   "language": "python",
   "name": "python3"
  },
  "language_info": {
   "codemirror_mode": {
    "name": "ipython",
    "version": 3
   },
   "file_extension": ".py",
   "mimetype": "text/x-python",
   "name": "python",
   "nbconvert_exporter": "python",
   "pygments_lexer": "ipython3",
   "version": "3.10.4"
  }
 },
 "nbformat": 4,
 "nbformat_minor": 5
}
