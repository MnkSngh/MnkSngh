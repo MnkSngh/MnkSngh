{
 "cells": [
  {
   "cell_type": "code",
   "execution_count": 1,
   "id": "67b13c00",
   "metadata": {},
   "outputs": [],
   "source": [
    "import requests\n",
    "from bs4 import BeautifulSoup\n",
    "import time"
   ]
  },
  {
   "cell_type": "code",
   "execution_count": 2,
   "id": "d07e6504",
   "metadata": {},
   "outputs": [],
   "source": [
    "url = 'https://www.trustpilot.com/categories/clothing_store'"
   ]
  },
  {
   "cell_type": "code",
   "execution_count": 3,
   "id": "1e7c07c0",
   "metadata": {},
   "outputs": [],
   "source": [
    "html = requests.get(url)"
   ]
  },
  {
   "cell_type": "code",
   "execution_count": 4,
   "id": "07b41611",
   "metadata": {},
   "outputs": [],
   "source": [
    "data = html.text"
   ]
  },
  {
   "cell_type": "code",
   "execution_count": 5,
   "id": "a61892b3",
   "metadata": {},
   "outputs": [],
   "source": [
    "soup = BeautifulSoup(data,'html.parser')"
   ]
  },
  {
   "cell_type": "code",
   "execution_count": 6,
   "id": "74652ed6",
   "metadata": {},
   "outputs": [],
   "source": [
    "main_class = soup.find_all('p', class_='typography_heading-xs__D8ZZo typography_appearance-default__3vWd5 styles_displayName__1LIcI')"
   ]
  },
  {
   "cell_type": "code",
   "execution_count": 42,
   "id": "c014fa06",
   "metadata": {},
   "outputs": [],
   "source": [
    "# main_class"
   ]
  },
  {
   "cell_type": "code",
   "execution_count": 13,
   "id": "42ebec7a",
   "metadata": {},
   "outputs": [
    {
     "name": "stdout",
     "output_type": "stream",
     "text": [
      "['DavidSW', 'Queensboro', 'Fragrancebuy Canada', 'Tiny Little Monster', 'Brian Gavin Diamonds', 'Custom Patch Hats, LLC', 'CreateMyTee', 'Zdigitizing', 'Elastic by the Yard', 'nonamenerd.com', \"A.K. RIKK's\", 'Mothersfamilyrings', 'Oglmove', 'Rincon Trading', 'Runvalli', 'B-Wear Sportswear', 'Chrono24', 'CHO', 'The Pearl Source', 'Holabird Sports']\n"
     ]
    }
   ],
   "source": [
    "Name1 = []\n",
    "for i in main_class:\n",
    "    names = i.text\n",
    "#     print(names)\n",
    "    Name1.append(names)\n",
    "print(Name1)\n",
    "#     Name = {'Name':names}\n",
    "#     print(Name)"
   ]
  },
  {
   "cell_type": "code",
   "execution_count": 9,
   "id": "9362dccc",
   "metadata": {},
   "outputs": [],
   "source": [
    "# Sec_class = soup.find_all('p', class_='typography_body-m__3GWSM typography_appearance-subtle__2GxHy styles_ratingText__nheL7')"
   ]
  },
  {
   "cell_type": "code",
   "execution_count": 43,
   "id": "90495eec",
   "metadata": {},
   "outputs": [],
   "source": [
    "# Rating = []\n",
    "# for j in Sec_class:\n",
    "#     rat = j.find('span', class_='typography_body-m__3GWSM typography_appearance-subtle__2GxHy styles_trustScore__nLHX2')\n",
    "#     rating = rat.text[11:]\n",
    "#     Rating.append(rating)\n",
    "# print(Rating)\n",
    "# #     Rating = {'Rating':rating}\n",
    "# #     print(Rating)"
   ]
  },
  {
   "cell_type": "code",
   "execution_count": 11,
   "id": "43d76435",
   "metadata": {},
   "outputs": [],
   "source": [
    "Thd_class = soup.find_all('p', class_='typography_body-m__3GWSM typography_appearance-subtle__2GxHy styles_ratingText__nheL7')"
   ]
  },
  {
   "cell_type": "code",
   "execution_count": 37,
   "id": "0711f179",
   "metadata": {},
   "outputs": [
    {
     "name": "stdout",
     "output_type": "stream",
     "text": [
      "['5.0 2,753 ', '4.9 20,272', '4.9 12,974', '4.9 1,594 ', '4.9 1,478 ', '4.9 1,124 ', '4.9 1,052 ', '4.9 701 re', '4.9 381 re', '4.9 319 re', '4.9 283 re', '4.9 271 re', '4.9 181 re', '4.9 155 re', '4.9 141 re', '4.8 44,857', '4.8 26,628', '4.8 19,768', '4.8 12,379', '4.8 8,496 ']\n"
     ]
    }
   ],
   "source": [
    "Rat_Rev = []\n",
    "for k in Thd_class:\n",
    "    rat_rev = k.text[11:21].replace('|',\" \")\n",
    "    Rat_Rev.append(rat_rev)\n",
    "print(Rat_Rev)"
   ]
  },
  {
   "cell_type": "code",
   "execution_count": 38,
   "id": "3e11ff3b",
   "metadata": {},
   "outputs": [
    {
     "name": "stdout",
     "output_type": "stream",
     "text": [
      "{'Names': ['DavidSW', 'Queensboro', 'Fragrancebuy Canada', 'Tiny Little Monster', 'Brian Gavin Diamonds', 'Custom Patch Hats, LLC', 'CreateMyTee', 'Zdigitizing', 'Elastic by the Yard', 'nonamenerd.com', \"A.K. RIKK's\", 'Mothersfamilyrings', 'Oglmove', 'Rincon Trading', 'Runvalli', 'B-Wear Sportswear', 'Chrono24', 'CHO', 'The Pearl Source', 'Holabird Sports'], 'Rats': ['5.0 2,753 ', '4.9 20,272', '4.9 12,974', '4.9 1,594 ', '4.9 1,478 ', '4.9 1,124 ', '4.9 1,052 ', '4.9 701 re', '4.9 381 re', '4.9 319 re', '4.9 283 re', '4.9 271 re', '4.9 181 re', '4.9 155 re', '4.9 141 re', '4.8 44,857', '4.8 26,628', '4.8 19,768', '4.8 12,379', '4.8 8,496 ']}\n"
     ]
    }
   ],
   "source": [
    "All = {}\n",
    "All = {'Names':Name1, 'Rats':Rat_Rev}\n",
    "print(All)"
   ]
  },
  {
   "cell_type": "code",
   "execution_count": 39,
   "id": "003565fe",
   "metadata": {},
   "outputs": [],
   "source": [
    "import pandas as pd"
   ]
  },
  {
   "cell_type": "code",
   "execution_count": 40,
   "id": "d5af9a72",
   "metadata": {},
   "outputs": [],
   "source": [
    "df = pd.DataFrame.from_dict(All)"
   ]
  },
  {
   "cell_type": "code",
   "execution_count": 41,
   "id": "61676937",
   "metadata": {},
   "outputs": [
    {
     "data": {
      "text/html": [
       "<div>\n",
       "<style scoped>\n",
       "    .dataframe tbody tr th:only-of-type {\n",
       "        vertical-align: middle;\n",
       "    }\n",
       "\n",
       "    .dataframe tbody tr th {\n",
       "        vertical-align: top;\n",
       "    }\n",
       "\n",
       "    .dataframe thead th {\n",
       "        text-align: right;\n",
       "    }\n",
       "</style>\n",
       "<table border=\"1\" class=\"dataframe\">\n",
       "  <thead>\n",
       "    <tr style=\"text-align: right;\">\n",
       "      <th></th>\n",
       "      <th>Names</th>\n",
       "      <th>Rats</th>\n",
       "    </tr>\n",
       "  </thead>\n",
       "  <tbody>\n",
       "    <tr>\n",
       "      <th>0</th>\n",
       "      <td>DavidSW</td>\n",
       "      <td>5.0 2,753</td>\n",
       "    </tr>\n",
       "    <tr>\n",
       "      <th>1</th>\n",
       "      <td>Queensboro</td>\n",
       "      <td>4.9 20,272</td>\n",
       "    </tr>\n",
       "    <tr>\n",
       "      <th>2</th>\n",
       "      <td>Fragrancebuy Canada</td>\n",
       "      <td>4.9 12,974</td>\n",
       "    </tr>\n",
       "    <tr>\n",
       "      <th>3</th>\n",
       "      <td>Tiny Little Monster</td>\n",
       "      <td>4.9 1,594</td>\n",
       "    </tr>\n",
       "    <tr>\n",
       "      <th>4</th>\n",
       "      <td>Brian Gavin Diamonds</td>\n",
       "      <td>4.9 1,478</td>\n",
       "    </tr>\n",
       "    <tr>\n",
       "      <th>5</th>\n",
       "      <td>Custom Patch Hats, LLC</td>\n",
       "      <td>4.9 1,124</td>\n",
       "    </tr>\n",
       "    <tr>\n",
       "      <th>6</th>\n",
       "      <td>CreateMyTee</td>\n",
       "      <td>4.9 1,052</td>\n",
       "    </tr>\n",
       "    <tr>\n",
       "      <th>7</th>\n",
       "      <td>Zdigitizing</td>\n",
       "      <td>4.9 701 re</td>\n",
       "    </tr>\n",
       "    <tr>\n",
       "      <th>8</th>\n",
       "      <td>Elastic by the Yard</td>\n",
       "      <td>4.9 381 re</td>\n",
       "    </tr>\n",
       "    <tr>\n",
       "      <th>9</th>\n",
       "      <td>nonamenerd.com</td>\n",
       "      <td>4.9 319 re</td>\n",
       "    </tr>\n",
       "    <tr>\n",
       "      <th>10</th>\n",
       "      <td>A.K. RIKK's</td>\n",
       "      <td>4.9 283 re</td>\n",
       "    </tr>\n",
       "    <tr>\n",
       "      <th>11</th>\n",
       "      <td>Mothersfamilyrings</td>\n",
       "      <td>4.9 271 re</td>\n",
       "    </tr>\n",
       "    <tr>\n",
       "      <th>12</th>\n",
       "      <td>Oglmove</td>\n",
       "      <td>4.9 181 re</td>\n",
       "    </tr>\n",
       "    <tr>\n",
       "      <th>13</th>\n",
       "      <td>Rincon Trading</td>\n",
       "      <td>4.9 155 re</td>\n",
       "    </tr>\n",
       "    <tr>\n",
       "      <th>14</th>\n",
       "      <td>Runvalli</td>\n",
       "      <td>4.9 141 re</td>\n",
       "    </tr>\n",
       "    <tr>\n",
       "      <th>15</th>\n",
       "      <td>B-Wear Sportswear</td>\n",
       "      <td>4.8 44,857</td>\n",
       "    </tr>\n",
       "    <tr>\n",
       "      <th>16</th>\n",
       "      <td>Chrono24</td>\n",
       "      <td>4.8 26,628</td>\n",
       "    </tr>\n",
       "    <tr>\n",
       "      <th>17</th>\n",
       "      <td>CHO</td>\n",
       "      <td>4.8 19,768</td>\n",
       "    </tr>\n",
       "    <tr>\n",
       "      <th>18</th>\n",
       "      <td>The Pearl Source</td>\n",
       "      <td>4.8 12,379</td>\n",
       "    </tr>\n",
       "    <tr>\n",
       "      <th>19</th>\n",
       "      <td>Holabird Sports</td>\n",
       "      <td>4.8 8,496</td>\n",
       "    </tr>\n",
       "  </tbody>\n",
       "</table>\n",
       "</div>"
      ],
      "text/plain": [
       "                     Names        Rats\n",
       "0                  DavidSW  5.0 2,753 \n",
       "1               Queensboro  4.9 20,272\n",
       "2      Fragrancebuy Canada  4.9 12,974\n",
       "3      Tiny Little Monster  4.9 1,594 \n",
       "4     Brian Gavin Diamonds  4.9 1,478 \n",
       "5   Custom Patch Hats, LLC  4.9 1,124 \n",
       "6              CreateMyTee  4.9 1,052 \n",
       "7              Zdigitizing  4.9 701 re\n",
       "8      Elastic by the Yard  4.9 381 re\n",
       "9           nonamenerd.com  4.9 319 re\n",
       "10             A.K. RIKK's  4.9 283 re\n",
       "11      Mothersfamilyrings  4.9 271 re\n",
       "12                 Oglmove  4.9 181 re\n",
       "13          Rincon Trading  4.9 155 re\n",
       "14                Runvalli  4.9 141 re\n",
       "15       B-Wear Sportswear  4.8 44,857\n",
       "16                Chrono24  4.8 26,628\n",
       "17                     CHO  4.8 19,768\n",
       "18        The Pearl Source  4.8 12,379\n",
       "19         Holabird Sports  4.8 8,496 "
      ]
     },
     "execution_count": 41,
     "metadata": {},
     "output_type": "execute_result"
    }
   ],
   "source": [
    "df"
   ]
  },
  {
   "cell_type": "code",
   "execution_count": null,
   "id": "cc60b415",
   "metadata": {},
   "outputs": [],
   "source": []
  }
 ],
 "metadata": {
  "kernelspec": {
   "display_name": "Python 3 (ipykernel)",
   "language": "python",
   "name": "python3"
  },
  "language_info": {
   "codemirror_mode": {
    "name": "ipython",
    "version": 3
   },
   "file_extension": ".py",
   "mimetype": "text/x-python",
   "name": "python",
   "nbconvert_exporter": "python",
   "pygments_lexer": "ipython3",
   "version": "3.10.4"
  }
 },
 "nbformat": 4,
 "nbformat_minor": 5
}
