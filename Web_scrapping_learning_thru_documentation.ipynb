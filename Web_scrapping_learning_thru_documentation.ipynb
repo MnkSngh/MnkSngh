{
 "cells": [
  {
   "cell_type": "markdown",
   "id": "a5fd94a5",
   "metadata": {},
   "source": [
    "## Importing Required Modules"
   ]
  },
  {
   "cell_type": "code",
   "execution_count": 1,
   "id": "aa3ae685",
   "metadata": {},
   "outputs": [],
   "source": [
    "from bs4 import BeautifulSoup #use to parse the html\n",
    "import requests #use to fetch the content from url we are using\n",
    "# !pip install regular expressions\n",
    "import re #used to remove extra spaces from the tect/string of the html"
   ]
  },
  {
   "cell_type": "markdown",
   "id": "990f44fe",
   "metadata": {},
   "source": [
    "## Step 1"
   ]
  },
  {
   "cell_type": "code",
   "execution_count": 2,
   "id": "5cdfbcbe",
   "metadata": {},
   "outputs": [],
   "source": [
    "url = \"https://www.scrapethissite.com/pages/forms/\" # getting the url"
   ]
  },
  {
   "cell_type": "code",
   "execution_count": 3,
   "id": "93f030f1",
   "metadata": {},
   "outputs": [
    {
     "name": "stderr",
     "output_type": "stream",
     "text": [
      "C:\\Users\\mayank.singh27\\AppData\\Roaming\\Python\\Python310\\site-packages\\urllib3\\connectionpool.py:1045: InsecureRequestWarning: Unverified HTTPS request is being made to host 'www.scrapethissite.com'. Adding certificate verification is strongly advised. See: https://urllib3.readthedocs.io/en/1.26.x/advanced-usage.html#ssl-warnings\n",
      "  warnings.warn(\n"
     ]
    }
   ],
   "source": [
    "source = requests.get(url, verify = False) #fetching the url and its contents"
   ]
  },
  {
   "cell_type": "markdown",
   "id": "cffd22e8",
   "metadata": {},
   "source": [
    "## Step 2"
   ]
  },
  {
   "cell_type": "code",
   "execution_count": 4,
   "id": "de928005",
   "metadata": {},
   "outputs": [],
   "source": [
    "html_text = BeautifulSoup(source.text, 'html.parser') ## parsing the html content and saving it to 'html_text'"
   ]
  },
  {
   "cell_type": "markdown",
   "id": "beb49366",
   "metadata": {},
   "source": [
    "## Step 3 - Implementing different functions/operations on scrapped web page "
   ]
  },
  {
   "cell_type": "code",
   "execution_count": 5,
   "id": "1d72b4b9",
   "metadata": {},
   "outputs": [
    {
     "data": {
      "text/plain": [
       "'<!DOCTYPE html>\\n<html lang=\"en\">\\n <head>\\n  <meta charset=\"utf-8\"/>\\n  <title>\\n   Hockey Teams: Forms, Searching and Pagination | Scrape This Site | A public sandbox for learning web scraping\\n  </title>\\n  <link href=\"/static/images/scraper-icon.png\" rel=\"icon\" type=\"image/png\"/>\\n  <meta content=\"width=device-width, initial-scale=1.0\" name=\"viewport\"/>\\n  <meta content=\"Browse through a database of NHL team stats since 1990. Practice building a scraper that handles common website interface components.\" name=\"description\"/>\\n  <link crossorigin=\"anonymous\" href=\"https://maxcdn.bootstrapcdn.com/bootstrap/3.3.5/css/bootstrap.min.css\" integrity=\"sha256-MfvZlkHCEqatNoGiOXveE8FIwMzZg4W85qfrfIFBfYc= sha512-dTfge/zgoMYpP7QbHy4gWMEGsbsdZeCXz7irItjcC3sPUFtf0kuFbDz/ixG7ArTxmDjLXDmezHubeNikyKGVyQ==\" rel=\"stylesheet\"/>\\n  <link href=\"https://fonts.googleapis.com/css?family=Lato:400,700\" rel=\"stylesheet\" type=\"text/css\"/>\\n  <link href=\"/static/css/styles.css\" rel=\"stylesheet\" type=\"text/css\"/>\\n  <meta content=\"noindex\" name=\"robots\"/>\\n </head>\\n <body>\\n  <nav id=\"site-nav\">\\n   <div class=\"container\">\\n    <div class=\"col-md-12\">\\n     <ul class=\"nav nav-tabs\">\\n      <li id=\"nav-homepage\">\\n       <a class=\"nav-link hidden-sm hidden-xs\" href=\"/\">\\n        <img id=\"nav-logo\" src=\"/static/images/scraper-icon.png\"/>\\n        Scrape This Site\\n       </a>\\n      </li>\\n      <li id=\"nav-sandbox\">\\n       <a class=\"nav-link\" href=\"/pages/\">\\n        <i class=\"glyphicon glyphicon-console hidden-sm hidden-xs\">\\n        </i>\\n        Sandbox\\n       </a>\\n      </li>\\n      <li id=\"nav-lessons\">\\n       <a class=\"nav-link\" href=\"/lessons/\">\\n        <i class=\"glyphicon glyphicon-education hidden-sm hidden-xs\">\\n        </i>\\n        Lessons\\n       </a>\\n      </li>\\n      <li id=\"nav-faq\">\\n       <a class=\"nav-link\" href=\"/faq/\">\\n        <i class=\"glyphicon glyphicon-flag hidden-sm hidden-xs\">\\n        </i>\\n        FAQ\\n       </a>\\n      </li>\\n      <li class=\"pull-right\" id=\"nav-login\">\\n       <a class=\"nav-link\" href=\"/login/\">\\n        Login\\n       </a>\\n      </li>\\n     </ul>\\n    </div>\\n   </div>\\n  </nav>\\n  <script type=\"text/javascript\">\\n   var path = document.location.pathname;\\n            var tab = undefined;\\n            if (path === \"/\"){\\n                tab = document.querySelector(\"#nav-homepage\");\\n            } else if (path.indexOf(\"/faq/\") === 0){\\n                tab = document.querySelector(\"#nav-faq\");\\n            } else if (path.indexOf(\"/lessons/\") === 0){\\n                tab = document.querySelector(\"#nav-lessons\");\\n            } else if (path.indexOf(\"/pages/\") === 0) {\\n                tab = document.querySelector(\"#nav-sandbox\");\\n            } else if (path.indexOf(\"/login/\") === 0) {\\n                tab = document.querySelector(\"#nav-login\");\\n            }\\n            tab.classList.add(\"active\")\\n  </script>\\n  <div id=\"page\">\\n   <section id=\"hockey\">\\n    <div class=\"container\">\\n     <div class=\"row\">\\n      <div class=\"col-md-12\">\\n       <h1>\\n        Hockey Teams: Forms, Searching and Pagination\\n        <small>\\n         25 items\\n        </small>\\n       </h1>\\n       <hr/>\\n      </div>\\n     </div>\\n     <div class=\"row\">\\n      <div class=\"col-md-12\">\\n       <p class=\"lead\">\\n        Browse through a database of NHL team stats since 1990. Practice building a scraper that handles common website interface components.\\n                            Take a look at how pagination and search elements change the URL as your browse. Build a web scraper that can conduct searches and paginate through the results.\\n       </p>\\n       <hr/>\\n      </div>\\n     </div>\\n     <div class=\"row\">\\n      <div class=\"col-md-6\">\\n       <p>\\n        <i class=\"glyphicon glyphicon-education\">\\n        </i>\\n        There are\\n        <a href=\"/lessons/\">\\n         8 video lessons\\n        </a>\\n        that show you how to scrape this page.\\n       </p>\\n       <hr/>\\n      </div>\\n      <div class=\"col-md-6 text-right\">\\n       <p>\\n        Data via\\n        <a class=\"data-attribution\" href=\"http://www.opensourcesports.com/hockey/\" target=\"_blank\">\\n         http://www.opensourcesports.com/hockey/\\n        </a>\\n       </p>\\n       <hr/>\\n      </div>\\n     </div>\\n     <div class=\"row search-area\">\\n      <div class=\"col-md-12 text-center\">\\n       <form action=\"/pages/forms/\" class=\"form form-inline\" method=\"GET\">\\n        <label for=\"q\">\\n         Search for Teams:\\n        </label>\\n        <input class=\"form-control\" id=\"q\" name=\"q\" placeholder=\"Search for Teams\" type=\"text\"/>\\n        <input class=\"btn btn-primary\" type=\"submit\" value=\"Search\"/>\\n       </form>\\n       <hr/>\\n      </div>\\n     </div>\\n     <!--.row.search-area-->\\n     <table class=\"table\">\\n      <tr>\\n       <th>\\n        Team Name\\n       </th>\\n       <th>\\n        Year\\n       </th>\\n       <th>\\n        Wins\\n       </th>\\n       <th>\\n        Losses\\n       </th>\\n       <th>\\n        OT Losses\\n       </th>\\n       <th>\\n        Win %\\n       </th>\\n       <th>\\n        Goals For (GF)\\n       </th>\\n       <th>\\n        Goals Against (GA)\\n       </th>\\n       <th>\\n        + / -\\n       </th>\\n      </tr>\\n      <tr class=\"team\">\\n       <td class=\"name\">\\n        Boston Bruins\\n       </td>\\n       <td class=\"year\">\\n        1990\\n       </td>\\n       <td class=\"wins\">\\n        44\\n       </td>\\n       <td class=\"losses\">\\n        24\\n       </td>\\n       <td class=\"ot-losses\">\\n       </td>\\n       <td class=\"pct text-success\">\\n        0.55\\n       </td>\\n       <td class=\"gf\">\\n        299\\n       </td>\\n       <td class=\"ga\">\\n        264\\n       </td>\\n       <td class=\"diff text-success\">\\n        35\\n       </td>\\n      </tr>\\n      <tr class=\"team\">\\n       <td class=\"name\">\\n        Buffalo Sabres\\n       </td>\\n       <td class=\"year\">\\n        1990\\n       </td>\\n       <td class=\"wins\">\\n        31\\n       </td>\\n       <td class=\"losses\">\\n        30\\n       </td>\\n       <td class=\"ot-losses\">\\n       </td>\\n       <td class=\"pct text-danger\">\\n        0.388\\n       </td>\\n       <td class=\"gf\">\\n        292\\n       </td>\\n       <td class=\"ga\">\\n        278\\n       </td>\\n       <td class=\"diff text-success\">\\n        14\\n       </td>\\n      </tr>\\n      <tr class=\"team\">\\n       <td class=\"name\">\\n        Calgary Flames\\n       </td>\\n       <td class=\"year\">\\n        1990\\n       </td>\\n       <td class=\"wins\">\\n        46\\n       </td>\\n       <td class=\"losses\">\\n        26\\n       </td>\\n       <td class=\"ot-losses\">\\n       </td>\\n       <td class=\"pct text-success\">\\n        0.575\\n       </td>\\n       <td class=\"gf\">\\n        344\\n       </td>\\n       <td class=\"ga\">\\n        263\\n       </td>\\n       <td class=\"diff text-success\">\\n        81\\n       </td>\\n      </tr>\\n      <tr class=\"team\">\\n       <td class=\"name\">\\n        Chicago Blackhawks\\n       </td>\\n       <td class=\"year\">\\n        1990\\n       </td>\\n       <td class=\"wins\">\\n        49\\n       </td>\\n       <td class=\"losses\">\\n        23\\n       </td>\\n       <td class=\"ot-losses\">\\n       </td>\\n       <td class=\"pct text-success\">\\n        0.613\\n       </td>\\n       <td class=\"gf\">\\n        284\\n       </td>\\n       <td class=\"ga\">\\n        211\\n       </td>\\n       <td class=\"diff text-success\">\\n        73\\n       </td>\\n      </tr>\\n      <tr class=\"team\">\\n       <td class=\"name\">\\n        Detroit Red Wings\\n       </td>\\n       <td class=\"year\">\\n        1990\\n       </td>\\n       <td class=\"wins\">\\n        34\\n       </td>\\n       <td class=\"losses\">\\n        38\\n       </td>\\n       <td class=\"ot-losses\">\\n       </td>\\n       <td class=\"pct text-danger\">\\n        0.425\\n       </td>\\n       <td class=\"gf\">\\n        273\\n       </td>\\n       <td class=\"ga\">\\n        298\\n       </td>\\n       <td class=\"diff text-danger\">\\n        -25\\n       </td>\\n      </tr>\\n      <tr class=\"team\">\\n       <td class=\"name\">\\n        Edmonton Oilers\\n       </td>\\n       <td class=\"year\">\\n        1990\\n       </td>\\n       <td class=\"wins\">\\n        37\\n       </td>\\n       <td class=\"losses\">\\n        37\\n       </td>\\n       <td class=\"ot-losses\">\\n       </td>\\n       <td class=\"pct text-danger\">\\n        0.463\\n       </td>\\n       <td class=\"gf\">\\n        272\\n       </td>\\n       <td class=\"ga\">\\n        272\\n       </td>\\n       <td class=\"diff text-success\">\\n        0\\n       </td>\\n      </tr>\\n      <tr class=\"team\">\\n       <td class=\"name\">\\n        Hartford Whalers\\n       </td>\\n       <td class=\"year\">\\n        1990\\n       </td>\\n       <td class=\"wins\">\\n        31\\n       </td>\\n       <td class=\"losses\">\\n        38\\n       </td>\\n       <td class=\"ot-losses\">\\n       </td>\\n       <td class=\"pct text-danger\">\\n        0.388\\n       </td>\\n       <td class=\"gf\">\\n        238\\n       </td>\\n       <td class=\"ga\">\\n        276\\n       </td>\\n       <td class=\"diff text-danger\">\\n        -38\\n       </td>\\n      </tr>\\n      <tr class=\"team\">\\n       <td class=\"name\">\\n        Los Angeles Kings\\n       </td>\\n       <td class=\"year\">\\n        1990\\n       </td>\\n       <td class=\"wins\">\\n        46\\n       </td>\\n       <td class=\"losses\">\\n        24\\n       </td>\\n       <td class=\"ot-losses\">\\n       </td>\\n       <td class=\"pct text-success\">\\n        0.575\\n       </td>\\n       <td class=\"gf\">\\n        340\\n       </td>\\n       <td class=\"ga\">\\n        254\\n       </td>\\n       <td class=\"diff text-success\">\\n        86\\n       </td>\\n      </tr>\\n      <tr class=\"team\">\\n       <td class=\"name\">\\n        Minnesota North Stars\\n       </td>\\n       <td class=\"year\">\\n        1990\\n       </td>\\n       <td class=\"wins\">\\n        27\\n       </td>\\n       <td class=\"losses\">\\n        39\\n       </td>\\n       <td class=\"ot-losses\">\\n       </td>\\n       <td class=\"pct text-danger\">\\n        0.338\\n       </td>\\n       <td class=\"gf\">\\n        256\\n       </td>\\n       <td class=\"ga\">\\n        266\\n       </td>\\n       <td class=\"diff text-danger\">\\n        -10\\n       </td>\\n      </tr>\\n      <tr class=\"team\">\\n       <td class=\"name\">\\n        Montreal Canadiens\\n       </td>\\n       <td class=\"year\">\\n        1990\\n       </td>\\n       <td class=\"wins\">\\n        39\\n       </td>\\n       <td class=\"losses\">\\n        30\\n       </td>\\n       <td class=\"ot-losses\">\\n       </td>\\n       <td class=\"pct text-danger\">\\n        0.487\\n       </td>\\n       <td class=\"gf\">\\n        273\\n       </td>\\n       <td class=\"ga\">\\n        249\\n       </td>\\n       <td class=\"diff text-success\">\\n        24\\n       </td>\\n      </tr>\\n      <tr class=\"team\">\\n       <td class=\"name\">\\n        New Jersey Devils\\n       </td>\\n       <td class=\"year\">\\n        1990\\n       </td>\\n       <td class=\"wins\">\\n        32\\n       </td>\\n       <td class=\"losses\">\\n        33\\n       </td>\\n       <td class=\"ot-losses\">\\n       </td>\\n       <td class=\"pct text-danger\">\\n        0.4\\n       </td>\\n       <td class=\"gf\">\\n        272\\n       </td>\\n       <td class=\"ga\">\\n        264\\n       </td>\\n       <td class=\"diff text-success\">\\n        8\\n       </td>\\n      </tr>\\n      <tr class=\"team\">\\n       <td class=\"name\">\\n        New York Islanders\\n       </td>\\n       <td class=\"year\">\\n        1990\\n       </td>\\n       <td class=\"wins\">\\n        25\\n       </td>\\n       <td class=\"losses\">\\n        45\\n       </td>\\n       <td class=\"ot-losses\">\\n       </td>\\n       <td class=\"pct text-danger\">\\n        0.312\\n       </td>\\n       <td class=\"gf\">\\n        223\\n       </td>\\n       <td class=\"ga\">\\n        290\\n       </td>\\n       <td class=\"diff text-danger\">\\n        -67\\n       </td>\\n      </tr>\\n      <tr class=\"team\">\\n       <td class=\"name\">\\n        New York Rangers\\n       </td>\\n       <td class=\"year\">\\n        1990\\n       </td>\\n       <td class=\"wins\">\\n        36\\n       </td>\\n       <td class=\"losses\">\\n        31\\n       </td>\\n       <td class=\"ot-losses\">\\n       </td>\\n       <td class=\"pct text-danger\">\\n        0.45\\n       </td>\\n       <td class=\"gf\">\\n        297\\n       </td>\\n       <td class=\"ga\">\\n        265\\n       </td>\\n       <td class=\"diff text-success\">\\n        32\\n       </td>\\n      </tr>\\n      <tr class=\"team\">\\n       <td class=\"name\">\\n        Philadelphia Flyers\\n       </td>\\n       <td class=\"year\">\\n        1990\\n       </td>\\n       <td class=\"wins\">\\n        33\\n       </td>\\n       <td class=\"losses\">\\n        37\\n       </td>\\n       <td class=\"ot-losses\">\\n       </td>\\n       <td class=\"pct text-danger\">\\n        0.412\\n       </td>\\n       <td class=\"gf\">\\n        252\\n       </td>\\n       <td class=\"ga\">\\n        267\\n       </td>\\n       <td class=\"diff text-danger\">\\n        -15\\n       </td>\\n      </tr>\\n      <tr class=\"team\">\\n       <td class=\"name\">\\n        Pittsburgh Penguins\\n       </td>\\n       <td class=\"year\">\\n        1990\\n       </td>\\n       <td class=\"wins\">\\n        41\\n       </td>\\n       <td class=\"losses\">\\n        33\\n       </td>\\n       <td class=\"ot-losses\">\\n       </td>\\n       <td class=\"pct text-success\">\\n        0.512\\n       </td>\\n       <td class=\"gf\">\\n        342\\n       </td>\\n       <td class=\"ga\">\\n        305\\n       </td>\\n       <td class=\"diff text-success\">\\n        37\\n       </td>\\n      </tr>\\n      <tr class=\"team\">\\n       <td class=\"name\">\\n        Quebec Nordiques\\n       </td>\\n       <td class=\"year\">\\n        1990\\n       </td>\\n       <td class=\"wins\">\\n        16\\n       </td>\\n       <td class=\"losses\">\\n        50\\n       </td>\\n       <td class=\"ot-losses\">\\n       </td>\\n       <td class=\"pct text-danger\">\\n        0.2\\n       </td>\\n       <td class=\"gf\">\\n        236\\n       </td>\\n       <td class=\"ga\">\\n        354\\n       </td>\\n       <td class=\"diff text-danger\">\\n        -118\\n       </td>\\n      </tr>\\n      <tr class=\"team\">\\n       <td class=\"name\">\\n        St. Louis Blues\\n       </td>\\n       <td class=\"year\">\\n        1990\\n       </td>\\n       <td class=\"wins\">\\n        47\\n       </td>\\n       <td class=\"losses\">\\n        22\\n       </td>\\n       <td class=\"ot-losses\">\\n       </td>\\n       <td class=\"pct text-success\">\\n        0.588\\n       </td>\\n       <td class=\"gf\">\\n        310\\n       </td>\\n       <td class=\"ga\">\\n        250\\n       </td>\\n       <td class=\"diff text-success\">\\n        60\\n       </td>\\n      </tr>\\n      <tr class=\"team\">\\n       <td class=\"name\">\\n        Toronto Maple Leafs\\n       </td>\\n       <td class=\"year\">\\n        1990\\n       </td>\\n       <td class=\"wins\">\\n        23\\n       </td>\\n       <td class=\"losses\">\\n        46\\n       </td>\\n       <td class=\"ot-losses\">\\n       </td>\\n       <td class=\"pct text-danger\">\\n        0.287\\n       </td>\\n       <td class=\"gf\">\\n        241\\n       </td>\\n       <td class=\"ga\">\\n        318\\n       </td>\\n       <td class=\"diff text-danger\">\\n        -77\\n       </td>\\n      </tr>\\n      <tr class=\"team\">\\n       <td class=\"name\">\\n        Vancouver Canucks\\n       </td>\\n       <td class=\"year\">\\n        1990\\n       </td>\\n       <td class=\"wins\">\\n        28\\n       </td>\\n       <td class=\"losses\">\\n        43\\n       </td>\\n       <td class=\"ot-losses\">\\n       </td>\\n       <td class=\"pct text-danger\">\\n        0.35\\n       </td>\\n       <td class=\"gf\">\\n        243\\n       </td>\\n       <td class=\"ga\">\\n        315\\n       </td>\\n       <td class=\"diff text-danger\">\\n        -72\\n       </td>\\n      </tr>\\n      <tr class=\"team\">\\n       <td class=\"name\">\\n        Washington Capitals\\n       </td>\\n       <td class=\"year\">\\n        1990\\n       </td>\\n       <td class=\"wins\">\\n        37\\n       </td>\\n       <td class=\"losses\">\\n        36\\n       </td>\\n       <td class=\"ot-losses\">\\n       </td>\\n       <td class=\"pct text-danger\">\\n        0.463\\n       </td>\\n       <td class=\"gf\">\\n        258\\n       </td>\\n       <td class=\"ga\">\\n        258\\n       </td>\\n       <td class=\"diff text-success\">\\n        0\\n       </td>\\n      </tr>\\n      <tr class=\"team\">\\n       <td class=\"name\">\\n        Winnipeg Jets\\n       </td>\\n       <td class=\"year\">\\n        1990\\n       </td>\\n       <td class=\"wins\">\\n        26\\n       </td>\\n       <td class=\"losses\">\\n        43\\n       </td>\\n       <td class=\"ot-losses\">\\n       </td>\\n       <td class=\"pct text-danger\">\\n        0.325\\n       </td>\\n       <td class=\"gf\">\\n        260\\n       </td>\\n       <td class=\"ga\">\\n        288\\n       </td>\\n       <td class=\"diff text-danger\">\\n        -28\\n       </td>\\n      </tr>\\n      <tr class=\"team\">\\n       <td class=\"name\">\\n        Boston Bruins\\n       </td>\\n       <td class=\"year\">\\n        1991\\n       </td>\\n       <td class=\"wins\">\\n        36\\n       </td>\\n       <td class=\"losses\">\\n        32\\n       </td>\\n       <td class=\"ot-losses\">\\n       </td>\\n       <td class=\"pct text-danger\">\\n        0.45\\n       </td>\\n       <td class=\"gf\">\\n        270\\n       </td>\\n       <td class=\"ga\">\\n        275\\n       </td>\\n       <td class=\"diff text-danger\">\\n        -5\\n       </td>\\n      </tr>\\n      <tr class=\"team\">\\n       <td class=\"name\">\\n        Buffalo Sabres\\n       </td>\\n       <td class=\"year\">\\n        1991\\n       </td>\\n       <td class=\"wins\">\\n        31\\n       </td>\\n       <td class=\"losses\">\\n        37\\n       </td>\\n       <td class=\"ot-losses\">\\n       </td>\\n       <td class=\"pct text-danger\">\\n        0.388\\n       </td>\\n       <td class=\"gf\">\\n        289\\n       </td>\\n       <td class=\"ga\">\\n        299\\n       </td>\\n       <td class=\"diff text-danger\">\\n        -10\\n       </td>\\n      </tr>\\n      <tr class=\"team\">\\n       <td class=\"name\">\\n        Calgary Flames\\n       </td>\\n       <td class=\"year\">\\n        1991\\n       </td>\\n       <td class=\"wins\">\\n        31\\n       </td>\\n       <td class=\"losses\">\\n        37\\n       </td>\\n       <td class=\"ot-losses\">\\n       </td>\\n       <td class=\"pct text-danger\">\\n        0.388\\n       </td>\\n       <td class=\"gf\">\\n        296\\n       </td>\\n       <td class=\"ga\">\\n        305\\n       </td>\\n       <td class=\"diff text-danger\">\\n        -9\\n       </td>\\n      </tr>\\n      <tr class=\"team\">\\n       <td class=\"name\">\\n        Chicago Blackhawks\\n       </td>\\n       <td class=\"year\">\\n        1991\\n       </td>\\n       <td class=\"wins\">\\n        36\\n       </td>\\n       <td class=\"losses\">\\n        29\\n       </td>\\n       <td class=\"ot-losses\">\\n       </td>\\n       <td class=\"pct text-danger\">\\n        0.45\\n       </td>\\n       <td class=\"gf\">\\n        257\\n       </td>\\n       <td class=\"ga\">\\n        236\\n       </td>\\n       <td class=\"diff text-success\">\\n        21\\n       </td>\\n      </tr>\\n     </table>\\n     <div class=\"row pagination-area\">\\n      <div class=\"col-md-10 text-center\">\\n       <ul class=\"pagination\">\\n        <li>\\n         <a href=\"/pages/forms/?page_num=1\">\\n          1\\n         </a>\\n        </li>\\n        <li>\\n         <a href=\"/pages/forms/?page_num=2\">\\n          2\\n         </a>\\n        </li>\\n        <li>\\n         <a href=\"/pages/forms/?page_num=3\">\\n          3\\n         </a>\\n        </li>\\n        <li>\\n         <a href=\"/pages/forms/?page_num=4\">\\n          4\\n         </a>\\n        </li>\\n        <li>\\n         <a href=\"/pages/forms/?page_num=5\">\\n          5\\n         </a>\\n        </li>\\n        <li>\\n         <a href=\"/pages/forms/?page_num=6\">\\n          6\\n         </a>\\n        </li>\\n        <li>\\n         <a href=\"/pages/forms/?page_num=7\">\\n          7\\n         </a>\\n        </li>\\n        <li>\\n         <a href=\"/pages/forms/?page_num=8\">\\n          8\\n         </a>\\n        </li>\\n        <li>\\n         <a href=\"/pages/forms/?page_num=9\">\\n          9\\n         </a>\\n        </li>\\n        <li>\\n         <a href=\"/pages/forms/?page_num=10\">\\n          10\\n         </a>\\n        </li>\\n        <li>\\n         <a href=\"/pages/forms/?page_num=11\">\\n          11\\n         </a>\\n        </li>\\n        <li>\\n         <a href=\"/pages/forms/?page_num=12\">\\n          12\\n         </a>\\n        </li>\\n        <li>\\n         <a href=\"/pages/forms/?page_num=13\">\\n          13\\n         </a>\\n        </li>\\n        <li>\\n         <a href=\"/pages/forms/?page_num=14\">\\n          14\\n         </a>\\n        </li>\\n        <li>\\n         <a href=\"/pages/forms/?page_num=15\">\\n          15\\n         </a>\\n        </li>\\n        <li>\\n         <a href=\"/pages/forms/?page_num=16\">\\n          16\\n         </a>\\n        </li>\\n        <li>\\n         <a href=\"/pages/forms/?page_num=17\">\\n          17\\n         </a>\\n        </li>\\n        <li>\\n         <a href=\"/pages/forms/?page_num=18\">\\n          18\\n         </a>\\n        </li>\\n        <li>\\n         <a href=\"/pages/forms/?page_num=19\">\\n          19\\n         </a>\\n        </li>\\n        <li>\\n         <a href=\"/pages/forms/?page_num=20\">\\n          20\\n         </a>\\n        </li>\\n        <li>\\n         <a href=\"/pages/forms/?page_num=21\">\\n          21\\n         </a>\\n        </li>\\n        <li>\\n         <a href=\"/pages/forms/?page_num=22\">\\n          22\\n         </a>\\n        </li>\\n        <li>\\n         <a href=\"/pages/forms/?page_num=23\">\\n          23\\n         </a>\\n        </li>\\n        <li>\\n         <a href=\"/pages/forms/?page_num=24\">\\n          24\\n         </a>\\n        </li>\\n        <li>\\n         <a aria-label=\"Next\" href=\"/pages/forms/?page_num=1\">\\n          <span aria-hidden=\"true\">\\n           »\\n          </span>\\n         </a>\\n        </li>\\n       </ul>\\n      </div>\\n      <!--.col-->\\n      <div class=\"col-md-1\" style=\"padding:20px 0\">\\n       <strong>\\n        Per Page\\n       </strong>\\n      </div>\\n      <div class=\"col-md-1\" style=\"padding:20px 0\">\\n       <select class=\"form-control col-md-3\" id=\"per_page\">\\n        <option value=\"25\">\\n         25\\n        </option>\\n        <option value=\"50\">\\n         50\\n        </option>\\n        <option value=\"100\">\\n         100\\n        </option>\\n       </select>\\n      </div>\\n      <!--.col-->\\n     </div>\\n     <!--.row.pagination-area-->\\n    </div>\\n    <!--.container-->\\n   </section>\\n  </div>\\n  <!--#page-->\\n  <section id=\"footer\">\\n   <div class=\"container\">\\n    <div class=\"row\">\\n     <div class=\"col-md-12 text-center text-muted\">\\n      Lessons and Videos © Hartley Brody 2018\\n     </div>\\n     <!--.col-->\\n    </div>\\n    <!--.row-->\\n   </div>\\n   <!--.container-->\\n  </section>\\n </body>\\n <script src=\"https://ajax.googleapis.com/ajax/libs/jquery/1.11.3/jquery.min.js\">\\n </script>\\n <script crossorigin=\"anonymous\" integrity=\"sha256-Sk3nkD6mLTMOF0EOpNtsIry+s1CsaqQC1rVLTAy+0yc= sha512-K1qjQ+NcF2TYO/eI3M6v8EiNYZfA95pQumfvcVrTHtwQVDG+aHRqLi/ETn2uB+1JqwYqVG3LIvdm9lj6imS/pQ==\" src=\"https://maxcdn.bootstrapcdn.com/bootstrap/3.3.5/js/bootstrap.min.js\">\\n </script>\\n <script type=\"text/javascript\">\\n  $(document).ready( function(){\\n            $(\"#per_page\").change(function(){\\n                prot = document.location.protocol\\n                host = \\'www.scrapethissite.com\\'\\n                path = document.location.pathname\\n                args = {\\n                    \"per_page\": $(\"#per_page\").val(),\\n                }\\n                search_val = $(\"#q\").val()\\n                if (search_val){\\n                    args[\"q\"] = search_val;\\n                }\\n                document.location = prot + \\'//\\' + host + path + \\'?\\' + $.param(args);\\n            })\\n        });\\n </script>\\n <script src=\"https://cdnjs.cloudflare.com/ajax/libs/pnotify/2.1.0/pnotify.core.min.js\">\\n </script>\\n <link href=\"https://cdnjs.cloudflare.com/ajax/libs/pnotify/2.1.0/pnotify.core.min.css\" rel=\"stylesheet\" type=\"text/css\"/>\\n <!-- pnotify messages -->\\n <script type=\"text/javascript\">\\n  PNotify.prototype.options.styling = \"bootstrap3\";\\n    $(function(){\\n      \\n    });\\n    \\n\\n    $(function () {\\n      $(\\'[data-toggle=\"tooltip\"]\\').tooltip()\\n    })\\n </script>\\n <!-- golbal video controls -->\\n <script type=\"text/javascript\">\\n  $(\"video\").hover(function() {\\n        $(this).prop(\"controls\", true);\\n    }, function() {\\n        $(this).prop(\"controls\", false);\\n    });\\n\\n    $(\"video\").click(function() {\\n        if( this.paused){\\n            this.play();\\n        }\\n        else {\\n            this.pause();\\n        }\\n    });\\n </script>\\n <!-- insert google analytics here -->\\n <script>\\n  (function(i,s,o,g,r,a,m){i[\\'GoogleAnalyticsObject\\']=r;i[r]=i[r]||function(){\\n    (i[r].q=i[r].q||[]).push(arguments)},i[r].l=1*new Date();a=s.createElement(o),\\n    m=s.getElementsByTagName(o)[0];a.async=1;a.src=g;m.parentNode.insertBefore(a,m)\\n    })(window,document,\\'script\\',\\'https://www.google-analytics.com/analytics.js\\',\\'ga\\');\\n\\n    ga(\\'create\\', \\'UA-41551755-8\\', \\'auto\\');\\n    ga(\\'send\\', \\'pageview\\');\\n </script>\\n <!-- Facebook Pixel Code -->\\n <script>\\n  !function(f,b,e,v,n,t,s){if(f.fbq)return;n=f.fbq=function(){n.callMethod?\\n  n.callMethod.apply(n,arguments):n.queue.push(arguments)};if(!f._fbq)f._fbq=n;\\n  n.push=n;n.loaded=!0;n.version=\\'2.0\\';n.queue=[];t=b.createElement(e);t.async=!0;\\n  t.src=v;s=b.getElementsByTagName(e)[0];s.parentNode.insertBefore(t,s)}(window,\\n  document,\\'script\\',\\'https://connect.facebook.net/en_US/fbevents.js\\');\\n\\n  fbq(\\'init\\', \\'764287443701341\\');\\n  fbq(\\'track\\', \"PageView\");\\n </script>\\n <noscript>\\n  <img height=\"1\" src=\"https://www.facebook.com/tr?id=764287443701341&amp;ev=PageView&amp;noscript=1\" style=\"display:none\" width=\"1\"/>\\n </noscript>\\n <!-- End Facebook Pixel Code -->\\n <!-- Google Code for Remarketing Tag -->\\n <script type=\"text/javascript\">\\n  /* <![CDATA[ */\\n    var google_conversion_id = 950945448;\\n    var google_custom_params = window.google_tag_params;\\n    var google_remarketing_only = true;\\n    /* ]]> */\\n </script>\\n <script src=\"//www.googleadservices.com/pagead/conversion.js\" type=\"text/javascript\">\\n </script>\\n <noscript>\\n  <div style=\"display:inline;\">\\n   <img alt=\"\" height=\"1\" src=\"//googleads.g.doubleclick.net/pagead/viewthroughconversion/950945448/?guid=ON&amp;script=0\" style=\"border-style:none;\" width=\"1\"/>\\n  </div>\\n </noscript>\\n <!-- Global site tag (gtag.js) - Google AdWords: 950945448 -->\\n <script async=\"\" src=\"https://www.googletagmanager.com/gtag/js?id=AW-950945448\">\\n </script>\\n <script>\\n  window.dataLayer = window.dataLayer || [];\\n   function gtag(){dataLayer.push(arguments);}\\n   gtag(\\'js\\', new Date());\\n\\n   gtag(\\'config\\', \\'AW-950945448\\');\\n </script>\\n</html>'"
      ]
     },
     "execution_count": 5,
     "metadata": {},
     "output_type": "execute_result"
    }
   ],
   "source": [
    "html_text.prettify() # used prettify function to see the code in right order"
   ]
  },
  {
   "cell_type": "code",
   "execution_count": 6,
   "id": "4379e65c",
   "metadata": {},
   "outputs": [
    {
     "data": {
      "text/plain": [
       "<title>Hockey Teams: Forms, Searching and Pagination | Scrape This Site | A public sandbox for learning web scraping</title>"
      ]
     },
     "execution_count": 6,
     "metadata": {},
     "output_type": "execute_result"
    }
   ],
   "source": [
    "html_text.title ## reading the title of the page"
   ]
  },
  {
   "cell_type": "code",
   "execution_count": 7,
   "id": "7ecef7f8",
   "metadata": {},
   "outputs": [
    {
     "data": {
      "text/plain": [
       "'title'"
      ]
     },
     "execution_count": 7,
     "metadata": {},
     "output_type": "execute_result"
    }
   ],
   "source": [
    "html_text.title.name ## reading title tag name"
   ]
  },
  {
   "cell_type": "code",
   "execution_count": 8,
   "id": "889976fe",
   "metadata": {},
   "outputs": [
    {
     "data": {
      "text/plain": [
       "'Hockey Teams: Forms, Searching and Pagination | Scrape This Site | A public sandbox for learning web scraping'"
      ]
     },
     "execution_count": 8,
     "metadata": {},
     "output_type": "execute_result"
    }
   ],
   "source": [
    "html_text.title.string ## Extracting string/text/content of the title tag"
   ]
  },
  {
   "cell_type": "code",
   "execution_count": 9,
   "id": "624f0584",
   "metadata": {},
   "outputs": [
    {
     "data": {
      "text/plain": [
       "<head>\n",
       "<meta charset=\"utf-8\"/>\n",
       "<title>Hockey Teams: Forms, Searching and Pagination | Scrape This Site | A public sandbox for learning web scraping</title>\n",
       "<link href=\"/static/images/scraper-icon.png\" rel=\"icon\" type=\"image/png\"/>\n",
       "<meta content=\"width=device-width, initial-scale=1.0\" name=\"viewport\"/>\n",
       "<meta content=\"Browse through a database of NHL team stats since 1990. Practice building a scraper that handles common website interface components.\" name=\"description\"/>\n",
       "<link crossorigin=\"anonymous\" href=\"https://maxcdn.bootstrapcdn.com/bootstrap/3.3.5/css/bootstrap.min.css\" integrity=\"sha256-MfvZlkHCEqatNoGiOXveE8FIwMzZg4W85qfrfIFBfYc= sha512-dTfge/zgoMYpP7QbHy4gWMEGsbsdZeCXz7irItjcC3sPUFtf0kuFbDz/ixG7ArTxmDjLXDmezHubeNikyKGVyQ==\" rel=\"stylesheet\"/>\n",
       "<link href=\"https://fonts.googleapis.com/css?family=Lato:400,700\" rel=\"stylesheet\" type=\"text/css\"/>\n",
       "<link href=\"/static/css/styles.css\" rel=\"stylesheet\" type=\"text/css\"/>\n",
       "<meta content=\"noindex\" name=\"robots\"/>\n",
       "</head>"
      ]
     },
     "execution_count": 9,
     "metadata": {},
     "output_type": "execute_result"
    }
   ],
   "source": [
    "html_text.title.parent # cheking parent tag of the title tag"
   ]
  },
  {
   "cell_type": "code",
   "execution_count": 10,
   "id": "e49d6ccf",
   "metadata": {},
   "outputs": [
    {
     "data": {
      "text/plain": [
       "'head'"
      ]
     },
     "execution_count": 10,
     "metadata": {},
     "output_type": "execute_result"
    }
   ],
   "source": [
    "html_text.title.parent.name # Checking parent tag name"
   ]
  },
  {
   "cell_type": "code",
   "execution_count": 11,
   "id": "600bc72f",
   "metadata": {},
   "outputs": [
    {
     "data": {
      "text/plain": [
       "[<p class=\"lead\">\n",
       "                             Browse through a database of NHL team stats since 1990. Practice building a scraper that handles common website interface components.\n",
       "                             Take a look at how pagination and search elements change the URL as your browse. Build a web scraper that can conduct searches and paginate through the results.\n",
       "                         </p>,\n",
       " <p>\n",
       " <i class=\"glyphicon glyphicon-education\"></i> There are <a href=\"/lessons/\">8 video lessons</a> that show you how to scrape this page.\n",
       "                         </p>,\n",
       " <p>\n",
       "                             \n",
       "                                 Data via\n",
       "                                 <a class=\"data-attribution\" href=\"http://www.opensourcesports.com/hockey/\" target=\"_blank\">http://www.opensourcesports.com/hockey/</a>\n",
       " </p>]"
      ]
     },
     "execution_count": 11,
     "metadata": {},
     "output_type": "execute_result"
    }
   ],
   "source": [
    "html_text.find_all('p') # Finding all the '<p>' tags in the page"
   ]
  },
  {
   "cell_type": "code",
   "execution_count": 12,
   "id": "2562588f",
   "metadata": {},
   "outputs": [
    {
     "data": {
      "text/plain": [
       "<p class=\"lead\">\n",
       "                            Browse through a database of NHL team stats since 1990. Practice building a scraper that handles common website interface components.\n",
       "                            Take a look at how pagination and search elements change the URL as your browse. Build a web scraper that can conduct searches and paginate through the results.\n",
       "                        </p>"
      ]
     },
     "execution_count": 12,
     "metadata": {},
     "output_type": "execute_result"
    }
   ],
   "source": [
    "html_text.p # returns the furst tag named as '<p>'"
   ]
  },
  {
   "cell_type": "code",
   "execution_count": 13,
   "id": "e610844f",
   "metadata": {},
   "outputs": [
    {
     "data": {
      "text/plain": [
       "'\\n                            Browse through a database of NHL team stats since 1990. Practice building a scraper that handles common website interface components.\\n                            Take a look at how pagination and search elements change the URL as your browse. Build a web scraper that can conduct searches and paginate through the results.\\n                        '"
      ]
     },
     "execution_count": 13,
     "metadata": {},
     "output_type": "execute_result"
    }
   ],
   "source": [
    "html_text.p.string # extracting the string/text/content of <p> tag"
   ]
  },
  {
   "cell_type": "code",
   "execution_count": 14,
   "id": "da9cf796",
   "metadata": {},
   "outputs": [
    {
     "data": {
      "text/plain": [
       "'Browse through a database of NHL team stats since 1990. Practice building a scraper that handles common website interface components.\\n                            Take a look at how pagination and search elements change the URL as your browse. Build a web scraper that can conduct searches and paginate through the results.'"
      ]
     },
     "execution_count": 14,
     "metadata": {},
     "output_type": "execute_result"
    }
   ],
   "source": [
    "html_text.p.string.strip() # removing starting and trailing spaces from the string using \"strip\" function"
   ]
  },
  {
   "cell_type": "code",
   "execution_count": 15,
   "id": "a0042677",
   "metadata": {},
   "outputs": [
    {
     "name": "stdout",
     "output_type": "stream",
     "text": [
      "/static/images/scraper-icon.png\n",
      "https://maxcdn.bootstrapcdn.com/bootstrap/3.3.5/css/bootstrap.min.css\n",
      "https://fonts.googleapis.com/css?family=Lato:400,700\n",
      "/static/css/styles.css\n",
      "https://cdnjs.cloudflare.com/ajax/libs/pnotify/2.1.0/pnotify.core.min.css\n"
     ]
    }
   ],
   "source": [
    "# finding all the links available on the page using \"get\" function\n",
    "for links in html_text.find_all('link'):\n",
    "    print(links.get('href'))  \n",
    "    "
   ]
  },
  {
   "cell_type": "code",
   "execution_count": 16,
   "id": "70a8bc4d",
   "metadata": {},
   "outputs": [
    {
     "data": {
      "text/plain": [
       "'\\n\\n\\n\\nHockey Teams: Forms, Searching and Pagination | Scrape This Site | A public sandbox for learning web scraping\\n\\n\\n\\n\\n\\n\\n\\n\\n\\n\\n\\n\\n\\n\\n\\n\\n                                Scrape This Site\\n                            \\n\\n\\n\\n\\n                                Sandbox\\n                            \\n\\n\\n\\n\\n                                Lessons\\n                            \\n\\n\\n\\n\\n                                FAQ\\n                            \\n\\n\\n\\n                                Login\\n                            \\n\\n\\n\\n\\n\\n\\n\\n\\n\\n\\n\\n\\n                            Hockey Teams: Forms, Searching and Pagination\\n                            25 items\\n\\n\\n\\n\\n\\n\\n\\n                            Browse through a database of NHL team stats since 1990. Practice building a scraper that handles common website interface components.\\n                            Take a look at how pagination and search elements change the URL as your browse. Build a web scraper that can conduct searches and paginate through the results.\\n                        \\n\\n\\n\\n\\n\\n\\n There are 8 video lessons that show you how to scrape this page.\\n                        \\n\\n\\n\\n\\n                            \\n                                Data via\\n                                http://www.opensourcesports.com/hockey/\\n\\n\\n\\n\\n\\n\\n\\n\\n                                Search for Teams: \\xa0\\n                            \\n\\n\\n\\n\\n\\n\\n\\n\\n\\n                            Team Name\\n                        \\n\\n                            Year\\n                        \\n\\n                            Wins\\n                        \\n\\n                            Losses\\n                        \\n\\n                            OT Losses\\n                        \\n\\n                            Win %\\n                        \\n\\n                            Goals For (GF)\\n                        \\n\\n                            Goals Against (GA)\\n                        \\n\\n                            + / -\\n                        \\n\\n\\n\\n                            Boston Bruins\\n                        \\n\\n                            1990\\n                        \\n\\n                            44\\n                        \\n\\n                            24\\n                        \\n\\n\\n\\n                            0.55\\n                        \\n\\n                            299\\n                        \\n\\n                            264\\n                        \\n\\n                            35\\n                        \\n\\n\\n\\n                            Buffalo Sabres\\n                        \\n\\n                            1990\\n                        \\n\\n                            31\\n                        \\n\\n                            30\\n                        \\n\\n\\n\\n                            0.388\\n                        \\n\\n                            292\\n                        \\n\\n                            278\\n                        \\n\\n                            14\\n                        \\n\\n\\n\\n                            Calgary Flames\\n                        \\n\\n                            1990\\n                        \\n\\n                            46\\n                        \\n\\n                            26\\n                        \\n\\n\\n\\n                            0.575\\n                        \\n\\n                            344\\n                        \\n\\n                            263\\n                        \\n\\n                            81\\n                        \\n\\n\\n\\n                            Chicago Blackhawks\\n                        \\n\\n                            1990\\n                        \\n\\n                            49\\n                        \\n\\n                            23\\n                        \\n\\n\\n\\n                            0.613\\n                        \\n\\n                            284\\n                        \\n\\n                            211\\n                        \\n\\n                            73\\n                        \\n\\n\\n\\n                            Detroit Red Wings\\n                        \\n\\n                            1990\\n                        \\n\\n                            34\\n                        \\n\\n                            38\\n                        \\n\\n\\n\\n                            0.425\\n                        \\n\\n                            273\\n                        \\n\\n                            298\\n                        \\n\\n                            -25\\n                        \\n\\n\\n\\n                            Edmonton Oilers\\n                        \\n\\n                            1990\\n                        \\n\\n                            37\\n                        \\n\\n                            37\\n                        \\n\\n\\n\\n                            0.463\\n                        \\n\\n                            272\\n                        \\n\\n                            272\\n                        \\n\\n                            0\\n                        \\n\\n\\n\\n                            Hartford Whalers\\n                        \\n\\n                            1990\\n                        \\n\\n                            31\\n                        \\n\\n                            38\\n                        \\n\\n\\n\\n                            0.388\\n                        \\n\\n                            238\\n                        \\n\\n                            276\\n                        \\n\\n                            -38\\n                        \\n\\n\\n\\n                            Los Angeles Kings\\n                        \\n\\n                            1990\\n                        \\n\\n                            46\\n                        \\n\\n                            24\\n                        \\n\\n\\n\\n                            0.575\\n                        \\n\\n                            340\\n                        \\n\\n                            254\\n                        \\n\\n                            86\\n                        \\n\\n\\n\\n                            Minnesota North Stars\\n                        \\n\\n                            1990\\n                        \\n\\n                            27\\n                        \\n\\n                            39\\n                        \\n\\n\\n\\n                            0.338\\n                        \\n\\n                            256\\n                        \\n\\n                            266\\n                        \\n\\n                            -10\\n                        \\n\\n\\n\\n                            Montreal Canadiens\\n                        \\n\\n                            1990\\n                        \\n\\n                            39\\n                        \\n\\n                            30\\n                        \\n\\n\\n\\n                            0.487\\n                        \\n\\n                            273\\n                        \\n\\n                            249\\n                        \\n\\n                            24\\n                        \\n\\n\\n\\n                            New Jersey Devils\\n                        \\n\\n                            1990\\n                        \\n\\n                            32\\n                        \\n\\n                            33\\n                        \\n\\n\\n\\n                            0.4\\n                        \\n\\n                            272\\n                        \\n\\n                            264\\n                        \\n\\n                            8\\n                        \\n\\n\\n\\n                            New York Islanders\\n                        \\n\\n                            1990\\n                        \\n\\n                            25\\n                        \\n\\n                            45\\n                        \\n\\n\\n\\n                            0.312\\n                        \\n\\n                            223\\n                        \\n\\n                            290\\n                        \\n\\n                            -67\\n                        \\n\\n\\n\\n                            New York Rangers\\n                        \\n\\n                            1990\\n                        \\n\\n                            36\\n                        \\n\\n                            31\\n                        \\n\\n\\n\\n                            0.45\\n                        \\n\\n                            297\\n                        \\n\\n                            265\\n                        \\n\\n                            32\\n                        \\n\\n\\n\\n                            Philadelphia Flyers\\n                        \\n\\n                            1990\\n                        \\n\\n                            33\\n                        \\n\\n                            37\\n                        \\n\\n\\n\\n                            0.412\\n                        \\n\\n                            252\\n                        \\n\\n                            267\\n                        \\n\\n                            -15\\n                        \\n\\n\\n\\n                            Pittsburgh Penguins\\n                        \\n\\n                            1990\\n                        \\n\\n                            41\\n                        \\n\\n                            33\\n                        \\n\\n\\n\\n                            0.512\\n                        \\n\\n                            342\\n                        \\n\\n                            305\\n                        \\n\\n                            37\\n                        \\n\\n\\n\\n                            Quebec Nordiques\\n                        \\n\\n                            1990\\n                        \\n\\n                            16\\n                        \\n\\n                            50\\n                        \\n\\n\\n\\n                            0.2\\n                        \\n\\n                            236\\n                        \\n\\n                            354\\n                        \\n\\n                            -118\\n                        \\n\\n\\n\\n                            St. Louis Blues\\n                        \\n\\n                            1990\\n                        \\n\\n                            47\\n                        \\n\\n                            22\\n                        \\n\\n\\n\\n                            0.588\\n                        \\n\\n                            310\\n                        \\n\\n                            250\\n                        \\n\\n                            60\\n                        \\n\\n\\n\\n                            Toronto Maple Leafs\\n                        \\n\\n                            1990\\n                        \\n\\n                            23\\n                        \\n\\n                            46\\n                        \\n\\n\\n\\n                            0.287\\n                        \\n\\n                            241\\n                        \\n\\n                            318\\n                        \\n\\n                            -77\\n                        \\n\\n\\n\\n                            Vancouver Canucks\\n                        \\n\\n                            1990\\n                        \\n\\n                            28\\n                        \\n\\n                            43\\n                        \\n\\n\\n\\n                            0.35\\n                        \\n\\n                            243\\n                        \\n\\n                            315\\n                        \\n\\n                            -72\\n                        \\n\\n\\n\\n                            Washington Capitals\\n                        \\n\\n                            1990\\n                        \\n\\n                            37\\n                        \\n\\n                            36\\n                        \\n\\n\\n\\n                            0.463\\n                        \\n\\n                            258\\n                        \\n\\n                            258\\n                        \\n\\n                            0\\n                        \\n\\n\\n\\n                            Winnipeg Jets\\n                        \\n\\n                            1990\\n                        \\n\\n                            26\\n                        \\n\\n                            43\\n                        \\n\\n\\n\\n                            0.325\\n                        \\n\\n                            260\\n                        \\n\\n                            288\\n                        \\n\\n                            -28\\n                        \\n\\n\\n\\n                            Boston Bruins\\n                        \\n\\n                            1991\\n                        \\n\\n                            36\\n                        \\n\\n                            32\\n                        \\n\\n\\n\\n                            0.45\\n                        \\n\\n                            270\\n                        \\n\\n                            275\\n                        \\n\\n                            -5\\n                        \\n\\n\\n\\n                            Buffalo Sabres\\n                        \\n\\n                            1991\\n                        \\n\\n                            31\\n                        \\n\\n                            37\\n                        \\n\\n\\n\\n                            0.388\\n                        \\n\\n                            289\\n                        \\n\\n                            299\\n                        \\n\\n                            -10\\n                        \\n\\n\\n\\n                            Calgary Flames\\n                        \\n\\n                            1991\\n                        \\n\\n                            31\\n                        \\n\\n                            37\\n                        \\n\\n\\n\\n                            0.388\\n                        \\n\\n                            296\\n                        \\n\\n                            305\\n                        \\n\\n                            -9\\n                        \\n\\n\\n\\n                            Chicago Blackhawks\\n                        \\n\\n                            1991\\n                        \\n\\n                            36\\n                        \\n\\n                            29\\n                        \\n\\n\\n\\n                            0.45\\n                        \\n\\n                            257\\n                        \\n\\n                            236\\n                        \\n\\n                            21\\n                        \\n\\n\\n\\n\\n\\n\\n\\n                                    \\n                                    1\\n                                    \\n                                \\n\\n\\n\\n                                    \\n                                    2\\n                                    \\n                                \\n\\n\\n\\n                                    \\n                                    3\\n                                    \\n                                \\n\\n\\n\\n                                    \\n                                    4\\n                                    \\n                                \\n\\n\\n\\n                                    \\n                                    5\\n                                    \\n                                \\n\\n\\n\\n                                    \\n                                    6\\n                                    \\n                                \\n\\n\\n\\n                                    \\n                                    7\\n                                    \\n                                \\n\\n\\n\\n                                    \\n                                    8\\n                                    \\n                                \\n\\n\\n\\n                                    \\n                                    9\\n                                    \\n                                \\n\\n\\n\\n                                    \\n                                    10\\n                                    \\n                                \\n\\n\\n\\n                                    \\n                                    11\\n                                    \\n                                \\n\\n\\n\\n                                    \\n                                    12\\n                                    \\n                                \\n\\n\\n\\n                                    \\n                                    13\\n                                    \\n                                \\n\\n\\n\\n                                    \\n                                    14\\n                                    \\n                                \\n\\n\\n\\n                                    \\n                                    15\\n                                    \\n                                \\n\\n\\n\\n                                    \\n                                    16\\n                                    \\n                                \\n\\n\\n\\n                                    \\n                                    17\\n                                    \\n                                \\n\\n\\n\\n                                    \\n                                    18\\n                                    \\n                                \\n\\n\\n\\n                                    \\n                                    19\\n                                    \\n                                \\n\\n\\n\\n                                    \\n                                    20\\n                                    \\n                                \\n\\n\\n\\n                                    \\n                                    21\\n                                    \\n                                \\n\\n\\n\\n                                    \\n                                    22\\n                                    \\n                                \\n\\n\\n\\n                                    \\n                                    23\\n                                    \\n                                \\n\\n\\n\\n                                    \\n                                    24\\n                                    \\n                                \\n\\n\\n\\n»\\n\\n\\n\\n\\n\\nPer Page\\n\\n\\n\\n25\\n50\\n100\\n\\n\\n\\n\\n\\n\\n\\n\\n\\n\\n                    Lessons and Videos © Hartley Brody 2018\\n                \\n\\n\\n\\n\\n\\n\\n\\n\\n\\n\\n\\n\\n\\n\\n\\n\\n\\n\\n\\n\\n\\n\\n\\n\\n\\n\\n\\n\\n\\n\\n'"
      ]
     },
     "execution_count": 16,
     "metadata": {},
     "output_type": "execute_result"
    }
   ],
   "source": [
    "html_text.get_text() #using \"get_text\" function to extract the text of the page"
   ]
  },
  {
   "cell_type": "code",
   "execution_count": 17,
   "id": "69bf4216",
   "metadata": {},
   "outputs": [
    {
     "data": {
      "text/plain": [
       "'Hockey Teams: Forms, Searching and Pagination | Scrape This Site | A public sandbox for learning web scraping\\n\\n\\n\\n\\n\\n\\n\\n\\n\\n\\n\\n\\n\\n\\n\\n\\n                                Scrape This Site\\n                            \\n\\n\\n\\n\\n                                Sandbox\\n                            \\n\\n\\n\\n\\n                                Lessons\\n                            \\n\\n\\n\\n\\n                                FAQ\\n                            \\n\\n\\n\\n                                Login\\n                            \\n\\n\\n\\n\\n\\n\\n\\n\\n\\n\\n\\n\\n                            Hockey Teams: Forms, Searching and Pagination\\n                            25 items\\n\\n\\n\\n\\n\\n\\n\\n                            Browse through a database of NHL team stats since 1990. Practice building a scraper that handles common website interface components.\\n                            Take a look at how pagination and search elements change the URL as your browse. Build a web scraper that can conduct searches and paginate through the results.\\n                        \\n\\n\\n\\n\\n\\n\\n There are 8 video lessons that show you how to scrape this page.\\n                        \\n\\n\\n\\n\\n                            \\n                                Data via\\n                                http://www.opensourcesports.com/hockey/\\n\\n\\n\\n\\n\\n\\n\\n\\n                                Search for Teams: \\xa0\\n                            \\n\\n\\n\\n\\n\\n\\n\\n\\n\\n                            Team Name\\n                        \\n\\n                            Year\\n                        \\n\\n                            Wins\\n                        \\n\\n                            Losses\\n                        \\n\\n                            OT Losses\\n                        \\n\\n                            Win %\\n                        \\n\\n                            Goals For (GF)\\n                        \\n\\n                            Goals Against (GA)\\n                        \\n\\n                            + / -\\n                        \\n\\n\\n\\n                            Boston Bruins\\n                        \\n\\n                            1990\\n                        \\n\\n                            44\\n                        \\n\\n                            24\\n                        \\n\\n\\n\\n                            0.55\\n                        \\n\\n                            299\\n                        \\n\\n                            264\\n                        \\n\\n                            35\\n                        \\n\\n\\n\\n                            Buffalo Sabres\\n                        \\n\\n                            1990\\n                        \\n\\n                            31\\n                        \\n\\n                            30\\n                        \\n\\n\\n\\n                            0.388\\n                        \\n\\n                            292\\n                        \\n\\n                            278\\n                        \\n\\n                            14\\n                        \\n\\n\\n\\n                            Calgary Flames\\n                        \\n\\n                            1990\\n                        \\n\\n                            46\\n                        \\n\\n                            26\\n                        \\n\\n\\n\\n                            0.575\\n                        \\n\\n                            344\\n                        \\n\\n                            263\\n                        \\n\\n                            81\\n                        \\n\\n\\n\\n                            Chicago Blackhawks\\n                        \\n\\n                            1990\\n                        \\n\\n                            49\\n                        \\n\\n                            23\\n                        \\n\\n\\n\\n                            0.613\\n                        \\n\\n                            284\\n                        \\n\\n                            211\\n                        \\n\\n                            73\\n                        \\n\\n\\n\\n                            Detroit Red Wings\\n                        \\n\\n                            1990\\n                        \\n\\n                            34\\n                        \\n\\n                            38\\n                        \\n\\n\\n\\n                            0.425\\n                        \\n\\n                            273\\n                        \\n\\n                            298\\n                        \\n\\n                            -25\\n                        \\n\\n\\n\\n                            Edmonton Oilers\\n                        \\n\\n                            1990\\n                        \\n\\n                            37\\n                        \\n\\n                            37\\n                        \\n\\n\\n\\n                            0.463\\n                        \\n\\n                            272\\n                        \\n\\n                            272\\n                        \\n\\n                            0\\n                        \\n\\n\\n\\n                            Hartford Whalers\\n                        \\n\\n                            1990\\n                        \\n\\n                            31\\n                        \\n\\n                            38\\n                        \\n\\n\\n\\n                            0.388\\n                        \\n\\n                            238\\n                        \\n\\n                            276\\n                        \\n\\n                            -38\\n                        \\n\\n\\n\\n                            Los Angeles Kings\\n                        \\n\\n                            1990\\n                        \\n\\n                            46\\n                        \\n\\n                            24\\n                        \\n\\n\\n\\n                            0.575\\n                        \\n\\n                            340\\n                        \\n\\n                            254\\n                        \\n\\n                            86\\n                        \\n\\n\\n\\n                            Minnesota North Stars\\n                        \\n\\n                            1990\\n                        \\n\\n                            27\\n                        \\n\\n                            39\\n                        \\n\\n\\n\\n                            0.338\\n                        \\n\\n                            256\\n                        \\n\\n                            266\\n                        \\n\\n                            -10\\n                        \\n\\n\\n\\n                            Montreal Canadiens\\n                        \\n\\n                            1990\\n                        \\n\\n                            39\\n                        \\n\\n                            30\\n                        \\n\\n\\n\\n                            0.487\\n                        \\n\\n                            273\\n                        \\n\\n                            249\\n                        \\n\\n                            24\\n                        \\n\\n\\n\\n                            New Jersey Devils\\n                        \\n\\n                            1990\\n                        \\n\\n                            32\\n                        \\n\\n                            33\\n                        \\n\\n\\n\\n                            0.4\\n                        \\n\\n                            272\\n                        \\n\\n                            264\\n                        \\n\\n                            8\\n                        \\n\\n\\n\\n                            New York Islanders\\n                        \\n\\n                            1990\\n                        \\n\\n                            25\\n                        \\n\\n                            45\\n                        \\n\\n\\n\\n                            0.312\\n                        \\n\\n                            223\\n                        \\n\\n                            290\\n                        \\n\\n                            -67\\n                        \\n\\n\\n\\n                            New York Rangers\\n                        \\n\\n                            1990\\n                        \\n\\n                            36\\n                        \\n\\n                            31\\n                        \\n\\n\\n\\n                            0.45\\n                        \\n\\n                            297\\n                        \\n\\n                            265\\n                        \\n\\n                            32\\n                        \\n\\n\\n\\n                            Philadelphia Flyers\\n                        \\n\\n                            1990\\n                        \\n\\n                            33\\n                        \\n\\n                            37\\n                        \\n\\n\\n\\n                            0.412\\n                        \\n\\n                            252\\n                        \\n\\n                            267\\n                        \\n\\n                            -15\\n                        \\n\\n\\n\\n                            Pittsburgh Penguins\\n                        \\n\\n                            1990\\n                        \\n\\n                            41\\n                        \\n\\n                            33\\n                        \\n\\n\\n\\n                            0.512\\n                        \\n\\n                            342\\n                        \\n\\n                            305\\n                        \\n\\n                            37\\n                        \\n\\n\\n\\n                            Quebec Nordiques\\n                        \\n\\n                            1990\\n                        \\n\\n                            16\\n                        \\n\\n                            50\\n                        \\n\\n\\n\\n                            0.2\\n                        \\n\\n                            236\\n                        \\n\\n                            354\\n                        \\n\\n                            -118\\n                        \\n\\n\\n\\n                            St. Louis Blues\\n                        \\n\\n                            1990\\n                        \\n\\n                            47\\n                        \\n\\n                            22\\n                        \\n\\n\\n\\n                            0.588\\n                        \\n\\n                            310\\n                        \\n\\n                            250\\n                        \\n\\n                            60\\n                        \\n\\n\\n\\n                            Toronto Maple Leafs\\n                        \\n\\n                            1990\\n                        \\n\\n                            23\\n                        \\n\\n                            46\\n                        \\n\\n\\n\\n                            0.287\\n                        \\n\\n                            241\\n                        \\n\\n                            318\\n                        \\n\\n                            -77\\n                        \\n\\n\\n\\n                            Vancouver Canucks\\n                        \\n\\n                            1990\\n                        \\n\\n                            28\\n                        \\n\\n                            43\\n                        \\n\\n\\n\\n                            0.35\\n                        \\n\\n                            243\\n                        \\n\\n                            315\\n                        \\n\\n                            -72\\n                        \\n\\n\\n\\n                            Washington Capitals\\n                        \\n\\n                            1990\\n                        \\n\\n                            37\\n                        \\n\\n                            36\\n                        \\n\\n\\n\\n                            0.463\\n                        \\n\\n                            258\\n                        \\n\\n                            258\\n                        \\n\\n                            0\\n                        \\n\\n\\n\\n                            Winnipeg Jets\\n                        \\n\\n                            1990\\n                        \\n\\n                            26\\n                        \\n\\n                            43\\n                        \\n\\n\\n\\n                            0.325\\n                        \\n\\n                            260\\n                        \\n\\n                            288\\n                        \\n\\n                            -28\\n                        \\n\\n\\n\\n                            Boston Bruins\\n                        \\n\\n                            1991\\n                        \\n\\n                            36\\n                        \\n\\n                            32\\n                        \\n\\n\\n\\n                            0.45\\n                        \\n\\n                            270\\n                        \\n\\n                            275\\n                        \\n\\n                            -5\\n                        \\n\\n\\n\\n                            Buffalo Sabres\\n                        \\n\\n                            1991\\n                        \\n\\n                            31\\n                        \\n\\n                            37\\n                        \\n\\n\\n\\n                            0.388\\n                        \\n\\n                            289\\n                        \\n\\n                            299\\n                        \\n\\n                            -10\\n                        \\n\\n\\n\\n                            Calgary Flames\\n                        \\n\\n                            1991\\n                        \\n\\n                            31\\n                        \\n\\n                            37\\n                        \\n\\n\\n\\n                            0.388\\n                        \\n\\n                            296\\n                        \\n\\n                            305\\n                        \\n\\n                            -9\\n                        \\n\\n\\n\\n                            Chicago Blackhawks\\n                        \\n\\n                            1991\\n                        \\n\\n                            36\\n                        \\n\\n                            29\\n                        \\n\\n\\n\\n                            0.45\\n                        \\n\\n                            257\\n                        \\n\\n                            236\\n                        \\n\\n                            21\\n                        \\n\\n\\n\\n\\n\\n\\n\\n                                    \\n                                    1\\n                                    \\n                                \\n\\n\\n\\n                                    \\n                                    2\\n                                    \\n                                \\n\\n\\n\\n                                    \\n                                    3\\n                                    \\n                                \\n\\n\\n\\n                                    \\n                                    4\\n                                    \\n                                \\n\\n\\n\\n                                    \\n                                    5\\n                                    \\n                                \\n\\n\\n\\n                                    \\n                                    6\\n                                    \\n                                \\n\\n\\n\\n                                    \\n                                    7\\n                                    \\n                                \\n\\n\\n\\n                                    \\n                                    8\\n                                    \\n                                \\n\\n\\n\\n                                    \\n                                    9\\n                                    \\n                                \\n\\n\\n\\n                                    \\n                                    10\\n                                    \\n                                \\n\\n\\n\\n                                    \\n                                    11\\n                                    \\n                                \\n\\n\\n\\n                                    \\n                                    12\\n                                    \\n                                \\n\\n\\n\\n                                    \\n                                    13\\n                                    \\n                                \\n\\n\\n\\n                                    \\n                                    14\\n                                    \\n                                \\n\\n\\n\\n                                    \\n                                    15\\n                                    \\n                                \\n\\n\\n\\n                                    \\n                                    16\\n                                    \\n                                \\n\\n\\n\\n                                    \\n                                    17\\n                                    \\n                                \\n\\n\\n\\n                                    \\n                                    18\\n                                    \\n                                \\n\\n\\n\\n                                    \\n                                    19\\n                                    \\n                                \\n\\n\\n\\n                                    \\n                                    20\\n                                    \\n                                \\n\\n\\n\\n                                    \\n                                    21\\n                                    \\n                                \\n\\n\\n\\n                                    \\n                                    22\\n                                    \\n                                \\n\\n\\n\\n                                    \\n                                    23\\n                                    \\n                                \\n\\n\\n\\n                                    \\n                                    24\\n                                    \\n                                \\n\\n\\n\\n»\\n\\n\\n\\n\\n\\nPer Page\\n\\n\\n\\n25\\n50\\n100\\n\\n\\n\\n\\n\\n\\n\\n\\n\\n\\n                    Lessons and Videos © Hartley Brody 2018'"
      ]
     },
     "execution_count": 17,
     "metadata": {},
     "output_type": "execute_result"
    }
   ],
   "source": [
    "html_text.get_text().strip() # used strip function to remove all strating and trailing spaces"
   ]
  },
  {
   "cell_type": "code",
   "execution_count": 18,
   "id": "f802ef84",
   "metadata": {},
   "outputs": [
    {
     "data": {
      "text/plain": [
       "['Hockey',\n",
       " 'Teams:',\n",
       " 'Forms,',\n",
       " 'Searching',\n",
       " 'and',\n",
       " 'Pagination',\n",
       " '|',\n",
       " 'Scrape',\n",
       " 'This',\n",
       " 'Site',\n",
       " '|',\n",
       " 'A',\n",
       " 'public',\n",
       " 'sandbox',\n",
       " 'for',\n",
       " 'learning',\n",
       " 'web',\n",
       " 'scraping',\n",
       " 'Scrape',\n",
       " 'This',\n",
       " 'Site',\n",
       " 'Sandbox',\n",
       " 'Lessons',\n",
       " 'FAQ',\n",
       " 'Login',\n",
       " 'Hockey',\n",
       " 'Teams:',\n",
       " 'Forms,',\n",
       " 'Searching',\n",
       " 'and',\n",
       " 'Pagination',\n",
       " '25',\n",
       " 'items',\n",
       " 'Browse',\n",
       " 'through',\n",
       " 'a',\n",
       " 'database',\n",
       " 'of',\n",
       " 'NHL',\n",
       " 'team',\n",
       " 'stats',\n",
       " 'since',\n",
       " '1990.',\n",
       " 'Practice',\n",
       " 'building',\n",
       " 'a',\n",
       " 'scraper',\n",
       " 'that',\n",
       " 'handles',\n",
       " 'common',\n",
       " 'website',\n",
       " 'interface',\n",
       " 'components.',\n",
       " 'Take',\n",
       " 'a',\n",
       " 'look',\n",
       " 'at',\n",
       " 'how',\n",
       " 'pagination',\n",
       " 'and',\n",
       " 'search',\n",
       " 'elements',\n",
       " 'change',\n",
       " 'the',\n",
       " 'URL',\n",
       " 'as',\n",
       " 'your',\n",
       " 'browse.',\n",
       " 'Build',\n",
       " 'a',\n",
       " 'web',\n",
       " 'scraper',\n",
       " 'that',\n",
       " 'can',\n",
       " 'conduct',\n",
       " 'searches',\n",
       " 'and',\n",
       " 'paginate',\n",
       " 'through',\n",
       " 'the',\n",
       " 'results.',\n",
       " 'There',\n",
       " 'are',\n",
       " '8',\n",
       " 'video',\n",
       " 'lessons',\n",
       " 'that',\n",
       " 'show',\n",
       " 'you',\n",
       " 'how',\n",
       " 'to',\n",
       " 'scrape',\n",
       " 'this',\n",
       " 'page.',\n",
       " 'Data',\n",
       " 'via',\n",
       " 'http://www.opensourcesports.com/hockey/',\n",
       " 'Search',\n",
       " 'for',\n",
       " 'Teams:',\n",
       " 'Team',\n",
       " 'Name',\n",
       " 'Year',\n",
       " 'Wins',\n",
       " 'Losses',\n",
       " 'OT',\n",
       " 'Losses',\n",
       " 'Win',\n",
       " '%',\n",
       " 'Goals',\n",
       " 'For',\n",
       " '(GF)',\n",
       " 'Goals',\n",
       " 'Against',\n",
       " '(GA)',\n",
       " '+',\n",
       " '/',\n",
       " '-',\n",
       " 'Boston',\n",
       " 'Bruins',\n",
       " '1990',\n",
       " '44',\n",
       " '24',\n",
       " '0.55',\n",
       " '299',\n",
       " '264',\n",
       " '35',\n",
       " 'Buffalo',\n",
       " 'Sabres',\n",
       " '1990',\n",
       " '31',\n",
       " '30',\n",
       " '0.388',\n",
       " '292',\n",
       " '278',\n",
       " '14',\n",
       " 'Calgary',\n",
       " 'Flames',\n",
       " '1990',\n",
       " '46',\n",
       " '26',\n",
       " '0.575',\n",
       " '344',\n",
       " '263',\n",
       " '81',\n",
       " 'Chicago',\n",
       " 'Blackhawks',\n",
       " '1990',\n",
       " '49',\n",
       " '23',\n",
       " '0.613',\n",
       " '284',\n",
       " '211',\n",
       " '73',\n",
       " 'Detroit',\n",
       " 'Red',\n",
       " 'Wings',\n",
       " '1990',\n",
       " '34',\n",
       " '38',\n",
       " '0.425',\n",
       " '273',\n",
       " '298',\n",
       " '-25',\n",
       " 'Edmonton',\n",
       " 'Oilers',\n",
       " '1990',\n",
       " '37',\n",
       " '37',\n",
       " '0.463',\n",
       " '272',\n",
       " '272',\n",
       " '0',\n",
       " 'Hartford',\n",
       " 'Whalers',\n",
       " '1990',\n",
       " '31',\n",
       " '38',\n",
       " '0.388',\n",
       " '238',\n",
       " '276',\n",
       " '-38',\n",
       " 'Los',\n",
       " 'Angeles',\n",
       " 'Kings',\n",
       " '1990',\n",
       " '46',\n",
       " '24',\n",
       " '0.575',\n",
       " '340',\n",
       " '254',\n",
       " '86',\n",
       " 'Minnesota',\n",
       " 'North',\n",
       " 'Stars',\n",
       " '1990',\n",
       " '27',\n",
       " '39',\n",
       " '0.338',\n",
       " '256',\n",
       " '266',\n",
       " '-10',\n",
       " 'Montreal',\n",
       " 'Canadiens',\n",
       " '1990',\n",
       " '39',\n",
       " '30',\n",
       " '0.487',\n",
       " '273',\n",
       " '249',\n",
       " '24',\n",
       " 'New',\n",
       " 'Jersey',\n",
       " 'Devils',\n",
       " '1990',\n",
       " '32',\n",
       " '33',\n",
       " '0.4',\n",
       " '272',\n",
       " '264',\n",
       " '8',\n",
       " 'New',\n",
       " 'York',\n",
       " 'Islanders',\n",
       " '1990',\n",
       " '25',\n",
       " '45',\n",
       " '0.312',\n",
       " '223',\n",
       " '290',\n",
       " '-67',\n",
       " 'New',\n",
       " 'York',\n",
       " 'Rangers',\n",
       " '1990',\n",
       " '36',\n",
       " '31',\n",
       " '0.45',\n",
       " '297',\n",
       " '265',\n",
       " '32',\n",
       " 'Philadelphia',\n",
       " 'Flyers',\n",
       " '1990',\n",
       " '33',\n",
       " '37',\n",
       " '0.412',\n",
       " '252',\n",
       " '267',\n",
       " '-15',\n",
       " 'Pittsburgh',\n",
       " 'Penguins',\n",
       " '1990',\n",
       " '41',\n",
       " '33',\n",
       " '0.512',\n",
       " '342',\n",
       " '305',\n",
       " '37',\n",
       " 'Quebec',\n",
       " 'Nordiques',\n",
       " '1990',\n",
       " '16',\n",
       " '50',\n",
       " '0.2',\n",
       " '236',\n",
       " '354',\n",
       " '-118',\n",
       " 'St.',\n",
       " 'Louis',\n",
       " 'Blues',\n",
       " '1990',\n",
       " '47',\n",
       " '22',\n",
       " '0.588',\n",
       " '310',\n",
       " '250',\n",
       " '60',\n",
       " 'Toronto',\n",
       " 'Maple',\n",
       " 'Leafs',\n",
       " '1990',\n",
       " '23',\n",
       " '46',\n",
       " '0.287',\n",
       " '241',\n",
       " '318',\n",
       " '-77',\n",
       " 'Vancouver',\n",
       " 'Canucks',\n",
       " '1990',\n",
       " '28',\n",
       " '43',\n",
       " '0.35',\n",
       " '243',\n",
       " '315',\n",
       " '-72',\n",
       " 'Washington',\n",
       " 'Capitals',\n",
       " '1990',\n",
       " '37',\n",
       " '36',\n",
       " '0.463',\n",
       " '258',\n",
       " '258',\n",
       " '0',\n",
       " 'Winnipeg',\n",
       " 'Jets',\n",
       " '1990',\n",
       " '26',\n",
       " '43',\n",
       " '0.325',\n",
       " '260',\n",
       " '288',\n",
       " '-28',\n",
       " 'Boston',\n",
       " 'Bruins',\n",
       " '1991',\n",
       " '36',\n",
       " '32',\n",
       " '0.45',\n",
       " '270',\n",
       " '275',\n",
       " '-5',\n",
       " 'Buffalo',\n",
       " 'Sabres',\n",
       " '1991',\n",
       " '31',\n",
       " '37',\n",
       " '0.388',\n",
       " '289',\n",
       " '299',\n",
       " '-10',\n",
       " 'Calgary',\n",
       " 'Flames',\n",
       " '1991',\n",
       " '31',\n",
       " '37',\n",
       " '0.388',\n",
       " '296',\n",
       " '305',\n",
       " '-9',\n",
       " 'Chicago',\n",
       " 'Blackhawks',\n",
       " '1991',\n",
       " '36',\n",
       " '29',\n",
       " '0.45',\n",
       " '257',\n",
       " '236',\n",
       " '21',\n",
       " '1',\n",
       " '2',\n",
       " '3',\n",
       " '4',\n",
       " '5',\n",
       " '6',\n",
       " '7',\n",
       " '8',\n",
       " '9',\n",
       " '10',\n",
       " '11',\n",
       " '12',\n",
       " '13',\n",
       " '14',\n",
       " '15',\n",
       " '16',\n",
       " '17',\n",
       " '18',\n",
       " '19',\n",
       " '20',\n",
       " '21',\n",
       " '22',\n",
       " '23',\n",
       " '24',\n",
       " '»',\n",
       " 'Per',\n",
       " 'Page',\n",
       " '25',\n",
       " '50',\n",
       " '100',\n",
       " 'Lessons',\n",
       " 'and',\n",
       " 'Videos',\n",
       " '©',\n",
       " 'Hartley',\n",
       " 'Brody',\n",
       " '2018']"
      ]
     },
     "execution_count": 18,
     "metadata": {},
     "output_type": "execute_result"
    }
   ],
   "source": [
    "html_text.get_text().split() # use of \"split\" function"
   ]
  },
  {
   "cell_type": "code",
   "execution_count": 19,
   "id": "35a66f7a",
   "metadata": {},
   "outputs": [],
   "source": [
    "tag = html_text.p # saving the text of <p> tag into tag variable"
   ]
  },
  {
   "cell_type": "code",
   "execution_count": 20,
   "id": "e2fe8afb",
   "metadata": {},
   "outputs": [
    {
     "data": {
      "text/plain": [
       "<p class=\"lead\">\n",
       "                            Browse through a database of NHL team stats since 1990. Practice building a scraper that handles common website interface components.\n",
       "                            Take a look at how pagination and search elements change the URL as your browse. Build a web scraper that can conduct searches and paginate through the results.\n",
       "                        </p>"
      ]
     },
     "execution_count": 20,
     "metadata": {},
     "output_type": "execute_result"
    }
   ],
   "source": [
    "tag"
   ]
  },
  {
   "cell_type": "code",
   "execution_count": 21,
   "id": "88763562",
   "metadata": {},
   "outputs": [],
   "source": [
    "tag.name = 'm' # changing the <p> tag name to <m>"
   ]
  },
  {
   "cell_type": "code",
   "execution_count": 22,
   "id": "9cded270",
   "metadata": {},
   "outputs": [
    {
     "data": {
      "text/plain": [
       "<m class=\"lead\">\n",
       "                            Browse through a database of NHL team stats since 1990. Practice building a scraper that handles common website interface components.\n",
       "                            Take a look at how pagination and search elements change the URL as your browse. Build a web scraper that can conduct searches and paginate through the results.\n",
       "                        </m>"
      ]
     },
     "execution_count": 22,
     "metadata": {},
     "output_type": "execute_result"
    }
   ],
   "source": [
    "tag"
   ]
  },
  {
   "cell_type": "code",
   "execution_count": 23,
   "id": "403cf0cf",
   "metadata": {},
   "outputs": [],
   "source": [
    "tag.name = 'p' # reversing the operation"
   ]
  },
  {
   "cell_type": "code",
   "execution_count": 24,
   "id": "a1e14ecf",
   "metadata": {},
   "outputs": [
    {
     "data": {
      "text/plain": [
       "<p class=\"lead\">\n",
       "                            Browse through a database of NHL team stats since 1990. Practice building a scraper that handles common website interface components.\n",
       "                            Take a look at how pagination and search elements change the URL as your browse. Build a web scraper that can conduct searches and paginate through the results.\n",
       "                        </p>"
      ]
     },
     "execution_count": 24,
     "metadata": {},
     "output_type": "execute_result"
    }
   ],
   "source": [
    "tag"
   ]
  },
  {
   "cell_type": "code",
   "execution_count": 25,
   "id": "1c060043",
   "metadata": {},
   "outputs": [
    {
     "data": {
      "text/plain": [
       "['lead']"
      ]
     },
     "execution_count": 25,
     "metadata": {},
     "output_type": "execute_result"
    }
   ],
   "source": [
    "tag['class'] # finding the attribute value available with in a tag"
   ]
  },
  {
   "cell_type": "code",
   "execution_count": 26,
   "id": "58009c91",
   "metadata": {},
   "outputs": [
    {
     "data": {
      "text/plain": [
       "{'class': ['lead']}"
      ]
     },
     "execution_count": 26,
     "metadata": {},
     "output_type": "execute_result"
    }
   ],
   "source": [
    "tag.attrs # finding the complete attribute"
   ]
  },
  {
   "cell_type": "code",
   "execution_count": 27,
   "id": "aa3ba2c1",
   "metadata": {},
   "outputs": [
    {
     "data": {
      "text/plain": [
       "'\\n                            Browse through a database of NHL team stats since 1990. Practice building a scraper that handles common website interface components.\\n                            Take a look at how pagination and search elements change the URL as your browse. Build a web scraper that can conduct searches and paginate through the results.\\n                        '"
      ]
     },
     "execution_count": 27,
     "metadata": {},
     "output_type": "execute_result"
    }
   ],
   "source": [
    "tag.string # extracting string/tect from the tag(p)"
   ]
  },
  {
   "cell_type": "code",
   "execution_count": 28,
   "id": "c1fbfb34",
   "metadata": {},
   "outputs": [
    {
     "data": {
      "text/plain": [
       "'Browse through a database of NHL team stats since 1990. Practice building a scraper that handles common website interface components.\\n                            Take a look at how pagination and search elements change the URL as your browse. Build a web scraper that can conduct searches and paginate through the results.'"
      ]
     },
     "execution_count": 28,
     "metadata": {},
     "output_type": "execute_result"
    }
   ],
   "source": [
    "tag.string.strip()# removing starting and trailing spaces"
   ]
  },
  {
   "cell_type": "code",
   "execution_count": 29,
   "id": "99a24fe3",
   "metadata": {},
   "outputs": [],
   "source": [
    "no_extra_space = re.compile(\"([\\n])|([\\ ]{2,})\") # removing all extra spaces using regex module with compile function"
   ]
  },
  {
   "cell_type": "code",
   "execution_count": 30,
   "id": "7dafa200",
   "metadata": {},
   "outputs": [
    {
     "name": "stdout",
     "output_type": "stream",
     "text": [
      "Browse through a database of NHL team stats since 1990. Practice building a scraper that handles common website interface components.Take a look at how pagination and search elements change the URL as your browse. Build a web scraper that can conduct searches and paginate through the results.\n"
     ]
    }
   ],
   "source": [
    "print(re.sub(no_extra_space, '',tag.string))"
   ]
  },
  {
   "cell_type": "code",
   "execution_count": 31,
   "id": "505efee6",
   "metadata": {},
   "outputs": [],
   "source": [
    "no_ex_spc = re.sub(r\"([\\n])|([\\ ]{2,})\",\"\", tag.string)# removing all extra spaces using regex module directly \n",
    "                                                       #without using compile function"
   ]
  },
  {
   "cell_type": "code",
   "execution_count": 32,
   "id": "d13ffb2a",
   "metadata": {},
   "outputs": [
    {
     "name": "stdout",
     "output_type": "stream",
     "text": [
      "Browse through a database of NHL team stats since 1990. Practice building a scraper that handles common website interface components.Take a look at how pagination and search elements change the URL as your browse. Build a web scraper that can conduct searches and paginate through the results.\n"
     ]
    }
   ],
   "source": [
    "print(no_ex_spc)"
   ]
  },
  {
   "cell_type": "code",
   "execution_count": 33,
   "id": "2e0e0ac3",
   "metadata": {},
   "outputs": [
    {
     "data": {
      "text/plain": [
       "'\\n                            Browse through a database of NHL team stats since 1990. Practice building a scraper that handles common website interface components.\\n                            Take a look at how pagination and search elements change the URL as your browse. Build a web scraper that can conduct searches and paginate through the results.\\n                        '"
      ]
     },
     "execution_count": 33,
     "metadata": {},
     "output_type": "execute_result"
    }
   ],
   "source": [
    "tag.text# using text method"
   ]
  },
  {
   "cell_type": "code",
   "execution_count": 34,
   "id": "372ea8a9",
   "metadata": {},
   "outputs": [
    {
     "data": {
      "text/plain": [
       "<function str.split(sep=None, maxsplit=-1)>"
      ]
     },
     "execution_count": 34,
     "metadata": {},
     "output_type": "execute_result"
    }
   ],
   "source": [
    "tag.text.split # using split on text method - split works differently on .sting and .text"
   ]
  },
  {
   "cell_type": "code",
   "execution_count": 35,
   "id": "9c707b1f",
   "metadata": {},
   "outputs": [
    {
     "data": {
      "text/plain": [
       "['Browse',\n",
       " 'through',\n",
       " 'a',\n",
       " 'database',\n",
       " 'of',\n",
       " 'NHL',\n",
       " 'team',\n",
       " 'stats',\n",
       " 'since',\n",
       " '1990.',\n",
       " 'Practice',\n",
       " 'building',\n",
       " 'a',\n",
       " 'scraper',\n",
       " 'that',\n",
       " 'handles',\n",
       " 'common',\n",
       " 'website',\n",
       " 'interface',\n",
       " 'components.',\n",
       " 'Take',\n",
       " 'a',\n",
       " 'look',\n",
       " 'at',\n",
       " 'how',\n",
       " 'pagination',\n",
       " 'and',\n",
       " 'search',\n",
       " 'elements',\n",
       " 'change',\n",
       " 'the',\n",
       " 'URL',\n",
       " 'as',\n",
       " 'your',\n",
       " 'browse.',\n",
       " 'Build',\n",
       " 'a',\n",
       " 'web',\n",
       " 'scraper',\n",
       " 'that',\n",
       " 'can',\n",
       " 'conduct',\n",
       " 'searches',\n",
       " 'and',\n",
       " 'paginate',\n",
       " 'through',\n",
       " 'the',\n",
       " 'results.']"
      ]
     },
     "execution_count": 35,
     "metadata": {},
     "output_type": "execute_result"
    }
   ],
   "source": [
    "tag.string.split() # using split on string method"
   ]
  },
  {
   "cell_type": "code",
   "execution_count": null,
   "id": "8c504179",
   "metadata": {},
   "outputs": [],
   "source": []
  }
 ],
 "metadata": {
  "kernelspec": {
   "display_name": "Python 3 (ipykernel)",
   "language": "python",
   "name": "python3"
  },
  "language_info": {
   "codemirror_mode": {
    "name": "ipython",
    "version": 3
   },
   "file_extension": ".py",
   "mimetype": "text/x-python",
   "name": "python",
   "nbconvert_exporter": "python",
   "pygments_lexer": "ipython3",
   "version": "3.10.4"
  }
 },
 "nbformat": 4,
 "nbformat_minor": 5
}
