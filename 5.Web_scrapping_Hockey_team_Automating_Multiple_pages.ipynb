{
 "cells": [
  {
   "cell_type": "markdown",
   "id": "4099a8f6",
   "metadata": {},
   "source": [
    "## Author - Mayank Singh\n",
    "Data Analyst|MySQL|Python|Web Crawling and Scraping |EDA|Visualization|CBAP|Agile Cert"
   ]
  },
  {
   "cell_type": "markdown",
   "id": "5bf7aa38",
   "metadata": {},
   "source": [
    "# Importing Libraries "
   ]
  },
  {
   "cell_type": "code",
   "execution_count": 1,
   "id": "640ce825",
   "metadata": {},
   "outputs": [],
   "source": [
    "from bs4 import BeautifulSoup\n",
    "import requests\n",
    "import re\n",
    "import openpyxl as pl\n",
    "import pandas as pd"
   ]
  },
  {
   "cell_type": "markdown",
   "id": "ab0ed175",
   "metadata": {},
   "source": [
    "# Creating Excel Workbook"
   ]
  },
  {
   "cell_type": "code",
   "execution_count": 2,
   "id": "71b172f2",
   "metadata": {},
   "outputs": [],
   "source": [
    "excel = pl.Workbook()"
   ]
  },
  {
   "cell_type": "code",
   "execution_count": 3,
   "id": "84dd7d50",
   "metadata": {},
   "outputs": [],
   "source": [
    "sheet = excel.active"
   ]
  },
  {
   "cell_type": "code",
   "execution_count": 4,
   "id": "a401623b",
   "metadata": {},
   "outputs": [],
   "source": [
    "sheet.title = \"Hockey Team Data\""
   ]
  },
  {
   "cell_type": "code",
   "execution_count": 5,
   "id": "1f7aa16b",
   "metadata": {},
   "outputs": [],
   "source": [
    "sheet.append(['Name of the Team','Year of the Team', \n",
    "                'No. of matches won', 'No. of losed', \n",
    "                'Goals For the Team','Goals against Team', 'Winning and lose pct'])"
   ]
  },
  {
   "cell_type": "markdown",
   "id": "cea3a833",
   "metadata": {},
   "source": [
    "# Previously we have scrapped multiple pages by declaring no. of pages explicitily, but now we assume we are not aware of the no. of pages and hence we are scrapping no. of pages and then looping through each page via Python Code"
   ]
  },
  {
   "cell_type": "code",
   "execution_count": 6,
   "id": "c4b16eec",
   "metadata": {
    "scrolled": false
   },
   "outputs": [
    {
     "name": "stderr",
     "output_type": "stream",
     "text": [
      "C:\\Users\\mayank.singh27\\AppData\\Roaming\\Python\\Python310\\site-packages\\urllib3\\connectionpool.py:1045: InsecureRequestWarning: Unverified HTTPS request is being made to host 'www.scrapethissite.com'. Adding certificate verification is strongly advised. See: https://urllib3.readthedocs.io/en/1.26.x/advanced-usage.html#ssl-warnings\n",
      "  warnings.warn(\n"
     ]
    },
    {
     "name": "stdout",
     "output_type": "stream",
     "text": [
      "1\n"
     ]
    },
    {
     "name": "stderr",
     "output_type": "stream",
     "text": [
      "C:\\Users\\mayank.singh27\\AppData\\Roaming\\Python\\Python310\\site-packages\\urllib3\\connectionpool.py:1045: InsecureRequestWarning: Unverified HTTPS request is being made to host 'www.scrapethissite.com'. Adding certificate verification is strongly advised. See: https://urllib3.readthedocs.io/en/1.26.x/advanced-usage.html#ssl-warnings\n",
      "  warnings.warn(\n"
     ]
    },
    {
     "name": "stdout",
     "output_type": "stream",
     "text": [
      "Boston Bruins 1990 44 24 299 264 0.55\n",
      "Buffalo Sabres 1990 31 30 292 278 0.388\n",
      "Calgary Flames 1990 46 26 344 263 0.575\n",
      "Chicago Blackhawks 1990 49 23 284 211 0.613\n",
      "Detroit Red Wings 1990 34 38 273 298 0.425\n",
      "Edmonton Oilers 1990 37 37 272 272 0.463\n",
      "Hartford Whalers 1990 31 38 238 276 0.388\n",
      "Los Angeles Kings 1990 46 24 340 254 0.575\n",
      "Minnesota North Stars 1990 27 39 256 266 0.338\n",
      "Montreal Canadiens 1990 39 30 273 249 0.487\n",
      "New Jersey Devils 1990 32 33 272 264 0.4\n",
      "New York Islanders 1990 25 45 223 290 0.312\n",
      "New York Rangers 1990 36 31 297 265 0.45\n",
      "Philadelphia Flyers 1990 33 37 252 267 0.412\n",
      "Pittsburgh Penguins 1990 41 33 342 305 0.512\n",
      "Quebec Nordiques 1990 16 50 236 354 0.2\n",
      "St. Louis Blues 1990 47 22 310 250 0.588\n",
      "Toronto Maple Leafs 1990 23 46 241 318 0.287\n",
      "Vancouver Canucks 1990 28 43 243 315 0.35\n",
      "Washington Capitals 1990 37 36 258 258 0.463\n",
      "Winnipeg Jets 1990 26 43 260 288 0.325\n",
      "Boston Bruins 1991 36 32 270 275 0.45\n",
      "Buffalo Sabres 1991 31 37 289 299 0.388\n",
      "Calgary Flames 1991 31 37 296 305 0.388\n",
      "Chicago Blackhawks 1991 36 29 257 236 0.45\n",
      "2\n"
     ]
    },
    {
     "name": "stderr",
     "output_type": "stream",
     "text": [
      "C:\\Users\\mayank.singh27\\AppData\\Roaming\\Python\\Python310\\site-packages\\urllib3\\connectionpool.py:1045: InsecureRequestWarning: Unverified HTTPS request is being made to host 'www.scrapethissite.com'. Adding certificate verification is strongly advised. See: https://urllib3.readthedocs.io/en/1.26.x/advanced-usage.html#ssl-warnings\n",
      "  warnings.warn(\n"
     ]
    },
    {
     "name": "stdout",
     "output_type": "stream",
     "text": [
      "Detroit Red Wings 1991 43 25 320 256 0.537\n",
      "Edmonton Oilers 1991 36 34 295 297 0.45\n",
      "Hartford Whalers 1991 26 41 247 283 0.325\n",
      "Los Angeles Kings 1991 35 31 287 296 0.438\n",
      "Minnesota North Stars 1991 32 42 246 278 0.4\n",
      "Montreal Canadiens 1991 41 28 267 207 0.512\n",
      "New Jersey Devils 1991 38 31 289 259 0.475\n",
      "New York Islanders 1991 34 35 291 299 0.425\n",
      "New York Rangers 1991 50 25 321 246 0.625\n",
      "Philadelphia Flyers 1991 32 37 252 273 0.4\n",
      "Pittsburgh Penguins 1991 39 32 343 308 0.487\n",
      "Quebec Nordiques 1991 20 48 255 318 0.25\n",
      "San Jose Sharks 1991 17 58 219 359 0.212\n",
      "St. Louis Blues 1991 36 33 279 266 0.45\n",
      "Toronto Maple Leafs 1991 30 43 234 294 0.375\n",
      "Vancouver Canucks 1991 42 26 285 250 0.525\n",
      "Washington Capitals 1991 45 27 330 275 0.562\n",
      "Winnipeg Jets 1991 33 32 251 244 0.412\n",
      "Boston Bruins 1992 51 26 332 268 0.607\n",
      "Buffalo Sabres 1992 38 36 335 297 0.452\n",
      "Calgary Flames 1992 43 30 322 282 0.512\n",
      "Chicago Blackhawks 1992 47 25 279 230 0.56\n",
      "Detroit Red Wings 1992 47 28 369 280 0.56\n",
      "Edmonton Oilers 1992 26 50 242 337 0.31\n",
      "Hartford Whalers 1992 26 52 284 369 0.31\n",
      "3\n"
     ]
    },
    {
     "name": "stderr",
     "output_type": "stream",
     "text": [
      "C:\\Users\\mayank.singh27\\AppData\\Roaming\\Python\\Python310\\site-packages\\urllib3\\connectionpool.py:1045: InsecureRequestWarning: Unverified HTTPS request is being made to host 'www.scrapethissite.com'. Adding certificate verification is strongly advised. See: https://urllib3.readthedocs.io/en/1.26.x/advanced-usage.html#ssl-warnings\n",
      "  warnings.warn(\n"
     ]
    },
    {
     "name": "stdout",
     "output_type": "stream",
     "text": [
      "Los Angeles Kings 1992 39 35 338 340 0.464\n",
      "Minnesota North Stars 1992 36 38 272 293 0.429\n",
      "Montreal Canadiens 1992 48 30 326 280 0.571\n",
      "New Jersey Devils 1992 40 37 308 299 0.476\n",
      "New York Islanders 1992 40 37 335 297 0.476\n",
      "New York Rangers 1992 34 39 304 308 0.405\n",
      "Ottawa Senators 1992 10 70 202 395 0.119\n",
      "Philadelphia Flyers 1992 36 37 319 319 0.429\n",
      "Pittsburgh Penguins 1992 56 21 367 268 0.667\n",
      "Quebec Nordiques 1992 47 27 351 300 0.56\n",
      "San Jose Sharks 1992 11 71 218 414 0.131\n",
      "St. Louis Blues 1992 37 36 282 278 0.44\n",
      "Tampa Bay Lightning 1992 23 54 245 332 0.274\n",
      "Toronto Maple Leafs 1992 44 29 288 241 0.524\n",
      "Vancouver Canucks 1992 46 29 346 278 0.548\n",
      "Washington Capitals 1992 43 34 325 286 0.512\n",
      "Winnipeg Jets 1992 40 37 322 320 0.476\n",
      "Mighty Ducks of Anaheim 1993 33 46 229 251 0.393\n",
      "Boston Bruins 1993 42 29 289 252 0.5\n",
      "Buffalo Sabres 1993 43 32 282 218 0.512\n",
      "Calgary Flames 1993 42 29 302 256 0.5\n",
      "Chicago Blackhawks 1993 39 36 254 240 0.464\n",
      "Dallas Stars 1993 42 29 286 265 0.5\n",
      "Detroit Red Wings 1993 46 30 356 275 0.548\n",
      "Edmonton Oilers 1993 25 45 261 305 0.298\n",
      "4\n"
     ]
    },
    {
     "name": "stderr",
     "output_type": "stream",
     "text": [
      "C:\\Users\\mayank.singh27\\AppData\\Roaming\\Python\\Python310\\site-packages\\urllib3\\connectionpool.py:1045: InsecureRequestWarning: Unverified HTTPS request is being made to host 'www.scrapethissite.com'. Adding certificate verification is strongly advised. See: https://urllib3.readthedocs.io/en/1.26.x/advanced-usage.html#ssl-warnings\n",
      "  warnings.warn(\n"
     ]
    },
    {
     "name": "stdout",
     "output_type": "stream",
     "text": [
      "Florida Panthers 1993 33 34 233 233 0.393\n",
      "Hartford Whalers 1993 27 48 227 288 0.321\n",
      "Los Angeles Kings 1993 27 45 294 322 0.321\n",
      "Montreal Canadiens 1993 41 29 283 248 0.488\n",
      "New Jersey Devils 1993 47 25 306 220 0.56\n",
      "New York Islanders 1993 36 36 282 264 0.429\n",
      "New York Rangers 1993 52 24 299 231 0.619\n",
      "Ottawa Senators 1993 14 61 201 397 0.167\n",
      "Philadelphia Flyers 1993 35 39 294 314 0.417\n",
      "Pittsburgh Penguins 1993 44 27 299 285 0.524\n",
      "Quebec Nordiques 1993 34 42 277 292 0.405\n",
      "San Jose Sharks 1993 33 35 252 265 0.393\n",
      "St. Louis Blues 1993 40 33 270 283 0.476\n",
      "Tampa Bay Lightning 1993 30 43 224 251 0.357\n",
      "Toronto Maple Leafs 1993 43 29 280 243 0.512\n",
      "Vancouver Canucks 1993 41 40 279 276 0.488\n",
      "Washington Capitals 1993 39 35 277 263 0.464\n",
      "Winnipeg Jets 1993 24 51 245 344 0.286\n",
      "Mighty Ducks of Anaheim 1994 16 27 125 164 0.333\n",
      "Boston Bruins 1994 27 18 150 127 0.562\n",
      "Buffalo Sabres 1994 22 19 130 119 0.458\n",
      "Calgary Flames 1994 24 17 163 135 0.5\n",
      "Chicago Blackhawks 1994 24 19 156 115 0.5\n",
      "Dallas Stars 1994 17 23 136 135 0.354\n",
      "Detroit Red Wings 1994 33 11 180 117 0.688\n",
      "5\n"
     ]
    },
    {
     "name": "stderr",
     "output_type": "stream",
     "text": [
      "C:\\Users\\mayank.singh27\\AppData\\Roaming\\Python\\Python310\\site-packages\\urllib3\\connectionpool.py:1045: InsecureRequestWarning: Unverified HTTPS request is being made to host 'www.scrapethissite.com'. Adding certificate verification is strongly advised. See: https://urllib3.readthedocs.io/en/1.26.x/advanced-usage.html#ssl-warnings\n",
      "  warnings.warn(\n"
     ]
    },
    {
     "name": "stdout",
     "output_type": "stream",
     "text": [
      "Edmonton Oilers 1994 17 27 136 183 0.354\n",
      "Florida Panthers 1994 20 22 115 127 0.417\n",
      "Hartford Whalers 1994 19 24 127 141 0.396\n",
      "Los Angeles Kings 1994 16 23 142 174 0.333\n",
      "Montreal Canadiens 1994 18 23 125 148 0.375\n",
      "New Jersey Devils 1994 22 18 136 121 0.458\n",
      "New York Islanders 1994 15 28 126 158 0.312\n",
      "New York Rangers 1994 22 23 139 134 0.458\n",
      "Ottawa Senators 1994 9 34 117 174 0.188\n",
      "Philadelphia Flyers 1994 28 16 150 132 0.583\n",
      "Pittsburgh Penguins 1994 29 16 181 158 0.604\n",
      "Quebec Nordiques 1994 30 13 185 134 0.625\n",
      "San Jose Sharks 1994 19 25 129 161 0.396\n",
      "St. Louis Blues 1994 28 15 178 135 0.583\n",
      "Tampa Bay Lightning 1994 17 28 120 144 0.354\n",
      "Toronto Maple Leafs 1994 21 19 135 146 0.438\n",
      "Vancouver Canucks 1994 18 18 153 148 0.375\n",
      "Washington Capitals 1994 22 18 136 120 0.458\n",
      "Winnipeg Jets 1994 16 25 157 177 0.333\n",
      "Mighty Ducks of Anaheim 1995 35 39 234 247 0.427\n",
      "Boston Bruins 1995 40 31 282 269 0.488\n",
      "Buffalo Sabres 1995 33 42 247 262 0.402\n",
      "Calgary Flames 1995 34 37 241 240 0.415\n",
      "Chicago Blackhawks 1995 40 28 273 220 0.488\n",
      "Colorado Avalanche 1995 47 25 326 240 0.573\n",
      "6\n"
     ]
    },
    {
     "name": "stderr",
     "output_type": "stream",
     "text": [
      "C:\\Users\\mayank.singh27\\AppData\\Roaming\\Python\\Python310\\site-packages\\urllib3\\connectionpool.py:1045: InsecureRequestWarning: Unverified HTTPS request is being made to host 'www.scrapethissite.com'. Adding certificate verification is strongly advised. See: https://urllib3.readthedocs.io/en/1.26.x/advanced-usage.html#ssl-warnings\n",
      "  warnings.warn(\n"
     ]
    },
    {
     "name": "stdout",
     "output_type": "stream",
     "text": [
      "Dallas Stars 1995 26 42 227 280 0.317\n",
      "Detroit Red Wings 1995 62 13 325 181 0.756\n",
      "Edmonton Oilers 1995 30 44 240 304 0.366\n",
      "Florida Panthers 1995 41 31 254 234 0.5\n",
      "Hartford Whalers 1995 34 39 237 259 0.415\n",
      "Los Angeles Kings 1995 24 40 256 302 0.293\n",
      "Montreal Canadiens 1995 40 32 265 248 0.488\n",
      "New Jersey Devils 1995 37 33 215 202 0.451\n",
      "New York Islanders 1995 22 50 229 315 0.268\n",
      "New York Rangers 1995 41 27 272 237 0.5\n",
      "Ottawa Senators 1995 18 59 191 291 0.22\n",
      "Philadelphia Flyers 1995 45 24 282 208 0.549\n",
      "Pittsburgh Penguins 1995 49 29 362 284 0.598\n",
      "San Jose Sharks 1995 20 55 252 357 0.244\n",
      "St. Louis Blues 1995 32 34 219 248 0.39\n",
      "Tampa Bay Lightning 1995 38 32 238 248 0.463\n",
      "Toronto Maple Leafs 1995 34 36 247 252 0.415\n",
      "Vancouver Canucks 1995 32 35 278 278 0.39\n",
      "Washington Capitals 1995 39 32 234 204 0.476\n",
      "Winnipeg Jets 1995 36 40 275 291 0.439\n",
      "Mighty Ducks of Anaheim 1996 36 33 245 233 0.439\n",
      "Boston Bruins 1996 26 47 234 300 0.317\n",
      "Buffalo Sabres 1996 40 30 237 208 0.488\n",
      "Calgary Flames 1996 32 41 214 239 0.39\n",
      "Chicago Blackhawks 1996 34 35 223 210 0.415\n",
      "7\n"
     ]
    },
    {
     "name": "stderr",
     "output_type": "stream",
     "text": [
      "C:\\Users\\mayank.singh27\\AppData\\Roaming\\Python\\Python310\\site-packages\\urllib3\\connectionpool.py:1045: InsecureRequestWarning: Unverified HTTPS request is being made to host 'www.scrapethissite.com'. Adding certificate verification is strongly advised. See: https://urllib3.readthedocs.io/en/1.26.x/advanced-usage.html#ssl-warnings\n",
      "  warnings.warn(\n"
     ]
    },
    {
     "name": "stdout",
     "output_type": "stream",
     "text": [
      "Colorado Avalanche 1996 49 24 277 205 0.598\n",
      "Dallas Stars 1996 48 26 252 198 0.585\n",
      "Detroit Red Wings 1996 38 26 253 197 0.463\n",
      "Edmonton Oilers 1996 36 37 252 247 0.439\n",
      "Florida Panthers 1996 35 28 221 201 0.427\n",
      "Hartford Whalers 1996 32 39 226 256 0.39\n",
      "Los Angeles Kings 1996 28 43 214 268 0.341\n",
      "Montreal Canadiens 1996 31 36 249 276 0.378\n",
      "New Jersey Devils 1996 45 23 231 182 0.549\n",
      "New York Islanders 1996 29 41 240 250 0.354\n",
      "New York Rangers 1996 38 34 258 231 0.463\n",
      "Ottawa Senators 1996 31 36 226 234 0.378\n",
      "Philadelphia Flyers 1996 45 24 274 217 0.549\n",
      "Phoenix Coyotes 1996 38 37 240 243 0.463\n",
      "Pittsburgh Penguins 1996 38 36 285 280 0.463\n",
      "San Jose Sharks 1996 27 47 211 278 0.329\n",
      "St. Louis Blues 1996 36 35 236 239 0.439\n",
      "Tampa Bay Lightning 1996 32 40 217 247 0.39\n",
      "Toronto Maple Leafs 1996 30 44 230 273 0.366\n",
      "Vancouver Canucks 1996 35 40 257 273 0.427\n",
      "Washington Capitals 1996 33 40 214 231 0.402\n",
      "Mighty Ducks of Anaheim 1997 26 43 205 261 0.317\n",
      "Boston Bruins 1997 39 30 221 194 0.476\n",
      "Buffalo Sabres 1997 36 29 211 187 0.439\n",
      "Calgary Flames 1997 26 41 217 252 0.317\n",
      "8\n"
     ]
    },
    {
     "name": "stderr",
     "output_type": "stream",
     "text": [
      "C:\\Users\\mayank.singh27\\AppData\\Roaming\\Python\\Python310\\site-packages\\urllib3\\connectionpool.py:1045: InsecureRequestWarning: Unverified HTTPS request is being made to host 'www.scrapethissite.com'. Adding certificate verification is strongly advised. See: https://urllib3.readthedocs.io/en/1.26.x/advanced-usage.html#ssl-warnings\n",
      "  warnings.warn(\n"
     ]
    },
    {
     "name": "stdout",
     "output_type": "stream",
     "text": [
      "Carolina Hurricanes 1997 33 41 200 219 0.402\n",
      "Chicago Blackhawks 1997 30 39 192 199 0.366\n",
      "Colorado Avalanche 1997 39 26 231 205 0.476\n",
      "Dallas Stars 1997 49 22 242 167 0.598\n",
      "Detroit Red Wings 1997 44 23 250 196 0.537\n",
      "Edmonton Oilers 1997 35 37 215 224 0.427\n",
      "Florida Panthers 1997 24 43 203 256 0.293\n",
      "Los Angeles Kings 1997 38 33 227 225 0.463\n",
      "Montreal Canadiens 1997 37 32 235 208 0.451\n",
      "New Jersey Devils 1997 48 23 225 166 0.585\n",
      "New York Islanders 1997 30 41 212 225 0.366\n",
      "New York Rangers 1997 25 39 197 231 0.305\n",
      "Ottawa Senators 1997 34 33 193 200 0.415\n",
      "Philadelphia Flyers 1997 42 29 242 193 0.512\n",
      "Phoenix Coyotes 1997 35 35 224 227 0.427\n",
      "Pittsburgh Penguins 1997 40 24 228 188 0.488\n",
      "San Jose Sharks 1997 34 38 210 216 0.415\n",
      "St. Louis Blues 1997 45 29 256 204 0.549\n",
      "Tampa Bay Lightning 1997 17 55 151 269 0.207\n",
      "Toronto Maple Leafs 1997 30 43 194 237 0.366\n",
      "Vancouver Canucks 1997 25 43 224 273 0.305\n",
      "Washington Capitals 1997 40 30 219 202 0.488\n",
      "Mighty Ducks of Anaheim 1998 35 34 215 206 0.427\n",
      "Boston Bruins 1998 39 30 214 181 0.476\n",
      "Buffalo Sabres 1998 37 28 207 175 0.451\n",
      "9\n"
     ]
    },
    {
     "name": "stderr",
     "output_type": "stream",
     "text": [
      "C:\\Users\\mayank.singh27\\AppData\\Roaming\\Python\\Python310\\site-packages\\urllib3\\connectionpool.py:1045: InsecureRequestWarning: Unverified HTTPS request is being made to host 'www.scrapethissite.com'. Adding certificate verification is strongly advised. See: https://urllib3.readthedocs.io/en/1.26.x/advanced-usage.html#ssl-warnings\n",
      "  warnings.warn(\n"
     ]
    },
    {
     "name": "stdout",
     "output_type": "stream",
     "text": [
      "Calgary Flames 1998 30 40 211 234 0.366\n",
      "Carolina Hurricanes 1998 34 30 210 202 0.415\n",
      "Chicago Blackhawks 1998 29 41 202 248 0.354\n",
      "Colorado Avalanche 1998 44 28 239 205 0.537\n",
      "Dallas Stars 1998 51 19 236 168 0.622\n",
      "Detroit Red Wings 1998 43 32 245 202 0.524\n",
      "Edmonton Oilers 1998 33 37 230 226 0.402\n",
      "Florida Panthers 1998 30 34 210 228 0.366\n",
      "Los Angeles Kings 1998 32 45 189 222 0.39\n",
      "Montreal Canadiens 1998 32 39 184 209 0.39\n",
      "Nashville Predators 1998 28 47 190 261 0.341\n",
      "New Jersey Devils 1998 47 24 248 196 0.573\n",
      "New York Islanders 1998 24 48 194 244 0.293\n",
      "New York Rangers 1998 33 38 217 227 0.402\n",
      "Ottawa Senators 1998 44 23 239 179 0.537\n",
      "Philadelphia Flyers 1998 37 26 231 196 0.451\n",
      "Phoenix Coyotes 1998 39 31 205 197 0.476\n",
      "Pittsburgh Penguins 1998 38 30 242 225 0.463\n",
      "San Jose Sharks 1998 31 33 196 191 0.378\n",
      "St. Louis Blues 1998 37 32 237 209 0.451\n",
      "Tampa Bay Lightning 1998 19 54 179 292 0.232\n",
      "Toronto Maple Leafs 1998 45 30 268 231 0.549\n",
      "Vancouver Canucks 1998 23 47 192 258 0.28\n",
      "Washington Capitals 1998 31 45 200 218 0.378\n",
      "Mighty Ducks of Anaheim 1999 34 33 217 227 0.415\n",
      "10\n"
     ]
    },
    {
     "name": "stderr",
     "output_type": "stream",
     "text": [
      "C:\\Users\\mayank.singh27\\AppData\\Roaming\\Python\\Python310\\site-packages\\urllib3\\connectionpool.py:1045: InsecureRequestWarning: Unverified HTTPS request is being made to host 'www.scrapethissite.com'. Adding certificate verification is strongly advised. See: https://urllib3.readthedocs.io/en/1.26.x/advanced-usage.html#ssl-warnings\n",
      "  warnings.warn(\n"
     ]
    },
    {
     "name": "stdout",
     "output_type": "stream",
     "text": [
      "Atlanta Thrashers 1999 14 57 170 313 0.171\n",
      "Boston Bruins 1999 24 33 210 248 0.293\n",
      "Buffalo Sabres 1999 35 32 213 204 0.427\n",
      "Calgary Flames 1999 31 36 211 256 0.378\n",
      "Carolina Hurricanes 1999 37 35 217 216 0.451\n",
      "Chicago Blackhawks 1999 33 37 242 245 0.402\n",
      "Colorado Avalanche 1999 42 28 233 201 0.512\n",
      "Dallas Stars 1999 43 23 211 184 0.524\n",
      "Detroit Red Wings 1999 48 22 278 210 0.585\n",
      "Edmonton Oilers 1999 32 26 226 212 0.39\n",
      "Florida Panthers 1999 43 27 244 209 0.524\n",
      "Los Angeles Kings 1999 39 27 245 228 0.476\n",
      "Montreal Canadiens 1999 35 34 196 194 0.427\n",
      "Nashville Predators 1999 28 40 199 240 0.341\n",
      "New Jersey Devils 1999 45 24 251 203 0.549\n",
      "New York Islanders 1999 24 48 194 275 0.293\n",
      "New York Rangers 1999 29 38 218 246 0.354\n",
      "Ottawa Senators 1999 41 28 244 210 0.5\n",
      "Philadelphia Flyers 1999 45 22 237 179 0.549\n",
      "Phoenix Coyotes 1999 39 31 232 228 0.476\n",
      "Pittsburgh Penguins 1999 37 31 241 236 0.451\n",
      "San Jose Sharks 1999 35 30 225 214 0.427\n",
      "St. Louis Blues 1999 51 19 248 165 0.622\n",
      "Tampa Bay Lightning 1999 19 47 204 310 0.232\n",
      "Toronto Maple Leafs 1999 45 27 246 222 0.549\n",
      "11\n"
     ]
    },
    {
     "name": "stderr",
     "output_type": "stream",
     "text": [
      "C:\\Users\\mayank.singh27\\AppData\\Roaming\\Python\\Python310\\site-packages\\urllib3\\connectionpool.py:1045: InsecureRequestWarning: Unverified HTTPS request is being made to host 'www.scrapethissite.com'. Adding certificate verification is strongly advised. See: https://urllib3.readthedocs.io/en/1.26.x/advanced-usage.html#ssl-warnings\n",
      "  warnings.warn(\n"
     ]
    },
    {
     "name": "stdout",
     "output_type": "stream",
     "text": [
      "Vancouver Canucks 1999 30 29 227 237 0.366\n",
      "Washington Capitals 1999 44 24 227 194 0.537\n",
      "Mighty Ducks of Anaheim 2000 25 41 188 245 0.305\n",
      "Atlanta Thrashers 2000 23 45 211 289 0.28\n",
      "Boston Bruins 2000 36 30 227 249 0.439\n",
      "Buffalo Sabres 2000 46 30 218 184 0.561\n",
      "Calgary Flames 2000 27 36 197 236 0.329\n",
      "Carolina Hurricanes 2000 38 32 212 225 0.463\n",
      "Columbus Blue Jackets 2000 28 39 190 233 0.341\n",
      "Chicago Blackhawks 2000 29 40 210 246 0.354\n",
      "Colorado Avalanche 2000 52 16 270 192 0.634\n",
      "Dallas Stars 2000 48 24 241 187 0.585\n",
      "Detroit Red Wings 2000 49 20 253 202 0.598\n",
      "Edmonton Oilers 2000 39 28 243 222 0.476\n",
      "Florida Panthers 2000 22 38 200 246 0.268\n",
      "Los Angeles Kings 2000 38 28 252 228 0.463\n",
      "Minnesota Wild 2000 25 39 168 210 0.305\n",
      "Montreal Canadiens 2000 28 40 206 232 0.341\n",
      "Nashville Predators 2000 34 36 186 200 0.415\n",
      "New Jersey Devils 2000 48 19 295 195 0.585\n",
      "New York Islanders 2000 21 51 185 268 0.256\n",
      "New York Rangers 2000 33 43 250 290 0.402\n",
      "Ottawa Senators 2000 48 21 274 205 0.585\n",
      "Philadelphia Flyers 2000 43 25 240 207 0.524\n",
      "Phoenix Coyotes 2000 35 27 214 212 0.427\n",
      "12\n"
     ]
    },
    {
     "name": "stderr",
     "output_type": "stream",
     "text": [
      "C:\\Users\\mayank.singh27\\AppData\\Roaming\\Python\\Python310\\site-packages\\urllib3\\connectionpool.py:1045: InsecureRequestWarning: Unverified HTTPS request is being made to host 'www.scrapethissite.com'. Adding certificate verification is strongly advised. See: https://urllib3.readthedocs.io/en/1.26.x/advanced-usage.html#ssl-warnings\n",
      "  warnings.warn(\n"
     ]
    },
    {
     "name": "stdout",
     "output_type": "stream",
     "text": [
      "Pittsburgh Penguins 2000 42 28 281 256 0.512\n",
      "San Jose Sharks 2000 40 27 217 192 0.488\n",
      "St. Louis Blues 2000 43 22 249 195 0.524\n",
      "Tampa Bay Lightning 2000 24 47 201 280 0.293\n",
      "Toronto Maple Leafs 2000 37 29 232 207 0.451\n",
      "Vancouver Canucks 2000 36 28 239 238 0.439\n",
      "Washington Capitals 2000 41 27 233 211 0.5\n",
      "Mighty Ducks of Anaheim 2001 29 42 175 198 0.354\n",
      "Atlanta Thrashers 2001 19 47 187 288 0.232\n",
      "Boston Bruins 2001 43 24 236 201 0.524\n",
      "Buffalo Sabres 2001 35 35 213 200 0.427\n",
      "Calgary Flames 2001 32 35 201 220 0.39\n",
      "Carolina Hurricanes 2001 35 26 217 217 0.427\n",
      "Columbus Blue Jackets 2001 22 47 164 255 0.268\n",
      "Chicago Blackhawks 2001 41 27 216 207 0.5\n",
      "Colorado Avalanche 2001 45 28 212 169 0.549\n",
      "Dallas Stars 2001 36 28 215 213 0.439\n",
      "Detroit Red Wings 2001 51 17 251 187 0.622\n",
      "Edmonton Oilers 2001 38 28 205 182 0.463\n",
      "Florida Panthers 2001 22 44 180 250 0.268\n",
      "Los Angeles Kings 2001 40 27 214 190 0.488\n",
      "Minnesota Wild 2001 26 35 195 238 0.317\n",
      "Montreal Canadiens 2001 36 31 207 209 0.439\n",
      "Nashville Predators 2001 28 41 196 230 0.341\n",
      "New Jersey Devils 2001 41 28 205 187 0.5\n",
      "13\n"
     ]
    },
    {
     "name": "stderr",
     "output_type": "stream",
     "text": [
      "C:\\Users\\mayank.singh27\\AppData\\Roaming\\Python\\Python310\\site-packages\\urllib3\\connectionpool.py:1045: InsecureRequestWarning: Unverified HTTPS request is being made to host 'www.scrapethissite.com'. Adding certificate verification is strongly advised. See: https://urllib3.readthedocs.io/en/1.26.x/advanced-usage.html#ssl-warnings\n",
      "  warnings.warn(\n"
     ]
    },
    {
     "name": "stdout",
     "output_type": "stream",
     "text": [
      "New York Islanders 2001 42 28 239 220 0.512\n",
      "New York Rangers 2001 36 38 227 258 0.439\n",
      "Ottawa Senators 2001 39 27 243 208 0.476\n",
      "Philadelphia Flyers 2001 42 27 234 192 0.512\n",
      "Phoenix Coyotes 2001 40 27 228 210 0.488\n",
      "Pittsburgh Penguins 2001 28 41 198 249 0.341\n",
      "San Jose Sharks 2001 44 27 248 199 0.537\n",
      "St. Louis Blues 2001 43 27 227 188 0.524\n",
      "Tampa Bay Lightning 2001 27 40 178 219 0.329\n",
      "Toronto Maple Leafs 2001 43 25 249 207 0.524\n",
      "Vancouver Canucks 2001 42 30 254 211 0.512\n",
      "Washington Capitals 2001 36 33 228 240 0.439\n",
      "Mighty Ducks of Anaheim 2002 40 27 203 193 0.488\n",
      "Atlanta Thrashers 2002 31 39 226 284 0.378\n",
      "Boston Bruins 2002 36 31 245 237 0.439\n",
      "Buffalo Sabres 2002 27 37 190 219 0.329\n",
      "Calgary Flames 2002 29 36 186 228 0.354\n",
      "Carolina Hurricanes 2002 22 43 171 240 0.268\n",
      "Columbus Blue Jackets 2002 29 42 213 263 0.354\n",
      "Chicago Blackhawks 2002 30 33 207 226 0.366\n",
      "Colorado Avalanche 2002 42 19 251 194 0.512\n",
      "Dallas Stars 2002 46 17 245 169 0.561\n",
      "Detroit Red Wings 2002 48 20 269 203 0.585\n",
      "Edmonton Oilers 2002 36 26 231 230 0.439\n",
      "Florida Panthers 2002 24 36 176 237 0.293\n",
      "14\n"
     ]
    },
    {
     "name": "stderr",
     "output_type": "stream",
     "text": [
      "C:\\Users\\mayank.singh27\\AppData\\Roaming\\Python\\Python310\\site-packages\\urllib3\\connectionpool.py:1045: InsecureRequestWarning: Unverified HTTPS request is being made to host 'www.scrapethissite.com'. Adding certificate verification is strongly advised. See: https://urllib3.readthedocs.io/en/1.26.x/advanced-usage.html#ssl-warnings\n",
      "  warnings.warn(\n"
     ]
    },
    {
     "name": "stdout",
     "output_type": "stream",
     "text": [
      "Los Angeles Kings 2002 33 37 203 221 0.402\n",
      "Minnesota Wild 2002 42 29 198 178 0.512\n",
      "Montreal Canadiens 2002 30 35 206 234 0.366\n",
      "Nashville Predators 2002 27 35 183 206 0.329\n",
      "New Jersey Devils 2002 46 20 216 166 0.561\n",
      "New York Islanders 2002 35 34 224 231 0.427\n",
      "New York Rangers 2002 32 36 210 231 0.39\n",
      "Ottawa Senators 2002 52 21 263 182 0.634\n",
      "Philadelphia Flyers 2002 45 20 211 166 0.549\n",
      "Phoenix Coyotes 2002 31 35 204 230 0.378\n",
      "Pittsburgh Penguins 2002 27 44 189 255 0.329\n",
      "San Jose Sharks 2002 28 37 214 239 0.341\n",
      "St. Louis Blues 2002 41 24 253 222 0.5\n",
      "Tampa Bay Lightning 2002 36 25 219 210 0.439\n",
      "Toronto Maple Leafs 2002 44 28 236 208 0.537\n",
      "Vancouver Canucks 2002 45 23 264 208 0.549\n",
      "Washington Capitals 2002 39 29 224 220 0.476\n",
      "Mighty Ducks of Anaheim 2003 29 35 184 213 0.354\n",
      "Atlanta Thrashers 2003 33 37 214 243 0.402\n",
      "Boston Bruins 2003 41 19 209 188 0.5\n",
      "Buffalo Sabres 2003 37 34 220 221 0.451\n",
      "Calgary Flames 2003 42 30 200 176 0.512\n",
      "Carolina Hurricanes 2003 28 34 172 209 0.341\n",
      "Columbus Blue Jackets 2003 25 45 177 238 0.305\n",
      "Chicago Blackhawks 2003 20 43 188 259 0.244\n",
      "15\n"
     ]
    },
    {
     "name": "stderr",
     "output_type": "stream",
     "text": [
      "C:\\Users\\mayank.singh27\\AppData\\Roaming\\Python\\Python310\\site-packages\\urllib3\\connectionpool.py:1045: InsecureRequestWarning: Unverified HTTPS request is being made to host 'www.scrapethissite.com'. Adding certificate verification is strongly advised. See: https://urllib3.readthedocs.io/en/1.26.x/advanced-usage.html#ssl-warnings\n",
      "  warnings.warn(\n"
     ]
    },
    {
     "name": "stdout",
     "output_type": "stream",
     "text": [
      "Colorado Avalanche 2003 40 22 236 198 0.488\n",
      "Dallas Stars 2003 41 26 194 175 0.5\n",
      "Detroit Red Wings 2003 48 21 255 189 0.585\n",
      "Edmonton Oilers 2003 36 29 221 208 0.439\n",
      "Florida Panthers 2003 28 35 188 221 0.341\n",
      "Los Angeles Kings 2003 28 29 205 217 0.341\n",
      "Minnesota Wild 2003 30 29 188 183 0.366\n",
      "Montreal Canadiens 2003 41 30 208 192 0.5\n",
      "Nashville Predators 2003 38 29 216 217 0.463\n",
      "New Jersey Devils 2003 43 25 213 164 0.524\n",
      "New York Islanders 2003 38 29 237 210 0.463\n",
      "New York Rangers 2003 27 40 206 250 0.329\n",
      "Ottawa Senators 2003 43 23 262 189 0.524\n",
      "Philadelphia Flyers 2003 40 21 229 186 0.488\n",
      "Phoenix Coyotes 2003 22 36 188 245 0.268\n",
      "Pittsburgh Penguins 2003 23 47 190 303 0.28\n",
      "San Jose Sharks 2003 43 21 219 183 0.524\n",
      "St. Louis Blues 2003 39 30 191 198 0.476\n",
      "Tampa Bay Lightning 2003 46 22 245 192 0.561\n",
      "Toronto Maple Leafs 2003 45 24 242 204 0.549\n",
      "Vancouver Canucks 2003 43 24 235 194 0.524\n",
      "Washington Capitals 2003 23 46 186 253 0.28\n",
      "Mighty Ducks of Anaheim 2005 43 27 254 229 0.524\n",
      "Atlanta Thrashers 2005 41 33 281 275 0.5\n",
      "Boston Bruins 2005 29 37 230 266 0.354\n",
      "16\n"
     ]
    },
    {
     "name": "stderr",
     "output_type": "stream",
     "text": [
      "C:\\Users\\mayank.singh27\\AppData\\Roaming\\Python\\Python310\\site-packages\\urllib3\\connectionpool.py:1045: InsecureRequestWarning: Unverified HTTPS request is being made to host 'www.scrapethissite.com'. Adding certificate verification is strongly advised. See: https://urllib3.readthedocs.io/en/1.26.x/advanced-usage.html#ssl-warnings\n",
      "  warnings.warn(\n"
     ]
    },
    {
     "name": "stdout",
     "output_type": "stream",
     "text": [
      "Buffalo Sabres 2005 52 24 281 239 0.634\n",
      "Calgary Flames 2005 46 25 218 200 0.561\n",
      "Carolina Hurricanes 2005 52 22 294 260 0.634\n",
      "Columbus Blue Jackets 2005 35 43 223 279 0.427\n",
      "Chicago Blackhawks 2005 26 43 211 285 0.317\n",
      "Colorado Avalanche 2005 43 30 283 257 0.524\n",
      "Dallas Stars 2005 53 23 265 218 0.646\n",
      "Detroit Red Wings 2005 58 16 305 209 0.707\n",
      "Edmonton Oilers 2005 41 28 256 251 0.5\n",
      "Florida Panthers 2005 37 34 240 257 0.451\n",
      "Los Angeles Kings 2005 42 35 249 270 0.512\n",
      "Minnesota Wild 2005 38 36 231 215 0.463\n",
      "Montreal Canadiens 2005 42 31 243 247 0.512\n",
      "Nashville Predators 2005 49 25 259 227 0.598\n",
      "New Jersey Devils 2005 46 27 242 229 0.561\n",
      "New York Islanders 2005 36 40 230 278 0.439\n",
      "New York Rangers 2005 44 26 257 215 0.537\n",
      "Ottawa Senators 2005 52 21 314 211 0.634\n",
      "Philadelphia Flyers 2005 45 26 267 259 0.549\n",
      "Phoenix Coyotes 2005 38 39 246 271 0.463\n",
      "Pittsburgh Penguins 2005 22 46 244 316 0.268\n",
      "San Jose Sharks 2005 44 27 266 242 0.537\n",
      "St. Louis Blues 2005 21 46 197 292 0.256\n",
      "Tampa Bay Lightning 2005 43 33 252 260 0.524\n",
      "Toronto Maple Leafs 2005 41 33 257 270 0.5\n",
      "17\n"
     ]
    },
    {
     "name": "stderr",
     "output_type": "stream",
     "text": [
      "C:\\Users\\mayank.singh27\\AppData\\Roaming\\Python\\Python310\\site-packages\\urllib3\\connectionpool.py:1045: InsecureRequestWarning: Unverified HTTPS request is being made to host 'www.scrapethissite.com'. Adding certificate verification is strongly advised. See: https://urllib3.readthedocs.io/en/1.26.x/advanced-usage.html#ssl-warnings\n",
      "  warnings.warn(\n"
     ]
    },
    {
     "name": "stdout",
     "output_type": "stream",
     "text": [
      "Vancouver Canucks 2005 42 32 256 255 0.512\n",
      "Washington Capitals 2005 29 41 237 306 0.354\n",
      "Anaheim Ducks 2006 48 20 258 208 0.585\n",
      "Atlanta Thrashers 2006 43 28 246 245 0.524\n",
      "Boston Bruins 2006 35 41 219 289 0.427\n",
      "Buffalo Sabres 2006 53 22 308 242 0.646\n",
      "Calgary Flames 2006 43 29 258 226 0.524\n",
      "Carolina Hurricanes 2006 40 34 241 253 0.488\n",
      "Columbus Blue Jackets 2006 33 42 201 249 0.402\n",
      "Chicago Blackhawks 2006 31 42 201 258 0.378\n",
      "Colorado Avalanche 2006 44 31 272 251 0.537\n",
      "Dallas Stars 2006 50 25 226 197 0.61\n",
      "Detroit Red Wings 2006 50 19 254 199 0.61\n",
      "Edmonton Oilers 2006 32 43 195 248 0.39\n",
      "Florida Panthers 2006 35 31 247 257 0.427\n",
      "Los Angeles Kings 2006 27 41 227 283 0.329\n",
      "Minnesota Wild 2006 48 26 235 191 0.585\n",
      "Montreal Canadiens 2006 42 34 245 256 0.512\n",
      "Nashville Predators 2006 51 23 272 212 0.622\n",
      "New Jersey Devils 2006 49 24 216 201 0.598\n",
      "New York Islanders 2006 40 30 248 240 0.488\n",
      "New York Rangers 2006 42 30 242 216 0.512\n",
      "Ottawa Senators 2006 48 25 288 222 0.585\n",
      "Philadelphia Flyers 2006 22 48 214 303 0.268\n",
      "Phoenix Coyotes 2006 31 46 216 284 0.378\n",
      "18\n"
     ]
    },
    {
     "name": "stderr",
     "output_type": "stream",
     "text": [
      "C:\\Users\\mayank.singh27\\AppData\\Roaming\\Python\\Python310\\site-packages\\urllib3\\connectionpool.py:1045: InsecureRequestWarning: Unverified HTTPS request is being made to host 'www.scrapethissite.com'. Adding certificate verification is strongly advised. See: https://urllib3.readthedocs.io/en/1.26.x/advanced-usage.html#ssl-warnings\n",
      "  warnings.warn(\n"
     ]
    },
    {
     "name": "stdout",
     "output_type": "stream",
     "text": [
      "Pittsburgh Penguins 2006 47 24 277 246 0.573\n",
      "San Jose Sharks 2006 51 26 258 199 0.622\n",
      "St. Louis Blues 2006 34 35 214 254 0.415\n",
      "Tampa Bay Lightning 2006 44 33 253 261 0.537\n",
      "Toronto Maple Leafs 2006 40 31 258 269 0.488\n",
      "Vancouver Canucks 2006 49 26 222 201 0.598\n",
      "Washington Capitals 2006 28 40 235 286 0.341\n",
      "Anaheim Ducks 2007 47 27 205 191 0.573\n",
      "Atlanta Thrashers 2007 34 40 216 272 0.415\n",
      "Boston Bruins 2007 41 29 212 222 0.5\n",
      "Buffalo Sabres 2007 39 31 255 242 0.476\n",
      "Calgary Flames 2007 42 30 229 227 0.512\n",
      "Carolina Hurricanes 2007 43 33 252 249 0.524\n",
      "Columbus Blue Jackets 2007 34 36 193 218 0.415\n",
      "Chicago Blackhawks 2007 40 34 239 235 0.488\n",
      "Colorado Avalanche 2007 44 31 231 219 0.537\n",
      "Dallas Stars 2007 45 30 242 207 0.549\n",
      "Detroit Red Wings 2007 54 21 257 184 0.659\n",
      "Edmonton Oilers 2007 41 35 235 251 0.5\n",
      "Florida Panthers 2007 38 35 216 226 0.463\n",
      "Los Angeles Kings 2007 32 43 231 266 0.39\n",
      "Minnesota Wild 2007 44 28 223 218 0.537\n",
      "Montreal Canadiens 2007 47 25 262 222 0.573\n",
      "Nashville Predators 2007 41 32 230 229 0.5\n",
      "New Jersey Devils 2007 46 29 206 197 0.561\n",
      "19\n"
     ]
    },
    {
     "name": "stderr",
     "output_type": "stream",
     "text": [
      "C:\\Users\\mayank.singh27\\AppData\\Roaming\\Python\\Python310\\site-packages\\urllib3\\connectionpool.py:1045: InsecureRequestWarning: Unverified HTTPS request is being made to host 'www.scrapethissite.com'. Adding certificate verification is strongly advised. See: https://urllib3.readthedocs.io/en/1.26.x/advanced-usage.html#ssl-warnings\n",
      "  warnings.warn(\n"
     ]
    },
    {
     "name": "stdout",
     "output_type": "stream",
     "text": [
      "New York Islanders 2007 35 38 194 243 0.427\n",
      "New York Rangers 2007 42 27 213 199 0.512\n",
      "Ottawa Senators 2007 43 31 261 247 0.524\n",
      "Philadelphia Flyers 2007 42 29 248 233 0.512\n",
      "Phoenix Coyotes 2007 38 37 214 231 0.463\n",
      "Pittsburgh Penguins 2007 47 27 247 216 0.573\n",
      "San Jose Sharks 2007 49 23 222 193 0.598\n",
      "St. Louis Blues 2007 33 36 205 237 0.402\n",
      "Tampa Bay Lightning 2007 31 42 223 267 0.378\n",
      "Toronto Maple Leafs 2007 36 35 231 260 0.439\n",
      "Vancouver Canucks 2007 39 33 213 215 0.476\n",
      "Washington Capitals 2007 43 31 242 231 0.524\n",
      "Anaheim Ducks 2008 42 33 245 238 0.512\n",
      "Atlanta Thrashers 2008 35 41 257 280 0.427\n",
      "Boston Bruins 2008 53 19 274 196 0.646\n",
      "Buffalo Sabres 2008 41 32 250 234 0.5\n",
      "Calgary Flames 2008 46 30 254 248 0.561\n",
      "Carolina Hurricanes 2008 45 30 239 226 0.549\n",
      "Columbus Blue Jackets 2008 41 31 226 230 0.5\n",
      "Chicago Blackhawks 2008 46 24 264 216 0.561\n",
      "Colorado Avalanche 2008 32 45 199 257 0.39\n",
      "Dallas Stars 2008 36 35 230 257 0.439\n",
      "Detroit Red Wings 2008 51 21 295 244 0.622\n",
      "Edmonton Oilers 2008 38 35 234 248 0.463\n",
      "Florida Panthers 2008 41 30 234 231 0.5\n",
      "20\n"
     ]
    },
    {
     "name": "stderr",
     "output_type": "stream",
     "text": [
      "C:\\Users\\mayank.singh27\\AppData\\Roaming\\Python\\Python310\\site-packages\\urllib3\\connectionpool.py:1045: InsecureRequestWarning: Unverified HTTPS request is being made to host 'www.scrapethissite.com'. Adding certificate verification is strongly advised. See: https://urllib3.readthedocs.io/en/1.26.x/advanced-usage.html#ssl-warnings\n",
      "  warnings.warn(\n"
     ]
    },
    {
     "name": "stdout",
     "output_type": "stream",
     "text": [
      "Los Angeles Kings 2008 34 37 207 234 0.415\n",
      "Minnesota Wild 2008 40 33 219 200 0.488\n",
      "Montreal Canadiens 2008 41 30 249 247 0.5\n",
      "Nashville Predators 2008 40 34 213 233 0.488\n",
      "New Jersey Devils 2008 51 27 244 209 0.622\n",
      "New York Islanders 2008 26 47 201 279 0.317\n",
      "New York Rangers 2008 43 30 210 218 0.524\n",
      "Ottawa Senators 2008 36 35 217 237 0.439\n",
      "Philadelphia Flyers 2008 44 27 264 238 0.537\n",
      "Phoenix Coyotes 2008 36 39 208 252 0.439\n",
      "Pittsburgh Penguins 2008 45 28 264 239 0.549\n",
      "San Jose Sharks 2008 53 18 257 204 0.646\n",
      "St. Louis Blues 2008 41 31 233 233 0.5\n",
      "Tampa Bay Lightning 2008 24 40 210 279 0.293\n",
      "Toronto Maple Leafs 2008 34 35 250 293 0.415\n",
      "Vancouver Canucks 2008 45 27 246 220 0.549\n",
      "Washington Capitals 2008 50 24 272 245 0.61\n",
      "Anaheim Ducks 2009 39 32 238 251 0.476\n",
      "Atlanta Thrashers 2009 35 34 234 256 0.427\n",
      "Boston Bruins 2009 39 30 206 200 0.476\n",
      "Buffalo Sabres 2009 45 27 235 207 0.549\n",
      "Calgary Flames 2009 40 32 204 210 0.488\n",
      "Carolina Hurricanes 2009 35 37 230 256 0.427\n",
      "Columbus Blue Jackets 2009 32 35 216 259 0.39\n",
      "Chicago Blackhawks 2009 52 22 271 209 0.634\n",
      "21\n"
     ]
    },
    {
     "name": "stderr",
     "output_type": "stream",
     "text": [
      "C:\\Users\\mayank.singh27\\AppData\\Roaming\\Python\\Python310\\site-packages\\urllib3\\connectionpool.py:1045: InsecureRequestWarning: Unverified HTTPS request is being made to host 'www.scrapethissite.com'. Adding certificate verification is strongly advised. See: https://urllib3.readthedocs.io/en/1.26.x/advanced-usage.html#ssl-warnings\n",
      "  warnings.warn(\n"
     ]
    },
    {
     "name": "stdout",
     "output_type": "stream",
     "text": [
      "Colorado Avalanche 2009 43 30 244 233 0.524\n",
      "Dallas Stars 2009 37 31 237 254 0.451\n",
      "Detroit Red Wings 2009 44 24 229 216 0.537\n",
      "Edmonton Oilers 2009 27 47 214 284 0.329\n",
      "Florida Panthers 2009 32 37 208 244 0.39\n",
      "Los Angeles Kings 2009 46 27 241 219 0.561\n",
      "Minnesota Wild 2009 38 36 219 246 0.463\n",
      "Montreal Canadiens 2009 39 33 217 223 0.476\n",
      "Nashville Predators 2009 47 29 225 225 0.573\n",
      "New Jersey Devils 2009 48 27 222 191 0.585\n",
      "New York Islanders 2009 34 37 222 264 0.415\n",
      "New York Rangers 2009 38 33 222 218 0.463\n",
      "Ottawa Senators 2009 44 32 225 238 0.537\n",
      "Philadelphia Flyers 2009 41 35 236 225 0.5\n",
      "Phoenix Coyotes 2009 50 25 225 202 0.61\n",
      "Pittsburgh Penguins 2009 47 28 257 237 0.573\n",
      "San Jose Sharks 2009 51 20 264 215 0.622\n",
      "St. Louis Blues 2009 40 32 225 223 0.488\n",
      "Tampa Bay Lightning 2009 34 36 217 260 0.415\n",
      "Toronto Maple Leafs 2009 30 38 214 267 0.366\n",
      "Vancouver Canucks 2009 49 28 272 222 0.598\n",
      "Washington Capitals 2009 54 15 318 233 0.659\n",
      "Anaheim Ducks 2010 47 30 239 235 0.573\n",
      "Atlanta Thrashers 2010 34 36 223 269 0.415\n",
      "Boston Bruins 2010 46 25 246 195 0.561\n",
      "22\n"
     ]
    },
    {
     "name": "stderr",
     "output_type": "stream",
     "text": [
      "C:\\Users\\mayank.singh27\\AppData\\Roaming\\Python\\Python310\\site-packages\\urllib3\\connectionpool.py:1045: InsecureRequestWarning: Unverified HTTPS request is being made to host 'www.scrapethissite.com'. Adding certificate verification is strongly advised. See: https://urllib3.readthedocs.io/en/1.26.x/advanced-usage.html#ssl-warnings\n",
      "  warnings.warn(\n"
     ]
    },
    {
     "name": "stdout",
     "output_type": "stream",
     "text": [
      "Buffalo Sabres 2010 43 29 245 229 0.524\n",
      "Calgary Flames 2010 41 29 250 237 0.5\n",
      "Carolina Hurricanes 2010 40 31 236 239 0.488\n",
      "Columbus Blue Jackets 2010 34 35 215 258 0.415\n",
      "Chicago Blackhawks 2010 44 29 258 225 0.537\n",
      "Colorado Avalanche 2010 30 44 227 288 0.366\n",
      "Dallas Stars 2010 42 29 227 233 0.512\n",
      "Detroit Red Wings 2010 47 25 261 241 0.573\n",
      "Edmonton Oilers 2010 25 45 193 269 0.305\n",
      "Florida Panthers 2010 30 40 195 229 0.366\n",
      "Los Angeles Kings 2010 46 30 219 198 0.561\n",
      "Minnesota Wild 2010 39 35 206 233 0.476\n",
      "Montreal Canadiens 2010 44 30 216 209 0.537\n",
      "Nashville Predators 2010 44 27 219 194 0.537\n",
      "New Jersey Devils 2010 38 39 174 209 0.463\n",
      "New York Islanders 2010 30 39 229 264 0.366\n",
      "New York Rangers 2010 44 33 233 198 0.537\n",
      "Ottawa Senators 2010 32 40 192 250 0.39\n",
      "Philadelphia Flyers 2010 47 23 259 223 0.573\n",
      "Phoenix Coyotes 2010 43 26 231 226 0.524\n",
      "Pittsburgh Penguins 2010 49 25 238 199 0.598\n",
      "San Jose Sharks 2010 48 25 248 213 0.585\n",
      "St. Louis Blues 2010 38 33 240 234 0.463\n",
      "Tampa Bay Lightning 2010 46 25 247 240 0.561\n",
      "Toronto Maple Leafs 2010 37 34 218 251 0.451\n",
      "23\n"
     ]
    },
    {
     "name": "stderr",
     "output_type": "stream",
     "text": [
      "C:\\Users\\mayank.singh27\\AppData\\Roaming\\Python\\Python310\\site-packages\\urllib3\\connectionpool.py:1045: InsecureRequestWarning: Unverified HTTPS request is being made to host 'www.scrapethissite.com'. Adding certificate verification is strongly advised. See: https://urllib3.readthedocs.io/en/1.26.x/advanced-usage.html#ssl-warnings\n",
      "  warnings.warn(\n"
     ]
    },
    {
     "name": "stdout",
     "output_type": "stream",
     "text": [
      "Vancouver Canucks 2010 54 19 262 185 0.659\n",
      "Washington Capitals 2010 48 23 224 197 0.585\n",
      "Anaheim Ducks 2011 34 36 204 231 0.415\n",
      "Boston Bruins 2011 49 29 269 202 0.598\n",
      "Buffalo Sabres 2011 39 32 218 230 0.476\n",
      "Calgary Flames 2011 37 29 202 226 0.451\n",
      "Carolina Hurricanes 2011 33 33 213 243 0.402\n",
      "Columbus Blue Jackets 2011 29 46 202 262 0.354\n",
      "Chicago Blackhawks 2011 45 26 248 238 0.549\n",
      "Colorado Avalanche 2011 41 35 208 220 0.5\n",
      "Dallas Stars 2011 42 35 211 222 0.512\n",
      "Detroit Red Wings 2011 48 28 248 203 0.585\n",
      "Edmonton Oilers 2011 32 40 212 239 0.39\n",
      "Florida Panthers 2011 38 26 203 227 0.463\n",
      "Los Angeles Kings 2011 40 27 194 179 0.488\n",
      "Minnesota Wild 2011 35 36 177 226 0.427\n",
      "Montreal Canadiens 2011 31 35 212 226 0.378\n",
      "Nashville Predators 2011 48 26 237 210 0.585\n",
      "New Jersey Devils 2011 48 28 228 209 0.585\n",
      "New York Islanders 2011 34 37 203 255 0.415\n",
      "New York Rangers 2011 51 24 226 187 0.622\n",
      "Ottawa Senators 2011 41 31 249 240 0.5\n",
      "Philadelphia Flyers 2011 47 26 264 232 0.573\n",
      "Phoenix Coyotes 2011 42 27 216 204 0.512\n",
      "Pittsburgh Penguins 2011 51 25 282 221 0.622\n",
      "24\n"
     ]
    },
    {
     "name": "stderr",
     "output_type": "stream",
     "text": [
      "C:\\Users\\mayank.singh27\\AppData\\Roaming\\Python\\Python310\\site-packages\\urllib3\\connectionpool.py:1045: InsecureRequestWarning: Unverified HTTPS request is being made to host 'www.scrapethissite.com'. Adding certificate verification is strongly advised. See: https://urllib3.readthedocs.io/en/1.26.x/advanced-usage.html#ssl-warnings\n",
      "  warnings.warn(\n"
     ]
    },
    {
     "name": "stdout",
     "output_type": "stream",
     "text": [
      "San Jose Sharks 2011 43 29 228 210 0.524\n",
      "St. Louis Blues 2011 49 22 210 165 0.598\n",
      "Tampa Bay Lightning 2011 38 36 235 281 0.463\n",
      "Toronto Maple Leafs 2011 35 37 231 264 0.427\n",
      "Vancouver Canucks 2011 51 22 249 198 0.622\n",
      "Washington Capitals 2011 42 32 222 230 0.512\n",
      "Winnipeg Jets 2011 37 35 225 246 0.451\n",
      "»\n"
     ]
    },
    {
     "name": "stderr",
     "output_type": "stream",
     "text": [
      "C:\\Users\\mayank.singh27\\AppData\\Roaming\\Python\\Python310\\site-packages\\urllib3\\connectionpool.py:1045: InsecureRequestWarning: Unverified HTTPS request is being made to host 'www.scrapethissite.com'. Adding certificate verification is strongly advised. See: https://urllib3.readthedocs.io/en/1.26.x/advanced-usage.html#ssl-warnings\n",
      "  warnings.warn(\n"
     ]
    }
   ],
   "source": [
    "url = \"https://www.scrapethissite.com/pages/forms/\"\n",
    "source = requests.get(url, verify = False)\n",
    "html_text = BeautifulSoup(source.text, 'html.parser')\n",
    "page_num = html_text.find('ul', class_ = 'pagination')\n",
    "page_nums = page_num.find_all('li') # finding no. of pages\n",
    "for pages in page_nums: #loping through page numbers and pringting them\n",
    "    num = pages.find('a').text.strip()\n",
    "    print(num)\n",
    "    url = f\"https://www.scrapethissite.com/pages/forms/?page_num={num}\"\n",
    "\n",
    "    source = requests.get(url, verify = False)\n",
    "\n",
    "    html_text = BeautifulSoup(source.text, 'html.parser')\n",
    "\n",
    "    table = html_text.find_all('tr', class_ = \"team\")\n",
    "    for values in table:\n",
    "        name =values.find('td', class_='name').text.strip()\n",
    "        year =int(values.find('td', class_ = 'year').text.strip())\n",
    "        wins =int(values.find('td', class_ = 'wins').text.strip())\n",
    "        losses = int(values.find('td', class_ = 'losses').text.strip())\n",
    "        gf =int(values.find('td', class_ = 'gf').text.strip())\n",
    "        ga =int(values.find('td', class_ = 'ga').text.strip())\n",
    "        win_pct = float(values.find('td',class_= 'pct').text.strip())\n",
    "        print(name, year, wins, losses, gf, ga,win_pct)\n",
    "        sheet.append([name, year, wins, losses, gf, ga,win_pct]) #writing scrapped Data to shhet\n",
    "excel.save('5a.Hockey_team_web_scrapping_Automating_Multiple_pages.xlsx') # saving Excel file"
   ]
  }
 ],
 "metadata": {
  "kernelspec": {
   "display_name": "Python 3 (ipykernel)",
   "language": "python",
   "name": "python3"
  },
  "language_info": {
   "codemirror_mode": {
    "name": "ipython",
    "version": 3
   },
   "file_extension": ".py",
   "mimetype": "text/x-python",
   "name": "python",
   "nbconvert_exporter": "python",
   "pygments_lexer": "ipython3",
   "version": "3.10.4"
  }
 },
 "nbformat": 4,
 "nbformat_minor": 5
}
