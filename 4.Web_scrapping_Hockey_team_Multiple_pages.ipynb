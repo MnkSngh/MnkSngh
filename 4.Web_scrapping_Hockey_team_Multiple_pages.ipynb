{
 "cells": [
  {
   "cell_type": "code",
   "execution_count": 1,
   "id": "640ce825",
   "metadata": {},
   "outputs": [],
   "source": [
    "from bs4 import BeautifulSoup\n",
    "import requests\n",
    "import re\n",
    "import openpyxl as pl"
   ]
  },
  {
   "cell_type": "code",
   "execution_count": 2,
   "id": "71b172f2",
   "metadata": {},
   "outputs": [],
   "source": [
    "excel = pl.Workbook()"
   ]
  },
  {
   "cell_type": "code",
   "execution_count": 3,
   "id": "84dd7d50",
   "metadata": {},
   "outputs": [],
   "source": [
    "sheet = excel.active"
   ]
  },
  {
   "cell_type": "code",
   "execution_count": 4,
   "id": "a401623b",
   "metadata": {},
   "outputs": [],
   "source": [
    "sheet.title = \"Hockey Team Data\""
   ]
  },
  {
   "cell_type": "code",
   "execution_count": 5,
   "id": "1f7aa16b",
   "metadata": {},
   "outputs": [],
   "source": [
    "sheet.append(['Name of the Team','Year of the Team', \n",
    "                'No. of matches won', 'No. of losed', \n",
    "                'Goals For the Team','Goals against Team'])"
   ]
  },
  {
   "cell_type": "code",
   "execution_count": 6,
   "id": "b2bc56d7",
   "metadata": {
    "scrolled": true
   },
   "outputs": [
    {
     "name": "stderr",
     "output_type": "stream",
     "text": [
      "C:\\Users\\mayank.singh27\\AppData\\Roaming\\Python\\Python310\\site-packages\\urllib3\\connectionpool.py:1045: InsecureRequestWarning: Unverified HTTPS request is being made to host 'www.scrapethissite.com'. Adding certificate verification is strongly advised. See: https://urllib3.readthedocs.io/en/1.26.x/advanced-usage.html#ssl-warnings\n",
      "  warnings.warn(\n",
      "C:\\Users\\mayank.singh27\\AppData\\Roaming\\Python\\Python310\\site-packages\\urllib3\\connectionpool.py:1045: InsecureRequestWarning: Unverified HTTPS request is being made to host 'www.scrapethissite.com'. Adding certificate verification is strongly advised. See: https://urllib3.readthedocs.io/en/1.26.x/advanced-usage.html#ssl-warnings\n",
      "  warnings.warn(\n",
      "C:\\Users\\mayank.singh27\\AppData\\Roaming\\Python\\Python310\\site-packages\\urllib3\\connectionpool.py:1045: InsecureRequestWarning: Unverified HTTPS request is being made to host 'www.scrapethissite.com'. Adding certificate verification is strongly advised. See: https://urllib3.readthedocs.io/en/1.26.x/advanced-usage.html#ssl-warnings\n",
      "  warnings.warn(\n",
      "C:\\Users\\mayank.singh27\\AppData\\Roaming\\Python\\Python310\\site-packages\\urllib3\\connectionpool.py:1045: InsecureRequestWarning: Unverified HTTPS request is being made to host 'www.scrapethissite.com'. Adding certificate verification is strongly advised. See: https://urllib3.readthedocs.io/en/1.26.x/advanced-usage.html#ssl-warnings\n",
      "  warnings.warn(\n",
      "C:\\Users\\mayank.singh27\\AppData\\Roaming\\Python\\Python310\\site-packages\\urllib3\\connectionpool.py:1045: InsecureRequestWarning: Unverified HTTPS request is being made to host 'www.scrapethissite.com'. Adding certificate verification is strongly advised. See: https://urllib3.readthedocs.io/en/1.26.x/advanced-usage.html#ssl-warnings\n",
      "  warnings.warn(\n",
      "C:\\Users\\mayank.singh27\\AppData\\Roaming\\Python\\Python310\\site-packages\\urllib3\\connectionpool.py:1045: InsecureRequestWarning: Unverified HTTPS request is being made to host 'www.scrapethissite.com'. Adding certificate verification is strongly advised. See: https://urllib3.readthedocs.io/en/1.26.x/advanced-usage.html#ssl-warnings\n",
      "  warnings.warn(\n",
      "C:\\Users\\mayank.singh27\\AppData\\Roaming\\Python\\Python310\\site-packages\\urllib3\\connectionpool.py:1045: InsecureRequestWarning: Unverified HTTPS request is being made to host 'www.scrapethissite.com'. Adding certificate verification is strongly advised. See: https://urllib3.readthedocs.io/en/1.26.x/advanced-usage.html#ssl-warnings\n",
      "  warnings.warn(\n",
      "C:\\Users\\mayank.singh27\\AppData\\Roaming\\Python\\Python310\\site-packages\\urllib3\\connectionpool.py:1045: InsecureRequestWarning: Unverified HTTPS request is being made to host 'www.scrapethissite.com'. Adding certificate verification is strongly advised. See: https://urllib3.readthedocs.io/en/1.26.x/advanced-usage.html#ssl-warnings\n",
      "  warnings.warn(\n",
      "C:\\Users\\mayank.singh27\\AppData\\Roaming\\Python\\Python310\\site-packages\\urllib3\\connectionpool.py:1045: InsecureRequestWarning: Unverified HTTPS request is being made to host 'www.scrapethissite.com'. Adding certificate verification is strongly advised. See: https://urllib3.readthedocs.io/en/1.26.x/advanced-usage.html#ssl-warnings\n",
      "  warnings.warn(\n",
      "C:\\Users\\mayank.singh27\\AppData\\Roaming\\Python\\Python310\\site-packages\\urllib3\\connectionpool.py:1045: InsecureRequestWarning: Unverified HTTPS request is being made to host 'www.scrapethissite.com'. Adding certificate verification is strongly advised. See: https://urllib3.readthedocs.io/en/1.26.x/advanced-usage.html#ssl-warnings\n",
      "  warnings.warn(\n"
     ]
    }
   ],
   "source": [
    "page = 1\n",
    "total_pages = 10\n",
    "\n",
    "while page <= total_pages:\n",
    "    url = f\"https://www.scrapethissite.com/pages/forms/?page_num={page}\"\n",
    "\n",
    "    source = requests.get(url, verify = False)\n",
    "\n",
    "    html_text = BeautifulSoup(source.text, 'html.parser')\n",
    "\n",
    "    table = html_text.find_all('tr', class_ = \"team\")\n",
    "\n",
    "    for values in table:\n",
    "        name =values.find('td', class_='name').text.strip()\n",
    "        year =int(values.find('td', class_ = 'year').text.strip())\n",
    "        wins =int(values.find('td', class_ = 'wins').text.strip())\n",
    "        losses = int(values.find('td', class_ = 'losses').text.strip())\n",
    "        gf =int(values.find('td', class_ = 'gf').text.strip())\n",
    "        ga =int(values.find('td', class_ = 'ga').text.strip())\n",
    "    #     win_pct = values.find('td',class_= 'pct text-success')\n",
    "    #     win_pct = values.find('td', attrs = {'class':'pct text-success'}).text.strip()\n",
    "#         print(name, year, wins, losses, gf, ga)\n",
    "        sheet.append([name, year, wins, losses, gf, ga])\n",
    "    page+=1\n",
    "\n",
    "excel.save('Hockey_team_web_scrapping_Multiple_pages.xlsx')"
   ]
  }
 ],
 "metadata": {
  "kernelspec": {
   "display_name": "Python 3 (ipykernel)",
   "language": "python",
   "name": "python3"
  },
  "language_info": {
   "codemirror_mode": {
    "name": "ipython",
    "version": 3
   },
   "file_extension": ".py",
   "mimetype": "text/x-python",
   "name": "python",
   "nbconvert_exporter": "python",
   "pygments_lexer": "ipython3",
   "version": "3.10.4"
  }
 },
 "nbformat": 4,
 "nbformat_minor": 5
}
